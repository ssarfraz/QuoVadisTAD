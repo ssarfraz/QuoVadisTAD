{
 "cells": [
  {
   "cell_type": "markdown",
   "id": "580bf547-48b3-4d46-876c-468fd82a43e5",
   "metadata": {},
   "source": [
    "This notebook demonstrates how to use the `data_loader` to prepare the data for analysis.\n",
    "\n",
    "Please refer to the [instruction to access the datasets](https://github.com/ssarfraz/QuoVadisTAD/blob/feature/data_loaders/resources/processed_datasets/README.md).\n"
   ]
  },
  {
   "cell_type": "code",
   "execution_count": 1,
   "id": "66e4c181-09f2-462f-b233-e45b3bfca910",
   "metadata": {},
   "outputs": [],
   "source": [
    "%load_ext autoreload\n",
    "%autoreload 2"
   ]
  },
  {
   "cell_type": "code",
   "execution_count": 2,
   "id": "25ff13c1-afee-4cd9-83b8-ec6fb0fec6bf",
   "metadata": {},
   "outputs": [],
   "source": [
    "import os\n",
    "import sys\n",
    "from pathlib import Path\n",
    "module_path = str(Path.cwd().parents[0])\n",
    "if module_path not in sys.path:\n",
    "    sys.path.append(module_path)\n",
    "\n",
    "import numpy as np\n",
    "\n",
    "from quovadis_tad.dataset_utils.data_utils import find_files_in_path, extract_ucr_internal_bleeding_dataset"
   ]
  },
  {
   "cell_type": "markdown",
   "id": "60830f41-6060-4208-963c-8209cf6a0b5e",
   "metadata": {},
   "source": [
    "## UCR Internal Bleeding Dataset\n",
    "\n",
    "Load and prepare it for the further analysis.\n",
    "\n",
    "The preprocessing script and dataset are taken from https://github.com/imperial-qore/TranAD/blob/main/preprocess.py"
   ]
  },
  {
   "cell_type": "code",
   "execution_count": 3,
   "id": "c9389183-0196-4ecb-8675-73ceb40d9061",
   "metadata": {},
   "outputs": [],
   "source": [
    "# config\n",
    "\n",
    "dataset_name = \"UCR\"\n",
    "dataset_directory = os.path.join(module_path, \"resources\", \"raw_datasets\", dataset_name)\n",
    "output_dir = os.path.join(module_path, \"resources\", \"processed_datasets\", dataset_name)\n"
   ]
  },
  {
   "cell_type": "code",
   "execution_count": 4,
   "id": "374f754c-4085-49d6-a0d9-f6f32ac6792f",
   "metadata": {},
   "outputs": [
    {
     "name": "stdout",
     "output_type": "stream",
     "text": [
      "C:\\meiyche_github\\QuoVadisTAD\\resources\\raw_datasets\\UCR\n"
     ]
    }
   ],
   "source": [
    "print(dataset_directory)"
   ]
  },
  {
   "cell_type": "code",
   "execution_count": 5,
   "id": "260b13b5-e8c6-4ca9-8da6-4117f8d283c4",
   "metadata": {},
   "outputs": [
    {
     "data": {
      "text/plain": [
       "['135_UCR_Anomaly_InternalBleeding16_1200_4187_4199.txt',\n",
       " '136_UCR_Anomaly_InternalBleeding17_1600_3198_3309.txt',\n",
       " '137_UCR_Anomaly_InternalBleeding18_2300_4485_4587.txt',\n",
       " '138_UCR_Anomaly_InternalBleeding19_3000_4187_4197.txt']"
      ]
     },
     "execution_count": 5,
     "metadata": {},
     "output_type": "execute_result"
    }
   ],
   "source": [
    "find_files_in_path(directory=dataset_directory, file_ending=\"txt\")"
   ]
  },
  {
   "cell_type": "code",
   "execution_count": 6,
   "id": "062ac824-fd86-4876-9f6b-5b182047b117",
   "metadata": {},
   "outputs": [],
   "source": [
    "# Split the raw data from txt files into .npy files train, test, label for further analysis\n",
    "extract_ucr_internal_bleeding_dataset(\n",
    "    dataset_folder=dataset_directory, \n",
    "    output_dir=output_dir\n",
    "    )"
   ]
  },
  {
   "cell_type": "markdown",
   "id": "1c05e8be-f3a8-416e-9f18-eca9838a7a52",
   "metadata": {},
   "source": [
    "# Simple baseline results match the paper and notebooks"
   ]
  },
  {
   "cell_type": "code",
   "execution_count": 8,
   "id": "7be5c559-daab-4e62-aec1-801992e2546f",
   "metadata": {},
   "outputs": [],
   "source": [
    "from quovadis_tad.eval_simple_baselines import evaluate_simple_baselines_on_all_paper_datasets"
   ]
  },
  {
   "cell_type": "code",
   "execution_count": 9,
   "id": "5b6331c1-0738-48cc-9246-337f28a7580e",
   "metadata": {},
   "outputs": [
    {
     "name": "stdout",
     "output_type": "stream",
     "text": [
      "[INFO:] UCR contains 4 data traces\n"
     ]
    }
   ],
   "source": [
    "df_point_wise = evaluate_simple_baselines_on_all_paper_datasets(\n",
    "    root_path=module_path,\n",
    "    dataset_names=['ucr_IB_16', 'ucr_IB_17', 'ucr_IB_18', 'ucr_IB_19', 'ucr_IB'],\n",
    "    data_normalization=\"0-1\",              \n",
    "    eval_method='point_wise',   \n",
    "    score_normalization='optimal',\n",
    "    verbose=False,\n",
    ")"
   ]
  },
  {
   "cell_type": "code",
   "execution_count": 10,
   "id": "21d1c7e5-ab10-46dd-92ab-e24fd0cfaef9",
   "metadata": {},
   "outputs": [
    {
     "data": {
      "text/html": [
       "<style type=\"text/css\">\n",
       "</style>\n",
       "<table id=\"T_f9f7d\">\n",
       "  <thead>\n",
       "    <tr>\n",
       "      <th class=\"blank level0\" >&nbsp;</th>\n",
       "      <th id=\"T_f9f7d_level0_col0\" class=\"col_heading level0 col0\" >UCR_IB_16</th>\n",
       "      <th id=\"T_f9f7d_level0_col1\" class=\"col_heading level0 col1\" >UCR_IB_17</th>\n",
       "      <th id=\"T_f9f7d_level0_col2\" class=\"col_heading level0 col2\" >UCR_IB_18</th>\n",
       "      <th id=\"T_f9f7d_level0_col3\" class=\"col_heading level0 col3\" >UCR_IB_19</th>\n",
       "      <th id=\"T_f9f7d_level0_col4\" class=\"col_heading level0 col4\" >UCR_IB</th>\n",
       "    </tr>\n",
       "    <tr>\n",
       "      <th class=\"blank level1\" >&nbsp;</th>\n",
       "      <th id=\"T_f9f7d_level1_col0\" class=\"col_heading level1 col0\" >F1</th>\n",
       "      <th id=\"T_f9f7d_level1_col1\" class=\"col_heading level1 col1\" >F1</th>\n",
       "      <th id=\"T_f9f7d_level1_col2\" class=\"col_heading level1 col2\" >F1</th>\n",
       "      <th id=\"T_f9f7d_level1_col3\" class=\"col_heading level1 col3\" >F1</th>\n",
       "      <th id=\"T_f9f7d_level1_col4\" class=\"col_heading level1 col4\" >F1</th>\n",
       "    </tr>\n",
       "  </thead>\n",
       "  <tbody>\n",
       "    <tr>\n",
       "      <th id=\"T_f9f7d_level0_row0\" class=\"row_heading level0 row0\" >Sensor Range Deviation</th>\n",
       "      <td id=\"T_f9f7d_row0_col0\" class=\"data row0 col0\" >0.004</td>\n",
       "      <td id=\"T_f9f7d_row0_col1\" class=\"data row0 col1\" >0.085</td>\n",
       "      <td id=\"T_f9f7d_row0_col2\" class=\"data row0 col2\" >0.038</td>\n",
       "      <td id=\"T_f9f7d_row0_col3\" class=\"data row0 col3\" >0.004</td>\n",
       "      <td id=\"T_f9f7d_row0_col4\" class=\"data row0 col4\" >0.033</td>\n",
       "    </tr>\n",
       "    <tr>\n",
       "      <th id=\"T_f9f7d_level0_row1\" class=\"row_heading level0 row1\" >Simple L2_norm</th>\n",
       "      <td id=\"T_f9f7d_row1_col0\" class=\"data row1 col0\" >0.011</td>\n",
       "      <td id=\"T_f9f7d_row1_col1\" class=\"data row1 col1\" >0.058</td>\n",
       "      <td id=\"T_f9f7d_row1_col2\" class=\"data row1 col2\" >0.061</td>\n",
       "      <td id=\"T_f9f7d_row1_col3\" class=\"data row1 col3\" >0.017</td>\n",
       "      <td id=\"T_f9f7d_row1_col4\" class=\"data row1 col4\" >0.037</td>\n",
       "    </tr>\n",
       "    <tr>\n",
       "      <th id=\"T_f9f7d_level0_row2\" class=\"row_heading level0 row2\" >1-NN Distance</th>\n",
       "      <td id=\"T_f9f7d_row2_col0\" class=\"data row2 col0\" >0.786</td>\n",
       "      <td id=\"T_f9f7d_row2_col1\" class=\"data row2 col1\" >0.973</td>\n",
       "      <td id=\"T_f9f7d_row2_col2\" class=\"data row2 col2\" >0.889</td>\n",
       "      <td id=\"T_f9f7d_row2_col3\" class=\"data row2 col3\" >0.870</td>\n",
       "      <td id=\"T_f9f7d_row2_col4\" class=\"data row2 col4\" >0.879</td>\n",
       "    </tr>\n",
       "    <tr>\n",
       "      <th id=\"T_f9f7d_level0_row3\" class=\"row_heading level0 row3\" >PCA_Error</th>\n",
       "      <td id=\"T_f9f7d_row3_col0\" class=\"data row3 col0\" >0.750</td>\n",
       "      <td id=\"T_f9f7d_row3_col1\" class=\"data row3 col1\" >0.974</td>\n",
       "      <td id=\"T_f9f7d_row3_col2\" class=\"data row3 col2\" >0.990</td>\n",
       "      <td id=\"T_f9f7d_row3_col3\" class=\"data row3 col3\" >1.000</td>\n",
       "      <td id=\"T_f9f7d_row3_col4\" class=\"data row3 col4\" >0.928</td>\n",
       "    </tr>\n",
       "  </tbody>\n",
       "</table>\n"
      ],
      "text/plain": [
       "<pandas.io.formats.style.Styler at 0x2afacb60c40>"
      ]
     },
     "execution_count": 10,
     "metadata": {},
     "output_type": "execute_result"
    }
   ],
   "source": [
    "(\n",
    "    df_point_wise\n",
    "    .drop(['P', 'R','AUPRC'], axis=1, level=1)\n",
    "    .style\n",
    "    .format(precision=3)\n",
    ")"
   ]
  },
  {
   "cell_type": "code",
   "execution_count": null,
   "id": "4cfb8e4b-71c2-4ae3-a24a-b701b1c95700",
   "metadata": {},
   "outputs": [],
   "source": []
  }
 ],
 "metadata": {
  "kernelspec": {
   "display_name": "Python 3 (ipykernel)",
   "language": "python",
   "name": "python3"
  },
  "language_info": {
   "codemirror_mode": {
    "name": "ipython",
    "version": 3
   },
   "file_extension": ".py",
   "mimetype": "text/x-python",
   "name": "python",
   "nbconvert_exporter": "python",
   "pygments_lexer": "ipython3",
   "version": "3.10.0"
  }
 },
 "nbformat": 4,
 "nbformat_minor": 5
}
