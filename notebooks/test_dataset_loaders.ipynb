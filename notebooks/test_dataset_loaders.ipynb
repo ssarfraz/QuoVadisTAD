{
 "cells": [
  {
   "cell_type": "markdown",
   "id": "580bf547-48b3-4d46-876c-468fd82a43e5",
   "metadata": {},
   "source": [
    "This notebook demonstrates how to use the `data_loader` to prepare the data for analysis.\n",
    "\n",
    "Please refer to the [instruction to access the datasets](https://github.com/ssarfraz/QuoVadisTAD/blob/feature/data_loaders/resources/processed_datasets/README.md).\n"
   ]
  },
  {
   "cell_type": "code",
   "execution_count": 1,
   "id": "66e4c181-09f2-462f-b233-e45b3bfca910",
   "metadata": {},
   "outputs": [],
   "source": [
    "%load_ext autoreload\n",
    "%autoreload 2"
   ]
  },
  {
   "cell_type": "code",
   "execution_count": 2,
   "id": "25ff13c1-afee-4cd9-83b8-ec6fb0fec6bf",
   "metadata": {},
   "outputs": [],
   "source": [
    "import os\n",
    "import sys\n",
    "from pathlib import Path\n",
    "module_path = str(Path.cwd().parents[0])\n",
    "if module_path not in sys.path:\n",
    "    sys.path.append(module_path)\n",
    "\n",
    "import numpy as np\n",
    "\n",
    "from quovadis_tad.dataset_utils.data_utils import find_files_in_path, extract_ucr_internal_bleeding_dataset"
   ]
  },
  {
   "cell_type": "code",
   "execution_count": 3,
   "id": "0974ed8c-095d-4965-bcfd-bcac760b35cd",
   "metadata": {},
   "outputs": [],
   "source": [
    "# Config\n",
    "root_raw_dataset_directory = os.path.join(module_path, \"resources\", \"raw_datasets\")\n",
    "root_prepared_dataset_directory = os.path.join(module_path, \"resources\", \"processed_datasets\")"
   ]
  },
  {
   "cell_type": "markdown",
   "id": "60830f41-6060-4208-963c-8209cf6a0b5e",
   "metadata": {},
   "source": [
    "## UCR Internal Bleeding Dataset\n",
    "\n",
    "Load and prepare it for the further analysis.\n",
    "\n",
    "The preprocessing script and dataset are taken from https://github.com/imperial-qore/TranAD/blob/main/preprocess.py"
   ]
  },
  {
   "cell_type": "code",
   "execution_count": 4,
   "id": "c9389183-0196-4ecb-8675-73ceb40d9061",
   "metadata": {},
   "outputs": [],
   "source": [
    "# config\n",
    "\n",
    "dataset_name = \"UCR\"\n",
    "dataset_directory = os.path.join(root_raw_dataset_directory, dataset_name)\n",
    "output_dir = os.path.join(root_prepared_dataset_directory, dataset_name)\n"
   ]
  },
  {
   "cell_type": "code",
   "execution_count": 5,
   "id": "374f754c-4085-49d6-a0d9-f6f32ac6792f",
   "metadata": {},
   "outputs": [
    {
     "name": "stdout",
     "output_type": "stream",
     "text": [
      "C:\\meiyche_github\\QuoVadisTAD\\resources\\raw_datasets\\UCR\n"
     ]
    }
   ],
   "source": [
    "print(dataset_directory)"
   ]
  },
  {
   "cell_type": "code",
   "execution_count": 6,
   "id": "260b13b5-e8c6-4ca9-8da6-4117f8d283c4",
   "metadata": {},
   "outputs": [
    {
     "data": {
      "text/plain": [
       "['135_UCR_Anomaly_InternalBleeding16_1200_4187_4199.txt',\n",
       " '136_UCR_Anomaly_InternalBleeding17_1600_3198_3309.txt',\n",
       " '137_UCR_Anomaly_InternalBleeding18_2300_4485_4587.txt',\n",
       " '138_UCR_Anomaly_InternalBleeding19_3000_4187_4197.txt']"
      ]
     },
     "execution_count": 6,
     "metadata": {},
     "output_type": "execute_result"
    }
   ],
   "source": [
    "find_files_in_path(directory=dataset_directory, file_ending=\"txt\")"
   ]
  },
  {
   "cell_type": "code",
   "execution_count": 7,
   "id": "062ac824-fd86-4876-9f6b-5b182047b117",
   "metadata": {},
   "outputs": [],
   "source": [
    "# Split the raw data from txt files into .npy files train, test, label for further analysis\n",
    "extract_ucr_internal_bleeding_dataset(\n",
    "    dataset_folder=dataset_directory, \n",
    "    output_dir=output_dir\n",
    "    )"
   ]
  },
  {
   "cell_type": "markdown",
   "id": "1c05e8be-f3a8-416e-9f18-eca9838a7a52",
   "metadata": {},
   "source": [
    "# Simple baseline results match the paper and notebooks"
   ]
  },
  {
   "cell_type": "code",
   "execution_count": 8,
   "id": "7be5c559-daab-4e62-aec1-801992e2546f",
   "metadata": {},
   "outputs": [],
   "source": [
    "from quovadis_tad.eval_simple_baselines import evaluate_simple_baselines_on_all_paper_datasets"
   ]
  },
  {
   "cell_type": "code",
   "execution_count": 9,
   "id": "5b6331c1-0738-48cc-9246-337f28a7580e",
   "metadata": {},
   "outputs": [
    {
     "name": "stdout",
     "output_type": "stream",
     "text": [
      "[INFO:] UCR contains 4 data traces\n"
     ]
    }
   ],
   "source": [
    "df_point_wise = evaluate_simple_baselines_on_all_paper_datasets(\n",
    "    root_path=module_path,\n",
    "    dataset_names=['ucr_IB_16', 'ucr_IB_17', 'ucr_IB_18', 'ucr_IB_19', 'ucr_IB'],\n",
    "    data_normalization=\"0-1\",              \n",
    "    eval_method='point_wise',   \n",
    "    score_normalization='optimal',\n",
    "    verbose=False,\n",
    ")"
   ]
  },
  {
   "cell_type": "code",
   "execution_count": 10,
   "id": "21d1c7e5-ab10-46dd-92ab-e24fd0cfaef9",
   "metadata": {},
   "outputs": [
    {
     "data": {
      "text/html": [
       "<style type=\"text/css\">\n",
       "</style>\n",
       "<table id=\"T_3ccbf\">\n",
       "  <thead>\n",
       "    <tr>\n",
       "      <th class=\"blank level0\" >&nbsp;</th>\n",
       "      <th id=\"T_3ccbf_level0_col0\" class=\"col_heading level0 col0\" >UCR_IB_16</th>\n",
       "      <th id=\"T_3ccbf_level0_col1\" class=\"col_heading level0 col1\" >UCR_IB_17</th>\n",
       "      <th id=\"T_3ccbf_level0_col2\" class=\"col_heading level0 col2\" >UCR_IB_18</th>\n",
       "      <th id=\"T_3ccbf_level0_col3\" class=\"col_heading level0 col3\" >UCR_IB_19</th>\n",
       "      <th id=\"T_3ccbf_level0_col4\" class=\"col_heading level0 col4\" >UCR_IB</th>\n",
       "    </tr>\n",
       "    <tr>\n",
       "      <th class=\"blank level1\" >&nbsp;</th>\n",
       "      <th id=\"T_3ccbf_level1_col0\" class=\"col_heading level1 col0\" >F1</th>\n",
       "      <th id=\"T_3ccbf_level1_col1\" class=\"col_heading level1 col1\" >F1</th>\n",
       "      <th id=\"T_3ccbf_level1_col2\" class=\"col_heading level1 col2\" >F1</th>\n",
       "      <th id=\"T_3ccbf_level1_col3\" class=\"col_heading level1 col3\" >F1</th>\n",
       "      <th id=\"T_3ccbf_level1_col4\" class=\"col_heading level1 col4\" >F1</th>\n",
       "    </tr>\n",
       "  </thead>\n",
       "  <tbody>\n",
       "    <tr>\n",
       "      <th id=\"T_3ccbf_level0_row0\" class=\"row_heading level0 row0\" >Sensor Range Deviation</th>\n",
       "      <td id=\"T_3ccbf_row0_col0\" class=\"data row0 col0\" >0.004</td>\n",
       "      <td id=\"T_3ccbf_row0_col1\" class=\"data row0 col1\" >0.085</td>\n",
       "      <td id=\"T_3ccbf_row0_col2\" class=\"data row0 col2\" >0.038</td>\n",
       "      <td id=\"T_3ccbf_row0_col3\" class=\"data row0 col3\" >0.004</td>\n",
       "      <td id=\"T_3ccbf_row0_col4\" class=\"data row0 col4\" >0.033</td>\n",
       "    </tr>\n",
       "    <tr>\n",
       "      <th id=\"T_3ccbf_level0_row1\" class=\"row_heading level0 row1\" >Simple L2_norm</th>\n",
       "      <td id=\"T_3ccbf_row1_col0\" class=\"data row1 col0\" >0.011</td>\n",
       "      <td id=\"T_3ccbf_row1_col1\" class=\"data row1 col1\" >0.058</td>\n",
       "      <td id=\"T_3ccbf_row1_col2\" class=\"data row1 col2\" >0.061</td>\n",
       "      <td id=\"T_3ccbf_row1_col3\" class=\"data row1 col3\" >0.017</td>\n",
       "      <td id=\"T_3ccbf_row1_col4\" class=\"data row1 col4\" >0.037</td>\n",
       "    </tr>\n",
       "    <tr>\n",
       "      <th id=\"T_3ccbf_level0_row2\" class=\"row_heading level0 row2\" >1-NN Distance</th>\n",
       "      <td id=\"T_3ccbf_row2_col0\" class=\"data row2 col0\" >0.786</td>\n",
       "      <td id=\"T_3ccbf_row2_col1\" class=\"data row2 col1\" >0.973</td>\n",
       "      <td id=\"T_3ccbf_row2_col2\" class=\"data row2 col2\" >0.889</td>\n",
       "      <td id=\"T_3ccbf_row2_col3\" class=\"data row2 col3\" >0.870</td>\n",
       "      <td id=\"T_3ccbf_row2_col4\" class=\"data row2 col4\" >0.879</td>\n",
       "    </tr>\n",
       "    <tr>\n",
       "      <th id=\"T_3ccbf_level0_row3\" class=\"row_heading level0 row3\" >PCA_Error</th>\n",
       "      <td id=\"T_3ccbf_row3_col0\" class=\"data row3 col0\" >0.750</td>\n",
       "      <td id=\"T_3ccbf_row3_col1\" class=\"data row3 col1\" >0.974</td>\n",
       "      <td id=\"T_3ccbf_row3_col2\" class=\"data row3 col2\" >0.990</td>\n",
       "      <td id=\"T_3ccbf_row3_col3\" class=\"data row3 col3\" >1.000</td>\n",
       "      <td id=\"T_3ccbf_row3_col4\" class=\"data row3 col4\" >0.928</td>\n",
       "    </tr>\n",
       "  </tbody>\n",
       "</table>\n"
      ],
      "text/plain": [
       "<pandas.io.formats.style.Styler at 0x1fbb09d5480>"
      ]
     },
     "execution_count": 10,
     "metadata": {},
     "output_type": "execute_result"
    }
   ],
   "source": [
    "(\n",
    "    df_point_wise\n",
    "    .drop(['P', 'R','AUPRC'], axis=1, level=1)\n",
    "    .style\n",
    "    .format(precision=3)\n",
    ")"
   ]
  },
  {
   "cell_type": "code",
   "execution_count": null,
   "id": "4cfb8e4b-71c2-4ae3-a24a-b701b1c95700",
   "metadata": {},
   "outputs": [],
   "source": []
  },
  {
   "cell_type": "markdown",
   "id": "007de279-7112-4076-b99a-2403aad8acab",
   "metadata": {},
   "source": [
    "## SMD\n",
    "\n",
    "1. import the data and save to prepared folder\n",
    "2. run simple baseline and compare the results"
   ]
  },
  {
   "cell_type": "code",
   "execution_count": 11,
   "id": "4bbde6e1-c5da-48d7-9fa2-8af0146b1777",
   "metadata": {},
   "outputs": [],
   "source": [
    "# set the dirs\n",
    "dataset_name = \"SMD\"\n",
    "dataset_directory = os.path.join(root_raw_dataset_directory, dataset_name)\n",
    "output_dir = os.path.join(root_prepared_dataset_directory)"
   ]
  },
  {
   "cell_type": "code",
   "execution_count": 12,
   "id": "71be5e1e-660a-46a2-b7e3-e4f298d3fb2e",
   "metadata": {},
   "outputs": [],
   "source": [
    "filenames = find_files_in_path(directory=dataset_directory, file_ending=\"txt\")"
   ]
  },
  {
   "cell_type": "code",
   "execution_count": 13,
   "id": "2de391d5-9f99-41c3-a176-3041b24b51fe",
   "metadata": {},
   "outputs": [
    {
     "name": "stdout",
     "output_type": "stream",
     "text": [
      "['machine-1-1.txt', 'machine-1-2.txt', 'machine-1-3.txt', 'machine-1-4.txt', 'machine-1-5.txt']\n",
      "N of files: 112\n"
     ]
    }
   ],
   "source": [
    "print(filenames[0:5])\n",
    "print(\"N of files:\", len(filenames))"
   ]
  },
  {
   "cell_type": "code",
   "execution_count": null,
   "id": "61aab971-01f9-4f2f-ba12-a043c078b81b",
   "metadata": {},
   "outputs": [],
   "source": []
  },
  {
   "cell_type": "markdown",
   "id": "0427526b-c0a8-4685-8b6b-17601939e2d7",
   "metadata": {},
   "source": [
    "## Test and try to understand the script"
   ]
  },
  {
   "cell_type": "code",
   "execution_count": 14,
   "id": "4802e372-6fc5-4e91-a5ec-b0c968ec6924",
   "metadata": {},
   "outputs": [],
   "source": [
    "from quovadis_tad.dataset_utils.data_utils import extract_smd_dataset"
   ]
  },
  {
   "cell_type": "code",
   "execution_count": 15,
   "id": "63e7ff21-d838-4abe-843e-96fe858e67b1",
   "metadata": {},
   "outputs": [
    {
     "name": "stdout",
     "output_type": "stream",
     "text": [
      "machine-1-1 train machine-1-1.txt (28479, 38)\n",
      "machine-1-1 test machine-1-1.txt (28479, 38)\n",
      "machine-1-1 labels machine-1-1.txt (28479, 38)\n",
      "machine-1-2 train machine-1-2.txt (23694, 38)\n",
      "machine-1-2 test machine-1-2.txt (23694, 38)\n",
      "machine-1-2 labels machine-1-2.txt (23694, 38)\n",
      "machine-1-3 train machine-1-3.txt (23702, 38)\n",
      "machine-1-3 test machine-1-3.txt (23703, 38)\n",
      "machine-1-3 labels machine-1-3.txt (23703, 38)\n",
      "machine-1-4 train machine-1-4.txt (23706, 38)\n",
      "machine-1-4 test machine-1-4.txt (23707, 38)\n",
      "machine-1-4 labels machine-1-4.txt (23707, 38)\n",
      "machine-1-5 train machine-1-5.txt (23705, 38)\n",
      "machine-1-5 test machine-1-5.txt (23706, 38)\n",
      "machine-1-5 labels machine-1-5.txt (23706, 38)\n",
      "machine-1-6 train machine-1-6.txt (23688, 38)\n",
      "machine-1-6 test machine-1-6.txt (23689, 38)\n",
      "machine-1-6 labels machine-1-6.txt (23689, 38)\n",
      "machine-1-7 train machine-1-7.txt (23697, 38)\n",
      "machine-1-7 test machine-1-7.txt (23697, 38)\n",
      "machine-1-7 labels machine-1-7.txt (23697, 38)\n",
      "machine-1-8 train machine-1-8.txt (23698, 38)\n",
      "machine-1-8 test machine-1-8.txt (23699, 38)\n",
      "machine-1-8 labels machine-1-8.txt (23699, 38)\n",
      "machine-2-1 train machine-2-1.txt (23693, 38)\n",
      "machine-2-1 test machine-2-1.txt (23694, 38)\n",
      "machine-2-1 labels machine-2-1.txt (23694, 38)\n",
      "machine-2-2 train machine-2-2.txt (23699, 38)\n",
      "machine-2-2 test machine-2-2.txt (23700, 38)\n",
      "machine-2-2 labels machine-2-2.txt (23700, 38)\n",
      "machine-2-3 train machine-2-3.txt (23688, 38)\n",
      "machine-2-3 test machine-2-3.txt (23689, 38)\n",
      "machine-2-3 labels machine-2-3.txt (23689, 38)\n",
      "machine-2-4 train machine-2-4.txt (23689, 38)\n",
      "machine-2-4 test machine-2-4.txt (23689, 38)\n",
      "machine-2-4 labels machine-2-4.txt (23689, 38)\n",
      "machine-2-5 train machine-2-5.txt (23688, 38)\n",
      "machine-2-5 test machine-2-5.txt (23689, 38)\n",
      "machine-2-5 labels machine-2-5.txt (23689, 38)\n",
      "machine-2-6 train machine-2-6.txt (28743, 38)\n",
      "machine-2-6 test machine-2-6.txt (28743, 38)\n",
      "machine-2-6 labels machine-2-6.txt (28743, 38)\n",
      "machine-2-7 train machine-2-7.txt (23696, 38)\n",
      "machine-2-7 test machine-2-7.txt (23696, 38)\n",
      "machine-2-7 labels machine-2-7.txt (23696, 38)\n",
      "machine-2-8 train machine-2-8.txt (23702, 38)\n",
      "machine-2-8 test machine-2-8.txt (23703, 38)\n",
      "machine-2-8 labels machine-2-8.txt (23703, 38)\n",
      "machine-2-9 train machine-2-9.txt (28722, 38)\n",
      "machine-2-9 test machine-2-9.txt (28722, 38)\n",
      "machine-2-9 labels machine-2-9.txt (28722, 38)\n",
      "machine-3-1 train machine-3-1.txt (28700, 38)\n",
      "machine-3-1 test machine-3-1.txt (28700, 38)\n",
      "machine-3-1 labels machine-3-1.txt (28700, 38)\n",
      "machine-3-10 train machine-3-10.txt (23692, 38)\n",
      "machine-3-10 test machine-3-10.txt (23693, 38)\n",
      "machine-3-10 labels machine-3-10.txt (23693, 38)\n",
      "machine-3-11 train machine-3-11.txt (28695, 38)\n",
      "machine-3-11 test machine-3-11.txt (28696, 38)\n",
      "machine-3-11 labels machine-3-11.txt (28696, 38)\n",
      "machine-3-2 train machine-3-2.txt (23702, 38)\n",
      "machine-3-2 test machine-3-2.txt (23703, 38)\n",
      "machine-3-2 labels machine-3-2.txt (23703, 38)\n",
      "machine-3-3 train machine-3-3.txt (23703, 38)\n",
      "machine-3-3 test machine-3-3.txt (23703, 38)\n",
      "machine-3-3 labels machine-3-3.txt (23703, 38)\n",
      "machine-3-4 train machine-3-4.txt (23687, 38)\n",
      "machine-3-4 test machine-3-4.txt (23687, 38)\n",
      "machine-3-4 labels machine-3-4.txt (23687, 38)\n",
      "machine-3-5 train machine-3-5.txt (23690, 38)\n",
      "machine-3-5 test machine-3-5.txt (23691, 38)\n",
      "machine-3-5 labels machine-3-5.txt (23691, 38)\n",
      "machine-3-6 train machine-3-6.txt (28726, 38)\n",
      "machine-3-6 test machine-3-6.txt (28726, 38)\n",
      "machine-3-6 labels machine-3-6.txt (28726, 38)\n",
      "machine-3-7 train machine-3-7.txt (28705, 38)\n",
      "machine-3-7 test machine-3-7.txt (28705, 38)\n",
      "machine-3-7 labels machine-3-7.txt (28705, 38)\n",
      "machine-3-8 train machine-3-8.txt (28703, 38)\n",
      "machine-3-8 test machine-3-8.txt (28704, 38)\n",
      "machine-3-8 labels machine-3-8.txt (28704, 38)\n",
      "machine-3-9 train machine-3-9.txt (28713, 38)\n",
      "machine-3-9 test machine-3-9.txt (28713, 38)\n",
      "machine-3-9 labels machine-3-9.txt (28713, 38)\n"
     ]
    }
   ],
   "source": [
    "extract_smd_dataset(\n",
    "    dataset_folder=dataset_directory, \n",
    "    output_dir=output_dir,\n",
    ")"
   ]
  },
  {
   "cell_type": "code",
   "execution_count": 16,
   "id": "9465e0f3-7a90-4b82-8cd5-9e22e1c92296",
   "metadata": {},
   "outputs": [
    {
     "name": "stdout",
     "output_type": "stream",
     "text": [
      "[INFO:] SMD contains 28 data traces.\n"
     ]
    }
   ],
   "source": [
    "df_point_wise = evaluate_simple_baselines_on_all_paper_datasets(\n",
    "    root_path=module_path,\n",
    "    dataset_names=['smd'],\n",
    "    data_normalization=\"0-1\",              \n",
    "    eval_method='point_wise',   \n",
    "    score_normalization='optimal',\n",
    "    verbose=False,\n",
    ")"
   ]
  },
  {
   "cell_type": "code",
   "execution_count": 17,
   "id": "a4f4ef41-5aaa-4925-8c7a-c620cb3cf932",
   "metadata": {},
   "outputs": [
    {
     "data": {
      "text/html": [
       "<style type=\"text/css\">\n",
       "</style>\n",
       "<table id=\"T_af269\">\n",
       "  <thead>\n",
       "    <tr>\n",
       "      <th class=\"blank level0\" >&nbsp;</th>\n",
       "      <th id=\"T_af269_level0_col0\" class=\"col_heading level0 col0\" >SMD</th>\n",
       "    </tr>\n",
       "    <tr>\n",
       "      <th class=\"blank level1\" >&nbsp;</th>\n",
       "      <th id=\"T_af269_level1_col0\" class=\"col_heading level1 col0\" >F1</th>\n",
       "    </tr>\n",
       "  </thead>\n",
       "  <tbody>\n",
       "    <tr>\n",
       "      <th id=\"T_af269_level0_row0\" class=\"row_heading level0 row0\" >Sensor Range Deviation</th>\n",
       "      <td id=\"T_af269_row0_col0\" class=\"data row0 col0\" >0.132</td>\n",
       "    </tr>\n",
       "    <tr>\n",
       "      <th id=\"T_af269_level0_row1\" class=\"row_heading level0 row1\" >Simple L2_norm</th>\n",
       "      <td id=\"T_af269_row1_col0\" class=\"data row1 col0\" >0.404</td>\n",
       "    </tr>\n",
       "    <tr>\n",
       "      <th id=\"T_af269_level0_row2\" class=\"row_heading level0 row2\" >1-NN Distance</th>\n",
       "      <td id=\"T_af269_row2_col0\" class=\"data row2 col0\" >0.463</td>\n",
       "    </tr>\n",
       "    <tr>\n",
       "      <th id=\"T_af269_level0_row3\" class=\"row_heading level0 row3\" >PCA_Error</th>\n",
       "      <td id=\"T_af269_row3_col0\" class=\"data row3 col0\" >0.572</td>\n",
       "    </tr>\n",
       "  </tbody>\n",
       "</table>\n"
      ],
      "text/plain": [
       "<pandas.io.formats.style.Styler at 0x1fbb92f36d0>"
      ]
     },
     "execution_count": 17,
     "metadata": {},
     "output_type": "execute_result"
    }
   ],
   "source": [
    "(\n",
    "    df_point_wise\n",
    "    .drop(['P', 'R','AUPRC'], axis=1, level=1)\n",
    "    .style\n",
    "    .format(precision=3)\n",
    ")  # Verified with Suppl. Table 9. - PCA Error in paper = 0.536 < here = 0.572. This could be due to the selected PCA method."
   ]
  },
  {
   "cell_type": "code",
   "execution_count": null,
   "id": "71bb0d5d-25c9-48ac-9865-619aa9cbe3ef",
   "metadata": {},
   "outputs": [],
   "source": []
  },
  {
   "cell_type": "markdown",
   "id": "539794d9-9846-4649-bf5c-220f113b07b5",
   "metadata": {},
   "source": [
    "## SMAP and MSL\n",
    "\n",
    "1. import the data and save to prepared folder\n",
    "2. run simple baseline and compare the results"
   ]
  },
  {
   "cell_type": "code",
   "execution_count": 18,
   "id": "7b0d250f-1af2-49c0-ba0a-62ce88832f19",
   "metadata": {},
   "outputs": [],
   "source": [
    "dataset_name = \"SMAP_MSL\"\n",
    "dataset_directory = os.path.join(root_raw_dataset_directory, dataset_name)\n",
    "output_dir = os.path.join(root_prepared_dataset_directory)"
   ]
  },
  {
   "cell_type": "code",
   "execution_count": 19,
   "id": "6fafe3b6-c202-4ae2-8367-e5a58f7bf20f",
   "metadata": {},
   "outputs": [],
   "source": [
    "filenames = find_files_in_path(directory=dataset_directory, file_ending=\"txt\")"
   ]
  },
  {
   "cell_type": "code",
   "execution_count": 20,
   "id": "743e9f19-88a2-4b5b-b1e0-b06fb6372346",
   "metadata": {},
   "outputs": [
    {
     "name": "stdout",
     "output_type": "stream",
     "text": [
      "[]\n",
      "N of files: 0\n"
     ]
    }
   ],
   "source": [
    "print(filenames[0:5])\n",
    "print(\"N of files:\", len(filenames))"
   ]
  },
  {
   "cell_type": "code",
   "execution_count": null,
   "id": "97223dee-c66f-4989-b945-0c41b0504d31",
   "metadata": {},
   "outputs": [],
   "source": []
  },
  {
   "cell_type": "markdown",
   "id": "e48ccb63-7ecc-4f53-b77c-b72946a60ad7",
   "metadata": {},
   "source": [
    "## Test and try to understand the script"
   ]
  },
  {
   "cell_type": "code",
   "execution_count": 21,
   "id": "a800a3c3-9e8d-4325-beef-5c2e20ffa3dc",
   "metadata": {},
   "outputs": [],
   "source": [
    "from quovadis_tad.dataset_utils.data_utils import extract_smap_msl_dataset"
   ]
  },
  {
   "cell_type": "markdown",
   "id": "deecc6d6-5c9b-4f7b-b5ba-4c5d85162a7d",
   "metadata": {},
   "source": [
    "#### SMAP"
   ]
  },
  {
   "cell_type": "code",
   "execution_count": 22,
   "id": "14432053-4e64-47f4-8045-ae8396ba5934",
   "metadata": {},
   "outputs": [],
   "source": [
    "extract_smap_msl_dataset(dataset_folder=dataset_directory, output_dir=output_dir, dataset=\"SMAP\")"
   ]
  },
  {
   "cell_type": "code",
   "execution_count": 23,
   "id": "f03126bd-5842-4203-bc4b-b331de327418",
   "metadata": {},
   "outputs": [
    {
     "name": "stdout",
     "output_type": "stream",
     "text": [
      "[INFO:] SMAP contains 54 data traces.\n"
     ]
    },
    {
     "name": "stderr",
     "output_type": "stream",
     "text": [
      "C:\\Users\\MEIYCHE\\AppData\\Local\\pypoetry\\Cache\\virtualenvs\\quovadis-tad-cslQHbbE-py3.10\\lib\\site-packages\\sklearn\\decomposition\\_pca.py:559: RuntimeWarning: invalid value encountered in divide\n",
      "  explained_variance_ratio_ = explained_variance_ / total_var\n",
      "C:\\Users\\MEIYCHE\\AppData\\Local\\pypoetry\\Cache\\virtualenvs\\quovadis-tad-cslQHbbE-py3.10\\lib\\site-packages\\sklearn\\decomposition\\_pca.py:559: RuntimeWarning: invalid value encountered in divide\n",
      "  explained_variance_ratio_ = explained_variance_ / total_var\n"
     ]
    }
   ],
   "source": [
    "df_point_wise = evaluate_simple_baselines_on_all_paper_datasets(\n",
    "    root_path=module_path,\n",
    "    dataset_names=['smap'],\n",
    "    data_normalization=\"0-1\",              \n",
    "    eval_method='point_wise',   \n",
    "    score_normalization='optimal',\n",
    "    verbose=False,\n",
    ")"
   ]
  },
  {
   "cell_type": "code",
   "execution_count": 24,
   "id": "ee12c83a-04d9-4374-b660-9ac80316bc45",
   "metadata": {},
   "outputs": [
    {
     "data": {
      "text/html": [
       "<style type=\"text/css\">\n",
       "</style>\n",
       "<table id=\"T_cc43b\">\n",
       "  <thead>\n",
       "    <tr>\n",
       "      <th class=\"blank level0\" >&nbsp;</th>\n",
       "      <th id=\"T_cc43b_level0_col0\" class=\"col_heading level0 col0\" >SMAP</th>\n",
       "    </tr>\n",
       "    <tr>\n",
       "      <th class=\"blank level1\" >&nbsp;</th>\n",
       "      <th id=\"T_cc43b_level1_col0\" class=\"col_heading level1 col0\" >F1</th>\n",
       "    </tr>\n",
       "  </thead>\n",
       "  <tbody>\n",
       "    <tr>\n",
       "      <th id=\"T_cc43b_level0_row0\" class=\"row_heading level0 row0\" >Sensor Range Deviation</th>\n",
       "      <td id=\"T_cc43b_row0_col0\" class=\"data row0 col0\" >0.273</td>\n",
       "    </tr>\n",
       "    <tr>\n",
       "      <th id=\"T_cc43b_level0_row1\" class=\"row_heading level0 row1\" >Simple L2_norm</th>\n",
       "      <td id=\"T_cc43b_row1_col0\" class=\"data row1 col0\" >0.351</td>\n",
       "    </tr>\n",
       "    <tr>\n",
       "      <th id=\"T_cc43b_level0_row2\" class=\"row_heading level0 row2\" >1-NN Distance</th>\n",
       "      <td id=\"T_cc43b_row2_col0\" class=\"data row2 col0\" >0.352</td>\n",
       "    </tr>\n",
       "    <tr>\n",
       "      <th id=\"T_cc43b_level0_row3\" class=\"row_heading level0 row3\" >PCA_Error</th>\n",
       "      <td id=\"T_cc43b_row3_col0\" class=\"data row3 col0\" >0.387</td>\n",
       "    </tr>\n",
       "  </tbody>\n",
       "</table>\n"
      ],
      "text/plain": [
       "<pandas.io.formats.style.Styler at 0x1fbb92f9480>"
      ]
     },
     "execution_count": 24,
     "metadata": {},
     "output_type": "execute_result"
    }
   ],
   "source": [
    "(\n",
    "    df_point_wise\n",
    "    .drop(['P', 'R','AUPRC'], axis=1, level=1)\n",
    "    .style\n",
    "    .format(precision=3)\n",
    ")  # Verified - matched Suppl. Table 8. However, PCA_Error in Table 8 = 0.361 < here 0.387. This could be due to the selected PCA method."
   ]
  },
  {
   "cell_type": "code",
   "execution_count": null,
   "id": "2aa05f18-dc9b-4085-9f86-ee8e660edeed",
   "metadata": {},
   "outputs": [],
   "source": []
  },
  {
   "cell_type": "code",
   "execution_count": 25,
   "id": "cf71926d-709a-4289-9a63-075645875855",
   "metadata": {},
   "outputs": [],
   "source": [
    "#### MSL"
   ]
  },
  {
   "cell_type": "code",
   "execution_count": 26,
   "id": "60a76f43-3ba9-424a-be67-a1b17cf3bc10",
   "metadata": {},
   "outputs": [],
   "source": [
    "extract_smap_msl_dataset(dataset_folder=dataset_directory, output_dir=output_dir, dataset=\"MSL\")"
   ]
  },
  {
   "cell_type": "code",
   "execution_count": 27,
   "id": "372e4306-f8af-495b-8802-55e365cf5df3",
   "metadata": {},
   "outputs": [
    {
     "name": "stdout",
     "output_type": "stream",
     "text": [
      "[INFO:] MSL contains 27 data traces.\n"
     ]
    }
   ],
   "source": [
    "df_point_wise = evaluate_simple_baselines_on_all_paper_datasets(\n",
    "    root_path=module_path,\n",
    "    dataset_names=['msl'],\n",
    "    data_normalization=\"0-1\",              \n",
    "    eval_method='point_wise',   \n",
    "    score_normalization='optimal',\n",
    "    verbose=False,\n",
    ")"
   ]
  },
  {
   "cell_type": "code",
   "execution_count": 28,
   "id": "f67954f9-ee87-41b5-b212-e9f58b7d0132",
   "metadata": {},
   "outputs": [
    {
     "data": {
      "text/html": [
       "<style type=\"text/css\">\n",
       "</style>\n",
       "<table id=\"T_018d2\">\n",
       "  <thead>\n",
       "    <tr>\n",
       "      <th class=\"blank level0\" >&nbsp;</th>\n",
       "      <th id=\"T_018d2_level0_col0\" class=\"col_heading level0 col0\" >MSL</th>\n",
       "    </tr>\n",
       "    <tr>\n",
       "      <th class=\"blank level1\" >&nbsp;</th>\n",
       "      <th id=\"T_018d2_level1_col0\" class=\"col_heading level1 col0\" >F1</th>\n",
       "    </tr>\n",
       "  </thead>\n",
       "  <tbody>\n",
       "    <tr>\n",
       "      <th id=\"T_018d2_level0_row0\" class=\"row_heading level0 row0\" >Sensor Range Deviation</th>\n",
       "      <td id=\"T_018d2_row0_col0\" class=\"data row0 col0\" >0.328</td>\n",
       "    </tr>\n",
       "    <tr>\n",
       "      <th id=\"T_018d2_level0_row1\" class=\"row_heading level0 row1\" >Simple L2_norm</th>\n",
       "      <td id=\"T_018d2_row1_col0\" class=\"data row1 col0\" >0.395</td>\n",
       "    </tr>\n",
       "    <tr>\n",
       "      <th id=\"T_018d2_level0_row2\" class=\"row_heading level0 row2\" >1-NN Distance</th>\n",
       "      <td id=\"T_018d2_row2_col0\" class=\"data row2 col0\" >0.404</td>\n",
       "    </tr>\n",
       "    <tr>\n",
       "      <th id=\"T_018d2_level0_row3\" class=\"row_heading level0 row3\" >PCA_Error</th>\n",
       "      <td id=\"T_018d2_row3_col0\" class=\"data row3 col0\" >0.426</td>\n",
       "    </tr>\n",
       "  </tbody>\n",
       "</table>\n"
      ],
      "text/plain": [
       "<pandas.io.formats.style.Styler at 0x1fbb92fbb50>"
      ]
     },
     "execution_count": 28,
     "metadata": {},
     "output_type": "execute_result"
    }
   ],
   "source": [
    "(\n",
    "    df_point_wise\n",
    "    .drop(['P', 'R','AUPRC'], axis=1, level=1)\n",
    "    .style\n",
    "    .format(precision=3)\n",
    ")  # verified: matched Suppli. Table 8."
   ]
  },
  {
   "cell_type": "code",
   "execution_count": null,
   "id": "1c097bef-accd-4a17-bf81-ad23adce4112",
   "metadata": {},
   "outputs": [],
   "source": []
  }
 ],
 "metadata": {
  "kernelspec": {
   "display_name": "Python 3 (ipykernel)",
   "language": "python",
   "name": "python3"
  },
  "language_info": {
   "codemirror_mode": {
    "name": "ipython",
    "version": 3
   },
   "file_extension": ".py",
   "mimetype": "text/x-python",
   "name": "python",
   "nbconvert_exporter": "python",
   "pygments_lexer": "ipython3",
   "version": "3.10.0"
  }
 },
 "nbformat": 4,
 "nbformat_minor": 5
}
