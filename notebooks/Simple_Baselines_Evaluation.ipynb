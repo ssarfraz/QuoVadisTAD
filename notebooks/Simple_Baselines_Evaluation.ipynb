{
 "cells": [
  {
   "cell_type": "code",
   "execution_count": 1,
   "id": "a47a61cf-2b8f-44d8-9143-a81be51dfb97",
   "metadata": {},
   "outputs": [],
   "source": [
    "%load_ext autoreload\n",
    "%autoreload 2"
   ]
  },
  {
   "cell_type": "code",
   "execution_count": 2,
   "id": "a88dfa08-8d34-4c00-b044-d3e71fd14870",
   "metadata": {},
   "outputs": [],
   "source": [
    "import sys\n",
    "from pathlib import Path\n",
    "module_path = str(Path.cwd().parents[0])\n",
    "if module_path not in sys.path:\n",
    "    sys.path.append(module_path)"
   ]
  },
  {
   "cell_type": "code",
   "execution_count": 3,
   "id": "c23c7905-d987-4197-9524-96a1f81da73c",
   "metadata": {
    "tags": []
   },
   "outputs": [],
   "source": [
    "import os\n",
    "import numpy as np\n",
    "import pandas as pd\n",
    "import random\n",
    "from src.eval_simple_baselines import evaluate_datasets"
   ]
  },
  {
   "cell_type": "markdown",
   "id": "cea08463-b13f-4bde-ab14-77c1eda29f4e",
   "metadata": {},
   "source": [
    "# Run & Evaluate Simple Baselines and Summarize"
   ]
  },
  {
   "cell_type": "code",
   "execution_count": 4,
   "id": "15efe816-31ee-45a0-98c7-238c84edc41c",
   "metadata": {},
   "outputs": [],
   "source": [
    "def highlight_max(s, props=''):\n",
    "    return np.where(s == np.nanmax(s.values), props, '')"
   ]
  },
  {
   "cell_type": "markdown",
   "id": "9d2a5ba9-7d63-43a3-96e1-d8a0b21778e3",
   "metadata": {},
   "source": [
    "## Evaluate a dataset\n",
    "We can evaluate one or multiple datasets under both point-wise or range-wise metrics"
   ]
  },
  {
   "cell_type": "code",
   "execution_count": 5,
   "id": "83248628-ed35-4f83-b70c-554e5fbb2d33",
   "metadata": {},
   "outputs": [
    {
     "name": "stdout",
     "output_type": "stream",
     "text": [
      "[INFO]: Evaluating 1 datasets\n",
      " Evaluation on SWAT finished\n"
     ]
    }
   ],
   "source": [
    "_, df_std = evaluate_datasets(module_path,\n",
    "                      dataset_names_ordered=['swat'],   # provide one or more dataset names e.g swat, wadi_127, wadi_112, smd, ucr_IB, see dataset_reader enum\n",
    "                      preprocessing=\"0-1\",              \n",
    "                      eval_method='point_wise',         # evaluation method one of point_wsie, range_wise or point_adjust\n",
    "                      pca_dim=30,\n",
    "                      show_norm_impact=False,           # if true will provide results of pca_error under different normalisations\n",
    "                      verbose=True)"
   ]
  },
  {
   "cell_type": "code",
   "execution_count": 6,
   "id": "d13d4360-37e1-433d-956d-a9f0f9b350d5",
   "metadata": {},
   "outputs": [
    {
     "data": {
      "text/html": [
       "<style type=\"text/css\">\n",
       "#T_6b7fd_row0_col2, #T_6b7fd_row1_col1, #T_6b7fd_row3_col0, #T_6b7fd_row3_col3 {\n",
       "  color: white;\n",
       "  background-color: darkblue;\n",
       "}\n",
       "</style>\n",
       "<table id=\"T_6b7fd\">\n",
       "  <thead>\n",
       "    <tr>\n",
       "      <th class=\"blank level0\" >&nbsp;</th>\n",
       "      <th id=\"T_6b7fd_level0_col0\" class=\"col_heading level0 col0\" colspan=\"4\">SWAT</th>\n",
       "    </tr>\n",
       "    <tr>\n",
       "      <th class=\"blank level1\" >&nbsp;</th>\n",
       "      <th id=\"T_6b7fd_level1_col0\" class=\"col_heading level1 col0\" >F1</th>\n",
       "      <th id=\"T_6b7fd_level1_col1\" class=\"col_heading level1 col1\" >P</th>\n",
       "      <th id=\"T_6b7fd_level1_col2\" class=\"col_heading level1 col2\" >R</th>\n",
       "      <th id=\"T_6b7fd_level1_col3\" class=\"col_heading level1 col3\" >AUPRC</th>\n",
       "    </tr>\n",
       "  </thead>\n",
       "  <tbody>\n",
       "    <tr>\n",
       "      <th id=\"T_6b7fd_level0_row0\" class=\"row_heading level0 row0\" >Sensor Range Deviation</th>\n",
       "      <td id=\"T_6b7fd_row0_col0\" class=\"data row0 col0\" >0.231</td>\n",
       "      <td id=\"T_6b7fd_row0_col1\" class=\"data row0 col1\" >0.131</td>\n",
       "      <td id=\"T_6b7fd_row0_col2\" class=\"data row0 col2\" >0.979</td>\n",
       "      <td id=\"T_6b7fd_row0_col3\" class=\"data row0 col3\" >0.556</td>\n",
       "    </tr>\n",
       "    <tr>\n",
       "      <th id=\"T_6b7fd_level0_row1\" class=\"row_heading level0 row1\" >Simple L2_norm</th>\n",
       "      <td id=\"T_6b7fd_row1_col0\" class=\"data row1 col0\" >0.782</td>\n",
       "      <td id=\"T_6b7fd_row1_col1\" class=\"data row1 col1\" >0.985</td>\n",
       "      <td id=\"T_6b7fd_row1_col2\" class=\"data row1 col2\" >0.648</td>\n",
       "      <td id=\"T_6b7fd_row1_col3\" class=\"data row1 col3\" >0.715</td>\n",
       "    </tr>\n",
       "    <tr>\n",
       "      <th id=\"T_6b7fd_level0_row2\" class=\"row_heading level0 row2\" >1-NN Distance</th>\n",
       "      <td id=\"T_6b7fd_row2_col0\" class=\"data row2 col0\" >0.782</td>\n",
       "      <td id=\"T_6b7fd_row2_col1\" class=\"data row2 col1\" >0.984</td>\n",
       "      <td id=\"T_6b7fd_row2_col2\" class=\"data row2 col2\" >0.649</td>\n",
       "      <td id=\"T_6b7fd_row2_col3\" class=\"data row2 col3\" >0.726</td>\n",
       "    </tr>\n",
       "    <tr>\n",
       "      <th id=\"T_6b7fd_level0_row3\" class=\"row_heading level0 row3\" >PCA_Error</th>\n",
       "      <td id=\"T_6b7fd_row3_col0\" class=\"data row3 col0\" >0.833</td>\n",
       "      <td id=\"T_6b7fd_row3_col1\" class=\"data row3 col1\" >0.964</td>\n",
       "      <td id=\"T_6b7fd_row3_col2\" class=\"data row3 col2\" >0.733</td>\n",
       "      <td id=\"T_6b7fd_row3_col3\" class=\"data row3 col3\" >0.732</td>\n",
       "    </tr>\n",
       "  </tbody>\n",
       "</table>\n"
      ],
      "text/plain": [
       "<pandas.io.formats.style.Styler at 0x2386b460700>"
      ]
     },
     "execution_count": 6,
     "metadata": {},
     "output_type": "execute_result"
    }
   ],
   "source": [
    "df_std.style.set_precision(3).apply(highlight_max, props='color:white;background-color:darkblue', axis=0)\n"
   ]
  },
  {
   "cell_type": "markdown",
   "id": "cdadb11d-9bc6-44e8-8ab3-db2f6555c068",
   "metadata": {},
   "source": [
    "### See the impact of different score normalisations"
   ]
  },
  {
   "cell_type": "code",
   "execution_count": 7,
   "id": "de2db466-c93a-495d-a3f7-6a55accf01dc",
   "metadata": {},
   "outputs": [
    {
     "name": "stdout",
     "output_type": "stream",
     "text": [
      "[INFO]: Evaluating 1 datasets\n",
      " Evaluation on SWAT finished\n"
     ]
    }
   ],
   "source": [
    "_, df_std = evaluate_datasets(module_path,\n",
    "                      dataset_names_ordered=['swat'],   # provide one or more dataset names e.g swat, wadi_127, wadi_112, smd, ucr_IB, see dataset_reader enum\n",
    "                      preprocessing=\"0-1\",              \n",
    "                      eval_method='point_wise',         # evaluation method one of point_wsie, range_wise or point_adjust\n",
    "                      pca_dim=30,\n",
    "                      show_norm_impact=True,           # if true will provide results of pca_error under different normalisations\n",
    "                      verbose=True)"
   ]
  },
  {
   "cell_type": "code",
   "execution_count": 8,
   "id": "66408d15-052e-474c-b393-d4c4d55770a8",
   "metadata": {},
   "outputs": [
    {
     "data": {
      "text/html": [
       "<style type=\"text/css\">\n",
       "#T_1e8d6_row0_col2, #T_1e8d6_row3_col1, #T_1e8d6_row3_col3, #T_1e8d6_row4_col0 {\n",
       "  color: white;\n",
       "  background-color: darkblue;\n",
       "}\n",
       "</style>\n",
       "<table id=\"T_1e8d6\">\n",
       "  <thead>\n",
       "    <tr>\n",
       "      <th class=\"blank level0\" >&nbsp;</th>\n",
       "      <th id=\"T_1e8d6_level0_col0\" class=\"col_heading level0 col0\" colspan=\"4\">SWAT</th>\n",
       "    </tr>\n",
       "    <tr>\n",
       "      <th class=\"blank level1\" >&nbsp;</th>\n",
       "      <th id=\"T_1e8d6_level1_col0\" class=\"col_heading level1 col0\" >F1</th>\n",
       "      <th id=\"T_1e8d6_level1_col1\" class=\"col_heading level1 col1\" >P</th>\n",
       "      <th id=\"T_1e8d6_level1_col2\" class=\"col_heading level1 col2\" >R</th>\n",
       "      <th id=\"T_1e8d6_level1_col3\" class=\"col_heading level1 col3\" >AUPRC</th>\n",
       "    </tr>\n",
       "  </thead>\n",
       "  <tbody>\n",
       "    <tr>\n",
       "      <th id=\"T_1e8d6_level0_row0\" class=\"row_heading level0 row0\" >Sensor Range Deviation</th>\n",
       "      <td id=\"T_1e8d6_row0_col0\" class=\"data row0 col0\" >0.231</td>\n",
       "      <td id=\"T_1e8d6_row0_col1\" class=\"data row0 col1\" >0.131</td>\n",
       "      <td id=\"T_1e8d6_row0_col2\" class=\"data row0 col2\" >0.979</td>\n",
       "      <td id=\"T_1e8d6_row0_col3\" class=\"data row0 col3\" >0.556</td>\n",
       "    </tr>\n",
       "    <tr>\n",
       "      <th id=\"T_1e8d6_level0_row1\" class=\"row_heading level0 row1\" >Simple L2_norm</th>\n",
       "      <td id=\"T_1e8d6_row1_col0\" class=\"data row1 col0\" >0.782</td>\n",
       "      <td id=\"T_1e8d6_row1_col1\" class=\"data row1 col1\" >0.985</td>\n",
       "      <td id=\"T_1e8d6_row1_col2\" class=\"data row1 col2\" >0.648</td>\n",
       "      <td id=\"T_1e8d6_row1_col3\" class=\"data row1 col3\" >0.715</td>\n",
       "    </tr>\n",
       "    <tr>\n",
       "      <th id=\"T_1e8d6_level0_row2\" class=\"row_heading level0 row2\" >1-NN Distance</th>\n",
       "      <td id=\"T_1e8d6_row2_col0\" class=\"data row2 col0\" >0.782</td>\n",
       "      <td id=\"T_1e8d6_row2_col1\" class=\"data row2 col1\" >0.984</td>\n",
       "      <td id=\"T_1e8d6_row2_col2\" class=\"data row2 col2\" >0.649</td>\n",
       "      <td id=\"T_1e8d6_row2_col3\" class=\"data row2 col3\" >0.726</td>\n",
       "    </tr>\n",
       "    <tr>\n",
       "      <th id=\"T_1e8d6_level0_row3\" class=\"row_heading level0 row3\" >PCA_Error(median-iqr norm)</th>\n",
       "      <td id=\"T_1e8d6_row3_col0\" class=\"data row3 col0\" >0.794</td>\n",
       "      <td id=\"T_1e8d6_row3_col1\" class=\"data row3 col1\" >0.995</td>\n",
       "      <td id=\"T_1e8d6_row3_col2\" class=\"data row3 col2\" >0.660</td>\n",
       "      <td id=\"T_1e8d6_row3_col3\" class=\"data row3 col3\" >0.752</td>\n",
       "    </tr>\n",
       "    <tr>\n",
       "      <th id=\"T_1e8d6_level0_row4\" class=\"row_heading level0 row4\" >PCA_Error(mean-std norm)</th>\n",
       "      <td id=\"T_1e8d6_row4_col0\" class=\"data row4 col0\" >0.833</td>\n",
       "      <td id=\"T_1e8d6_row4_col1\" class=\"data row4 col1\" >0.964</td>\n",
       "      <td id=\"T_1e8d6_row4_col2\" class=\"data row4 col2\" >0.733</td>\n",
       "      <td id=\"T_1e8d6_row4_col3\" class=\"data row4 col3\" >0.732</td>\n",
       "    </tr>\n",
       "    <tr>\n",
       "      <th id=\"T_1e8d6_level0_row5\" class=\"row_heading level0 row5\" >PCA_Error(no norm)</th>\n",
       "      <td id=\"T_1e8d6_row5_col0\" class=\"data row5 col0\" >0.770</td>\n",
       "      <td id=\"T_1e8d6_row5_col1\" class=\"data row5 col1\" >0.985</td>\n",
       "      <td id=\"T_1e8d6_row5_col2\" class=\"data row5 col2\" >0.632</td>\n",
       "      <td id=\"T_1e8d6_row5_col3\" class=\"data row5 col3\" >0.710</td>\n",
       "    </tr>\n",
       "  </tbody>\n",
       "</table>\n"
      ],
      "text/plain": [
       "<pandas.io.formats.style.Styler at 0x2386c26f9a0>"
      ]
     },
     "execution_count": 8,
     "metadata": {},
     "output_type": "execute_result"
    }
   ],
   "source": [
    "df_std.style.set_precision(3).apply(highlight_max, props='color:white;background-color:darkblue', axis=0)\n"
   ]
  },
  {
   "cell_type": "code",
   "execution_count": null,
   "id": "920ea8e2-4b5d-4328-b329-9ca5a33bfb2e",
   "metadata": {},
   "outputs": [],
   "source": []
  },
  {
   "cell_type": "markdown",
   "id": "b43c461e-16ae-4b59-aa0f-84d30c15facd",
   "metadata": {},
   "source": [
    "# Evaluate All Datasets"
   ]
  },
  {
   "cell_type": "markdown",
   "id": "98b4a4ac-00fe-432c-a199-9bece91d5997",
   "metadata": {},
   "source": [
    "## Evaluate all datasets under Point-Wise metrics"
   ]
  },
  {
   "cell_type": "code",
   "execution_count": 9,
   "id": "17d7c04c-fbab-4e91-b3a6-fa425a3431e6",
   "metadata": {},
   "outputs": [
    {
     "name": "stdout",
     "output_type": "stream",
     "text": [
      "[INFO]: Evaluating 7 datasets\n",
      " Evaluation on SWAT finished\n",
      " Evaluation on WADI_127 finished\n",
      " Evaluation on WADI_112 finished\n",
      "[INFO:] SMD contains 28 data traces.\n",
      " Evaluation on SMD finished: on 28 traces,  results are averaged\n",
      "[INFO:] MSL contains 27 data traces.\n",
      " Evaluation on MSL finished: on 27 traces,  results are averaged\n",
      "[INFO:] SMAP contains 54 data traces.\n",
      " Evaluation on SMAP finished: on 54 traces,  results are averaged\n",
      "[INFO:] UCR contains 4 data traces\n",
      " Evaluation on UCR_IB finished: on 4 traces,  results are averaged\n"
     ]
    }
   ],
   "source": [
    "_, df_point_wise = evaluate_datasets(module_path,\n",
    "                      dataset_names_ordered=None,\n",
    "                      preprocessing=\"0-1\",\n",
    "                      eval_method='point_wise',\n",
    "                      pca_dim=30,\n",
    "                      show_norm_impact=False,\n",
    "                      verbose=True)"
   ]
  },
  {
   "cell_type": "code",
   "execution_count": 10,
   "id": "cde6306a-4a3a-443b-bae4-a75926049cc6",
   "metadata": {},
   "outputs": [
    {
     "data": {
      "text/html": [
       "<style type=\"text/css\">\n",
       "#T_b919d_row0_col2, #T_b919d_row0_col6, #T_b919d_row0_col14, #T_b919d_row0_col18, #T_b919d_row0_col19, #T_b919d_row0_col22, #T_b919d_row0_col23, #T_b919d_row1_col1, #T_b919d_row1_col5, #T_b919d_row1_col9, #T_b919d_row1_col17, #T_b919d_row2_col5, #T_b919d_row2_col13, #T_b919d_row2_col21, #T_b919d_row3_col0, #T_b919d_row3_col3, #T_b919d_row3_col4, #T_b919d_row3_col7, #T_b919d_row3_col8, #T_b919d_row3_col10, #T_b919d_row3_col11, #T_b919d_row3_col12, #T_b919d_row3_col15, #T_b919d_row3_col16, #T_b919d_row3_col20, #T_b919d_row3_col24, #T_b919d_row3_col25, #T_b919d_row3_col26, #T_b919d_row3_col27 {\n",
       "  color: white;\n",
       "  background-color: darkblue;\n",
       "}\n",
       "</style>\n",
       "<table id=\"T_b919d\">\n",
       "  <thead>\n",
       "    <tr>\n",
       "      <th class=\"blank level0\" >&nbsp;</th>\n",
       "      <th id=\"T_b919d_level0_col0\" class=\"col_heading level0 col0\" colspan=\"4\">SWAT</th>\n",
       "      <th id=\"T_b919d_level0_col4\" class=\"col_heading level0 col4\" colspan=\"4\">WADI_127</th>\n",
       "      <th id=\"T_b919d_level0_col8\" class=\"col_heading level0 col8\" colspan=\"4\">WADI_112</th>\n",
       "      <th id=\"T_b919d_level0_col12\" class=\"col_heading level0 col12\" colspan=\"4\">SMD</th>\n",
       "      <th id=\"T_b919d_level0_col16\" class=\"col_heading level0 col16\" colspan=\"4\">MSL</th>\n",
       "      <th id=\"T_b919d_level0_col20\" class=\"col_heading level0 col20\" colspan=\"4\">SMAP</th>\n",
       "      <th id=\"T_b919d_level0_col24\" class=\"col_heading level0 col24\" colspan=\"4\">UCR_IB</th>\n",
       "    </tr>\n",
       "    <tr>\n",
       "      <th class=\"blank level1\" >&nbsp;</th>\n",
       "      <th id=\"T_b919d_level1_col0\" class=\"col_heading level1 col0\" >F1</th>\n",
       "      <th id=\"T_b919d_level1_col1\" class=\"col_heading level1 col1\" >P</th>\n",
       "      <th id=\"T_b919d_level1_col2\" class=\"col_heading level1 col2\" >R</th>\n",
       "      <th id=\"T_b919d_level1_col3\" class=\"col_heading level1 col3\" >AUPRC</th>\n",
       "      <th id=\"T_b919d_level1_col4\" class=\"col_heading level1 col4\" >F1</th>\n",
       "      <th id=\"T_b919d_level1_col5\" class=\"col_heading level1 col5\" >P</th>\n",
       "      <th id=\"T_b919d_level1_col6\" class=\"col_heading level1 col6\" >R</th>\n",
       "      <th id=\"T_b919d_level1_col7\" class=\"col_heading level1 col7\" >AUPRC</th>\n",
       "      <th id=\"T_b919d_level1_col8\" class=\"col_heading level1 col8\" >F1</th>\n",
       "      <th id=\"T_b919d_level1_col9\" class=\"col_heading level1 col9\" >P</th>\n",
       "      <th id=\"T_b919d_level1_col10\" class=\"col_heading level1 col10\" >R</th>\n",
       "      <th id=\"T_b919d_level1_col11\" class=\"col_heading level1 col11\" >AUPRC</th>\n",
       "      <th id=\"T_b919d_level1_col12\" class=\"col_heading level1 col12\" >F1</th>\n",
       "      <th id=\"T_b919d_level1_col13\" class=\"col_heading level1 col13\" >P</th>\n",
       "      <th id=\"T_b919d_level1_col14\" class=\"col_heading level1 col14\" >R</th>\n",
       "      <th id=\"T_b919d_level1_col15\" class=\"col_heading level1 col15\" >AUPRC</th>\n",
       "      <th id=\"T_b919d_level1_col16\" class=\"col_heading level1 col16\" >F1</th>\n",
       "      <th id=\"T_b919d_level1_col17\" class=\"col_heading level1 col17\" >P</th>\n",
       "      <th id=\"T_b919d_level1_col18\" class=\"col_heading level1 col18\" >R</th>\n",
       "      <th id=\"T_b919d_level1_col19\" class=\"col_heading level1 col19\" >AUPRC</th>\n",
       "      <th id=\"T_b919d_level1_col20\" class=\"col_heading level1 col20\" >F1</th>\n",
       "      <th id=\"T_b919d_level1_col21\" class=\"col_heading level1 col21\" >P</th>\n",
       "      <th id=\"T_b919d_level1_col22\" class=\"col_heading level1 col22\" >R</th>\n",
       "      <th id=\"T_b919d_level1_col23\" class=\"col_heading level1 col23\" >AUPRC</th>\n",
       "      <th id=\"T_b919d_level1_col24\" class=\"col_heading level1 col24\" >F1</th>\n",
       "      <th id=\"T_b919d_level1_col25\" class=\"col_heading level1 col25\" >P</th>\n",
       "      <th id=\"T_b919d_level1_col26\" class=\"col_heading level1 col26\" >R</th>\n",
       "      <th id=\"T_b919d_level1_col27\" class=\"col_heading level1 col27\" >AUPRC</th>\n",
       "    </tr>\n",
       "  </thead>\n",
       "  <tbody>\n",
       "    <tr>\n",
       "      <th id=\"T_b919d_level0_row0\" class=\"row_heading level0 row0\" >Sensor Range Deviation</th>\n",
       "      <td id=\"T_b919d_row0_col0\" class=\"data row0 col0\" >0.231</td>\n",
       "      <td id=\"T_b919d_row0_col1\" class=\"data row0 col1\" >0.131</td>\n",
       "      <td id=\"T_b919d_row0_col2\" class=\"data row0 col2\" >0.979</td>\n",
       "      <td id=\"T_b919d_row0_col3\" class=\"data row0 col3\" >0.556</td>\n",
       "      <td id=\"T_b919d_row0_col4\" class=\"data row0 col4\" >0.101</td>\n",
       "      <td id=\"T_b919d_row0_col5\" class=\"data row0 col5\" >0.053</td>\n",
       "      <td id=\"T_b919d_row0_col6\" class=\"data row0 col6\" >1.000</td>\n",
       "      <td id=\"T_b919d_row0_col7\" class=\"data row0 col7\" >0.317</td>\n",
       "      <td id=\"T_b919d_row0_col8\" class=\"data row0 col8\" >0.465</td>\n",
       "      <td id=\"T_b919d_row0_col9\" class=\"data row0 col9\" >0.567</td>\n",
       "      <td id=\"T_b919d_row0_col10\" class=\"data row0 col10\" >0.394</td>\n",
       "      <td id=\"T_b919d_row0_col11\" class=\"data row0 col11\" >0.497</td>\n",
       "      <td id=\"T_b919d_row0_col12\" class=\"data row0 col12\" >0.132</td>\n",
       "      <td id=\"T_b919d_row0_col13\" class=\"data row0 col13\" >0.110</td>\n",
       "      <td id=\"T_b919d_row0_col14\" class=\"data row0 col14\" >0.682</td>\n",
       "      <td id=\"T_b919d_row0_col15\" class=\"data row0 col15\" >0.321</td>\n",
       "      <td id=\"T_b919d_row0_col16\" class=\"data row0 col16\" >0.328</td>\n",
       "      <td id=\"T_b919d_row0_col17\" class=\"data row0 col17\" >0.420</td>\n",
       "      <td id=\"T_b919d_row0_col18\" class=\"data row0 col18\" >0.736</td>\n",
       "      <td id=\"T_b919d_row0_col19\" class=\"data row0 col19\" >0.537</td>\n",
       "      <td id=\"T_b919d_row0_col20\" class=\"data row0 col20\" >0.273</td>\n",
       "      <td id=\"T_b919d_row0_col21\" class=\"data row0 col21\" >0.423</td>\n",
       "      <td id=\"T_b919d_row0_col22\" class=\"data row0 col22\" >0.750</td>\n",
       "      <td id=\"T_b919d_row0_col23\" class=\"data row0 col23\" >0.588</td>\n",
       "      <td id=\"T_b919d_row0_col24\" class=\"data row0 col24\" >0.033</td>\n",
       "      <td id=\"T_b919d_row0_col25\" class=\"data row0 col25\" >0.056</td>\n",
       "      <td id=\"T_b919d_row0_col26\" class=\"data row0 col26\" >0.764</td>\n",
       "      <td id=\"T_b919d_row0_col27\" class=\"data row0 col27\" >0.037</td>\n",
       "    </tr>\n",
       "    <tr>\n",
       "      <th id=\"T_b919d_level0_row1\" class=\"row_heading level0 row1\" >Simple L2_norm</th>\n",
       "      <td id=\"T_b919d_row1_col0\" class=\"data row1 col0\" >0.782</td>\n",
       "      <td id=\"T_b919d_row1_col1\" class=\"data row1 col1\" >0.985</td>\n",
       "      <td id=\"T_b919d_row1_col2\" class=\"data row1 col2\" >0.648</td>\n",
       "      <td id=\"T_b919d_row1_col3\" class=\"data row1 col3\" >0.715</td>\n",
       "      <td id=\"T_b919d_row1_col4\" class=\"data row1 col4\" >0.281</td>\n",
       "      <td id=\"T_b919d_row1_col5\" class=\"data row1 col5\" >1.000</td>\n",
       "      <td id=\"T_b919d_row1_col6\" class=\"data row1 col6\" >0.163</td>\n",
       "      <td id=\"T_b919d_row1_col7\" class=\"data row1 col7\" >0.210</td>\n",
       "      <td id=\"T_b919d_row1_col8\" class=\"data row1 col8\" >0.513</td>\n",
       "      <td id=\"T_b919d_row1_col9\" class=\"data row1 col9\" >0.887</td>\n",
       "      <td id=\"T_b919d_row1_col10\" class=\"data row1 col10\" >0.361</td>\n",
       "      <td id=\"T_b919d_row1_col11\" class=\"data row1 col11\" >0.474</td>\n",
       "      <td id=\"T_b919d_row1_col12\" class=\"data row1 col12\" >0.404</td>\n",
       "      <td id=\"T_b919d_row1_col13\" class=\"data row1 col13\" >0.569</td>\n",
       "      <td id=\"T_b919d_row1_col14\" class=\"data row1 col14\" >0.455</td>\n",
       "      <td id=\"T_b919d_row1_col15\" class=\"data row1 col15\" >0.343</td>\n",
       "      <td id=\"T_b919d_row1_col16\" class=\"data row1 col16\" >0.395</td>\n",
       "      <td id=\"T_b919d_row1_col17\" class=\"data row1 col17\" >0.451</td>\n",
       "      <td id=\"T_b919d_row1_col18\" class=\"data row1 col18\" >0.665</td>\n",
       "      <td id=\"T_b919d_row1_col19\" class=\"data row1 col19\" >0.305</td>\n",
       "      <td id=\"T_b919d_row1_col20\" class=\"data row1 col20\" >0.351</td>\n",
       "      <td id=\"T_b919d_row1_col21\" class=\"data row1 col21\" >0.389</td>\n",
       "      <td id=\"T_b919d_row1_col22\" class=\"data row1 col22\" >0.673</td>\n",
       "      <td id=\"T_b919d_row1_col23\" class=\"data row1 col23\" >0.253</td>\n",
       "      <td id=\"T_b919d_row1_col24\" class=\"data row1 col24\" >0.037</td>\n",
       "      <td id=\"T_b919d_row1_col25\" class=\"data row1 col25\" >0.019</td>\n",
       "      <td id=\"T_b919d_row1_col26\" class=\"data row1 col26\" >0.885</td>\n",
       "      <td id=\"T_b919d_row1_col27\" class=\"data row1 col27\" >0.014</td>\n",
       "    </tr>\n",
       "    <tr>\n",
       "      <th id=\"T_b919d_level0_row2\" class=\"row_heading level0 row2\" >1-NN Distance</th>\n",
       "      <td id=\"T_b919d_row2_col0\" class=\"data row2 col0\" >0.782</td>\n",
       "      <td id=\"T_b919d_row2_col1\" class=\"data row2 col1\" >0.984</td>\n",
       "      <td id=\"T_b919d_row2_col2\" class=\"data row2 col2\" >0.649</td>\n",
       "      <td id=\"T_b919d_row2_col3\" class=\"data row2 col3\" >0.726</td>\n",
       "      <td id=\"T_b919d_row2_col4\" class=\"data row2 col4\" >0.281</td>\n",
       "      <td id=\"T_b919d_row2_col5\" class=\"data row2 col5\" >1.000</td>\n",
       "      <td id=\"T_b919d_row2_col6\" class=\"data row2 col6\" >0.163</td>\n",
       "      <td id=\"T_b919d_row2_col7\" class=\"data row2 col7\" >0.211</td>\n",
       "      <td id=\"T_b919d_row2_col8\" class=\"data row2 col8\" >0.568</td>\n",
       "      <td id=\"T_b919d_row2_col9\" class=\"data row2 col9\" >0.779</td>\n",
       "      <td id=\"T_b919d_row2_col10\" class=\"data row2 col10\" >0.447</td>\n",
       "      <td id=\"T_b919d_row2_col11\" class=\"data row2 col11\" >0.501</td>\n",
       "      <td id=\"T_b919d_row2_col12\" class=\"data row2 col12\" >0.463</td>\n",
       "      <td id=\"T_b919d_row2_col13\" class=\"data row2 col13\" >0.626</td>\n",
       "      <td id=\"T_b919d_row2_col14\" class=\"data row2 col14\" >0.458</td>\n",
       "      <td id=\"T_b919d_row2_col15\" class=\"data row2 col15\" >0.389</td>\n",
       "      <td id=\"T_b919d_row2_col16\" class=\"data row2 col16\" >0.404</td>\n",
       "      <td id=\"T_b919d_row2_col17\" class=\"data row2 col17\" >0.449</td>\n",
       "      <td id=\"T_b919d_row2_col18\" class=\"data row2 col18\" >0.590</td>\n",
       "      <td id=\"T_b919d_row2_col19\" class=\"data row2 col19\" >0.324</td>\n",
       "      <td id=\"T_b919d_row2_col20\" class=\"data row2 col20\" >0.352</td>\n",
       "      <td id=\"T_b919d_row2_col21\" class=\"data row2 col21\" >0.459</td>\n",
       "      <td id=\"T_b919d_row2_col22\" class=\"data row2 col22\" >0.610</td>\n",
       "      <td id=\"T_b919d_row2_col23\" class=\"data row2 col23\" >0.306</td>\n",
       "      <td id=\"T_b919d_row2_col24\" class=\"data row2 col24\" >0.879</td>\n",
       "      <td id=\"T_b919d_row2_col25\" class=\"data row2 col25\" >0.824</td>\n",
       "      <td id=\"T_b919d_row2_col26\" class=\"data row2 col26\" >0.950</td>\n",
       "      <td id=\"T_b919d_row2_col27\" class=\"data row2 col27\" >0.803</td>\n",
       "    </tr>\n",
       "    <tr>\n",
       "      <th id=\"T_b919d_level0_row3\" class=\"row_heading level0 row3\" >PCA_Error</th>\n",
       "      <td id=\"T_b919d_row3_col0\" class=\"data row3 col0\" >0.833</td>\n",
       "      <td id=\"T_b919d_row3_col1\" class=\"data row3 col1\" >0.964</td>\n",
       "      <td id=\"T_b919d_row3_col2\" class=\"data row3 col2\" >0.733</td>\n",
       "      <td id=\"T_b919d_row3_col3\" class=\"data row3 col3\" >0.732</td>\n",
       "      <td id=\"T_b919d_row3_col4\" class=\"data row3 col4\" >0.501</td>\n",
       "      <td id=\"T_b919d_row3_col5\" class=\"data row3 col5\" >0.884</td>\n",
       "      <td id=\"T_b919d_row3_col6\" class=\"data row3 col6\" >0.350</td>\n",
       "      <td id=\"T_b919d_row3_col7\" class=\"data row3 col7\" >0.476</td>\n",
       "      <td id=\"T_b919d_row3_col8\" class=\"data row3 col8\" >0.655</td>\n",
       "      <td id=\"T_b919d_row3_col9\" class=\"data row3 col9\" >0.752</td>\n",
       "      <td id=\"T_b919d_row3_col10\" class=\"data row3 col10\" >0.580</td>\n",
       "      <td id=\"T_b919d_row3_col11\" class=\"data row3 col11\" >0.570</td>\n",
       "      <td id=\"T_b919d_row3_col12\" class=\"data row3 col12\" >0.572</td>\n",
       "      <td id=\"T_b919d_row3_col13\" class=\"data row3 col13\" >0.611</td>\n",
       "      <td id=\"T_b919d_row3_col14\" class=\"data row3 col14\" >0.584</td>\n",
       "      <td id=\"T_b919d_row3_col15\" class=\"data row3 col15\" >0.515</td>\n",
       "      <td id=\"T_b919d_row3_col16\" class=\"data row3 col16\" >0.446</td>\n",
       "      <td id=\"T_b919d_row3_col17\" class=\"data row3 col17\" >0.427</td>\n",
       "      <td id=\"T_b919d_row3_col18\" class=\"data row3 col18\" >0.589</td>\n",
       "      <td id=\"T_b919d_row3_col19\" class=\"data row3 col19\" >0.328</td>\n",
       "      <td id=\"T_b919d_row3_col20\" class=\"data row3 col20\" >0.387</td>\n",
       "      <td id=\"T_b919d_row3_col21\" class=\"data row3 col21\" >0.426</td>\n",
       "      <td id=\"T_b919d_row3_col22\" class=\"data row3 col22\" >0.645</td>\n",
       "      <td id=\"T_b919d_row3_col23\" class=\"data row3 col23\" >0.273</td>\n",
       "      <td id=\"T_b919d_row3_col24\" class=\"data row3 col24\" >0.928</td>\n",
       "      <td id=\"T_b919d_row3_col25\" class=\"data row3 col25\" >0.882</td>\n",
       "      <td id=\"T_b919d_row3_col26\" class=\"data row3 col26\" >1.000</td>\n",
       "      <td id=\"T_b919d_row3_col27\" class=\"data row3 col27\" >0.933</td>\n",
       "    </tr>\n",
       "  </tbody>\n",
       "</table>\n"
      ],
      "text/plain": [
       "<pandas.io.formats.style.Styler at 0x2386c26fac0>"
      ]
     },
     "execution_count": 10,
     "metadata": {},
     "output_type": "execute_result"
    }
   ],
   "source": [
    "df_point_wise.style.set_precision(3).apply(highlight_max, props='color:white;background-color:darkblue', axis=0)"
   ]
  },
  {
   "cell_type": "code",
   "execution_count": 11,
   "id": "c0a811ab-5eb2-4bdd-9c97-cf9dd0a972b8",
   "metadata": {},
   "outputs": [
    {
     "data": {
      "text/html": [
       "<style type=\"text/css\">\n",
       "#T_43233_row3_col0, #T_43233_row3_col1, #T_43233_row3_col2, #T_43233_row3_col3, #T_43233_row3_col4, #T_43233_row3_col5, #T_43233_row3_col6 {\n",
       "  color: white;\n",
       "  background-color: darkblue;\n",
       "}\n",
       "</style>\n",
       "<table id=\"T_43233\">\n",
       "  <thead>\n",
       "    <tr>\n",
       "      <th class=\"blank level0\" >&nbsp;</th>\n",
       "      <th id=\"T_43233_level0_col0\" class=\"col_heading level0 col0\" >SWAT</th>\n",
       "      <th id=\"T_43233_level0_col1\" class=\"col_heading level0 col1\" >WADI_127</th>\n",
       "      <th id=\"T_43233_level0_col2\" class=\"col_heading level0 col2\" >WADI_112</th>\n",
       "      <th id=\"T_43233_level0_col3\" class=\"col_heading level0 col3\" >SMD</th>\n",
       "      <th id=\"T_43233_level0_col4\" class=\"col_heading level0 col4\" >MSL</th>\n",
       "      <th id=\"T_43233_level0_col5\" class=\"col_heading level0 col5\" >SMAP</th>\n",
       "      <th id=\"T_43233_level0_col6\" class=\"col_heading level0 col6\" >UCR_IB</th>\n",
       "    </tr>\n",
       "    <tr>\n",
       "      <th class=\"blank level1\" >&nbsp;</th>\n",
       "      <th id=\"T_43233_level1_col0\" class=\"col_heading level1 col0\" >F1</th>\n",
       "      <th id=\"T_43233_level1_col1\" class=\"col_heading level1 col1\" >F1</th>\n",
       "      <th id=\"T_43233_level1_col2\" class=\"col_heading level1 col2\" >F1</th>\n",
       "      <th id=\"T_43233_level1_col3\" class=\"col_heading level1 col3\" >F1</th>\n",
       "      <th id=\"T_43233_level1_col4\" class=\"col_heading level1 col4\" >F1</th>\n",
       "      <th id=\"T_43233_level1_col5\" class=\"col_heading level1 col5\" >F1</th>\n",
       "      <th id=\"T_43233_level1_col6\" class=\"col_heading level1 col6\" >F1</th>\n",
       "    </tr>\n",
       "  </thead>\n",
       "  <tbody>\n",
       "    <tr>\n",
       "      <th id=\"T_43233_level0_row0\" class=\"row_heading level0 row0\" >Sensor Range Deviation</th>\n",
       "      <td id=\"T_43233_row0_col0\" class=\"data row0 col0\" >0.231</td>\n",
       "      <td id=\"T_43233_row0_col1\" class=\"data row0 col1\" >0.101</td>\n",
       "      <td id=\"T_43233_row0_col2\" class=\"data row0 col2\" >0.465</td>\n",
       "      <td id=\"T_43233_row0_col3\" class=\"data row0 col3\" >0.132</td>\n",
       "      <td id=\"T_43233_row0_col4\" class=\"data row0 col4\" >0.328</td>\n",
       "      <td id=\"T_43233_row0_col5\" class=\"data row0 col5\" >0.273</td>\n",
       "      <td id=\"T_43233_row0_col6\" class=\"data row0 col6\" >0.033</td>\n",
       "    </tr>\n",
       "    <tr>\n",
       "      <th id=\"T_43233_level0_row1\" class=\"row_heading level0 row1\" >Simple L2_norm</th>\n",
       "      <td id=\"T_43233_row1_col0\" class=\"data row1 col0\" >0.782</td>\n",
       "      <td id=\"T_43233_row1_col1\" class=\"data row1 col1\" >0.281</td>\n",
       "      <td id=\"T_43233_row1_col2\" class=\"data row1 col2\" >0.513</td>\n",
       "      <td id=\"T_43233_row1_col3\" class=\"data row1 col3\" >0.404</td>\n",
       "      <td id=\"T_43233_row1_col4\" class=\"data row1 col4\" >0.395</td>\n",
       "      <td id=\"T_43233_row1_col5\" class=\"data row1 col5\" >0.351</td>\n",
       "      <td id=\"T_43233_row1_col6\" class=\"data row1 col6\" >0.037</td>\n",
       "    </tr>\n",
       "    <tr>\n",
       "      <th id=\"T_43233_level0_row2\" class=\"row_heading level0 row2\" >1-NN Distance</th>\n",
       "      <td id=\"T_43233_row2_col0\" class=\"data row2 col0\" >0.782</td>\n",
       "      <td id=\"T_43233_row2_col1\" class=\"data row2 col1\" >0.281</td>\n",
       "      <td id=\"T_43233_row2_col2\" class=\"data row2 col2\" >0.568</td>\n",
       "      <td id=\"T_43233_row2_col3\" class=\"data row2 col3\" >0.463</td>\n",
       "      <td id=\"T_43233_row2_col4\" class=\"data row2 col4\" >0.404</td>\n",
       "      <td id=\"T_43233_row2_col5\" class=\"data row2 col5\" >0.352</td>\n",
       "      <td id=\"T_43233_row2_col6\" class=\"data row2 col6\" >0.879</td>\n",
       "    </tr>\n",
       "    <tr>\n",
       "      <th id=\"T_43233_level0_row3\" class=\"row_heading level0 row3\" >PCA_Error</th>\n",
       "      <td id=\"T_43233_row3_col0\" class=\"data row3 col0\" >0.833</td>\n",
       "      <td id=\"T_43233_row3_col1\" class=\"data row3 col1\" >0.501</td>\n",
       "      <td id=\"T_43233_row3_col2\" class=\"data row3 col2\" >0.655</td>\n",
       "      <td id=\"T_43233_row3_col3\" class=\"data row3 col3\" >0.572</td>\n",
       "      <td id=\"T_43233_row3_col4\" class=\"data row3 col4\" >0.446</td>\n",
       "      <td id=\"T_43233_row3_col5\" class=\"data row3 col5\" >0.387</td>\n",
       "      <td id=\"T_43233_row3_col6\" class=\"data row3 col6\" >0.928</td>\n",
       "    </tr>\n",
       "  </tbody>\n",
       "</table>\n"
      ],
      "text/plain": [
       "<pandas.io.formats.style.Styler at 0x2386c26fb50>"
      ]
     },
     "execution_count": 11,
     "metadata": {},
     "output_type": "execute_result"
    }
   ],
   "source": [
    "df_point_wise.drop(['P', 'R','AUPRC'], axis=1, level=1).style.set_precision(3).apply(highlight_max, props='color:white;background-color:darkblue', axis=0)"
   ]
  },
  {
   "cell_type": "markdown",
   "id": "8a181029-3091-48b9-9381-e807136432fd",
   "metadata": {},
   "source": [
    "## Evaluate all datasets under Range-Wise metrics"
   ]
  },
  {
   "cell_type": "code",
   "execution_count": null,
   "id": "7987c9c8-9a02-4e81-8649-fa53dd1f582e",
   "metadata": {},
   "outputs": [
    {
     "name": "stdout",
     "output_type": "stream",
     "text": [
      "[INFO]: Evaluating 7 datasets\n",
      " Evaluation on SWAT finished\n",
      " Evaluation on WADI_127 finished\n",
      " Evaluation on WADI_112 finished\n",
      "[INFO:] SMD contains 28 data traces.\n"
     ]
    }
   ],
   "source": [
    "_, df_range_wise = evaluate_datasets(module_path,\n",
    "                      dataset_names_ordered=None,\n",
    "                      preprocessing=\"0-1\",\n",
    "                      eval_method='range_wise',\n",
    "                      pca_dim=30,\n",
    "                      show_norm_impact=False,\n",
    "                      verbose=True)"
   ]
  },
  {
   "cell_type": "code",
   "execution_count": null,
   "id": "46274baf-e77d-4982-bfb3-62b0f6b5a733",
   "metadata": {},
   "outputs": [],
   "source": [
    "df_range_wise.style.set_precision(3).apply(highlight_max, props='color:white;background-color:darkblue', axis=0)"
   ]
  },
  {
   "cell_type": "code",
   "execution_count": null,
   "id": "40ca7aab-ca83-40c6-ad64-8195daf7b8be",
   "metadata": {},
   "outputs": [],
   "source": [
    "df_range_wise.drop(['P', 'R','AUPRC'], axis=1, level=1).style.set_precision(3).apply(highlight_max, props='color:white;background-color:darkblue', axis=0)"
   ]
  },
  {
   "cell_type": "code",
   "execution_count": null,
   "id": "97b329ca-7446-4403-9033-55c1f4e550b5",
   "metadata": {},
   "outputs": [],
   "source": []
  },
  {
   "cell_type": "code",
   "execution_count": null,
   "id": "8462c9c7-4f48-4436-a7fb-c558254be7e3",
   "metadata": {},
   "outputs": [],
   "source": []
  }
 ],
 "metadata": {
  "kernelspec": {
   "display_name": "Python 3 (ipykernel)",
   "language": "python",
   "name": "python3"
  },
  "language_info": {
   "codemirror_mode": {
    "name": "ipython",
    "version": 3
   },
   "file_extension": ".py",
   "mimetype": "text/x-python",
   "name": "python",
   "nbconvert_exporter": "python",
   "pygments_lexer": "ipython3",
   "version": "3.10.0"
  }
 },
 "nbformat": 4,
 "nbformat_minor": 5
}
