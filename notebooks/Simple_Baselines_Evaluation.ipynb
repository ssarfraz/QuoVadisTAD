{
 "cells": [
  {
   "cell_type": "code",
   "execution_count": 1,
   "id": "a47a61cf-2b8f-44d8-9143-a81be51dfb97",
   "metadata": {},
   "outputs": [],
   "source": [
    "%load_ext autoreload\n",
    "%autoreload 2"
   ]
  },
  {
   "cell_type": "code",
   "execution_count": 2,
   "id": "a88dfa08-8d34-4c00-b044-d3e71fd14870",
   "metadata": {},
   "outputs": [],
   "source": [
    "import sys\n",
    "from pathlib import Path\n",
    "module_path = str(Path.cwd().parents[0])\n",
    "if module_path not in sys.path:\n",
    "    sys.path.append(module_path)"
   ]
  },
  {
   "cell_type": "code",
   "execution_count": 3,
   "id": "c23c7905-d987-4197-9524-96a1f81da73c",
   "metadata": {
    "tags": []
   },
   "outputs": [],
   "source": [
    "import os\n",
    "import numpy as np\n",
    "import pandas as pd\n",
    "import random\n",
    "from src.eval_simple_baselines import evaluate_datasets"
   ]
  },
  {
   "cell_type": "markdown",
   "id": "cea08463-b13f-4bde-ab14-77c1eda29f4e",
   "metadata": {},
   "source": [
    "# Run & Evaluate Simple Baselines and Summarize"
   ]
  },
  {
   "cell_type": "code",
   "execution_count": 4,
   "id": "15efe816-31ee-45a0-98c7-238c84edc41c",
   "metadata": {},
   "outputs": [],
   "source": [
    "def highlight_max(s, props=''):\n",
    "    return np.where(s == np.nanmax(s.values), props, '')"
   ]
  },
  {
   "cell_type": "markdown",
   "id": "9d2a5ba9-7d63-43a3-96e1-d8a0b21778e3",
   "metadata": {},
   "source": [
    "## Evaluate a dataset\n",
    "We can evaluate one or multiple datasets under both point-wise or range-wise metrics"
   ]
  },
  {
   "cell_type": "code",
   "execution_count": 5,
   "id": "83248628-ed35-4f83-b70c-554e5fbb2d33",
   "metadata": {},
   "outputs": [
    {
     "name": "stdout",
     "output_type": "stream",
     "text": [
      "[INFO]: Evaluating 1 datasets\n",
      " Evaluation on SWAT finished\n"
     ]
    }
   ],
   "source": [
    "_, df_std = evaluate_datasets(module_path,\n",
    "                      dataset_names_ordered=['swat'],   # provide one or more dataset names e.g swat, wadi_127, wadi_112, smd, ucr_IB, see dataset_reader enum\n",
    "                      preprocessing=\"0-1\",              \n",
    "                      eval_method='point_wise',         # evaluation method one of point_wsie, range_wise or point_adjust\n",
    "                      pca_dim=30,\n",
    "                      show_norm_impact=False,           # if true will provide results of pca_error under different normalisations\n",
    "                      verbose=True)"
   ]
  },
  {
   "cell_type": "code",
   "execution_count": 6,
   "id": "d13d4360-37e1-433d-956d-a9f0f9b350d5",
   "metadata": {},
   "outputs": [
    {
     "data": {
      "text/html": [
       "<style type=\"text/css\">\n",
       "#T_4e7fb_row0_col2, #T_4e7fb_row1_col1, #T_4e7fb_row3_col0, #T_4e7fb_row3_col3 {\n",
       "  color: white;\n",
       "  background-color: darkblue;\n",
       "}\n",
       "</style>\n",
       "<table id=\"T_4e7fb\">\n",
       "  <thead>\n",
       "    <tr>\n",
       "      <th class=\"blank level0\" >&nbsp;</th>\n",
       "      <th id=\"T_4e7fb_level0_col0\" class=\"col_heading level0 col0\" colspan=\"4\">SWAT</th>\n",
       "    </tr>\n",
       "    <tr>\n",
       "      <th class=\"blank level1\" >&nbsp;</th>\n",
       "      <th id=\"T_4e7fb_level1_col0\" class=\"col_heading level1 col0\" >F1</th>\n",
       "      <th id=\"T_4e7fb_level1_col1\" class=\"col_heading level1 col1\" >P</th>\n",
       "      <th id=\"T_4e7fb_level1_col2\" class=\"col_heading level1 col2\" >R</th>\n",
       "      <th id=\"T_4e7fb_level1_col3\" class=\"col_heading level1 col3\" >AUPRC</th>\n",
       "    </tr>\n",
       "  </thead>\n",
       "  <tbody>\n",
       "    <tr>\n",
       "      <th id=\"T_4e7fb_level0_row0\" class=\"row_heading level0 row0\" >Sensor Range Deviation</th>\n",
       "      <td id=\"T_4e7fb_row0_col0\" class=\"data row0 col0\" >0.231</td>\n",
       "      <td id=\"T_4e7fb_row0_col1\" class=\"data row0 col1\" >0.131</td>\n",
       "      <td id=\"T_4e7fb_row0_col2\" class=\"data row0 col2\" >0.979</td>\n",
       "      <td id=\"T_4e7fb_row0_col3\" class=\"data row0 col3\" >0.556</td>\n",
       "    </tr>\n",
       "    <tr>\n",
       "      <th id=\"T_4e7fb_level0_row1\" class=\"row_heading level0 row1\" >Simple L2_norm</th>\n",
       "      <td id=\"T_4e7fb_row1_col0\" class=\"data row1 col0\" >0.782</td>\n",
       "      <td id=\"T_4e7fb_row1_col1\" class=\"data row1 col1\" >0.985</td>\n",
       "      <td id=\"T_4e7fb_row1_col2\" class=\"data row1 col2\" >0.648</td>\n",
       "      <td id=\"T_4e7fb_row1_col3\" class=\"data row1 col3\" >0.715</td>\n",
       "    </tr>\n",
       "    <tr>\n",
       "      <th id=\"T_4e7fb_level0_row2\" class=\"row_heading level0 row2\" >1-NN Distance</th>\n",
       "      <td id=\"T_4e7fb_row2_col0\" class=\"data row2 col0\" >0.782</td>\n",
       "      <td id=\"T_4e7fb_row2_col1\" class=\"data row2 col1\" >0.984</td>\n",
       "      <td id=\"T_4e7fb_row2_col2\" class=\"data row2 col2\" >0.649</td>\n",
       "      <td id=\"T_4e7fb_row2_col3\" class=\"data row2 col3\" >0.726</td>\n",
       "    </tr>\n",
       "    <tr>\n",
       "      <th id=\"T_4e7fb_level0_row3\" class=\"row_heading level0 row3\" >PCA_Error</th>\n",
       "      <td id=\"T_4e7fb_row3_col0\" class=\"data row3 col0\" >0.833</td>\n",
       "      <td id=\"T_4e7fb_row3_col1\" class=\"data row3 col1\" >0.964</td>\n",
       "      <td id=\"T_4e7fb_row3_col2\" class=\"data row3 col2\" >0.733</td>\n",
       "      <td id=\"T_4e7fb_row3_col3\" class=\"data row3 col3\" >0.732</td>\n",
       "    </tr>\n",
       "  </tbody>\n",
       "</table>\n"
      ],
      "text/plain": [
       "<pandas.io.formats.style.Styler at 0x28335c2d1b0>"
      ]
     },
     "execution_count": 6,
     "metadata": {},
     "output_type": "execute_result"
    }
   ],
   "source": [
    "df_std.style.set_precision(3).apply(highlight_max, props='color:white;background-color:darkblue', axis=0)\n"
   ]
  },
  {
   "cell_type": "markdown",
   "id": "cdadb11d-9bc6-44e8-8ab3-db2f6555c068",
   "metadata": {},
   "source": [
    "### See the impact of different score normalisations"
   ]
  },
  {
   "cell_type": "code",
   "execution_count": 7,
   "id": "de2db466-c93a-495d-a3f7-6a55accf01dc",
   "metadata": {},
   "outputs": [
    {
     "name": "stdout",
     "output_type": "stream",
     "text": [
      "[INFO]: Evaluating 1 datasets\n",
      " Evaluation on SWAT finished\n"
     ]
    }
   ],
   "source": [
    "_, df_std = evaluate_datasets(module_path,\n",
    "                      dataset_names_ordered=['swat'],   # provide one or more dataset names e.g swat, wadi_127, wadi_112, smd, ucr_IB, see dataset_reader enum\n",
    "                      preprocessing=\"0-1\",              \n",
    "                      eval_method='point_wise',         # evaluation method one of point_wsie, range_wise or point_adjust\n",
    "                      pca_dim=30,\n",
    "                      show_norm_impact=True,           # if true will provide results of pca_error under different normalisations\n",
    "                      verbose=True)"
   ]
  },
  {
   "cell_type": "code",
   "execution_count": 8,
   "id": "66408d15-052e-474c-b393-d4c4d55770a8",
   "metadata": {},
   "outputs": [
    {
     "data": {
      "text/html": [
       "<style type=\"text/css\">\n",
       "#T_f1e63_row0_col2, #T_f1e63_row3_col1, #T_f1e63_row3_col3, #T_f1e63_row4_col0 {\n",
       "  color: white;\n",
       "  background-color: darkblue;\n",
       "}\n",
       "</style>\n",
       "<table id=\"T_f1e63\">\n",
       "  <thead>\n",
       "    <tr>\n",
       "      <th class=\"blank level0\" >&nbsp;</th>\n",
       "      <th id=\"T_f1e63_level0_col0\" class=\"col_heading level0 col0\" colspan=\"4\">SWAT</th>\n",
       "    </tr>\n",
       "    <tr>\n",
       "      <th class=\"blank level1\" >&nbsp;</th>\n",
       "      <th id=\"T_f1e63_level1_col0\" class=\"col_heading level1 col0\" >F1</th>\n",
       "      <th id=\"T_f1e63_level1_col1\" class=\"col_heading level1 col1\" >P</th>\n",
       "      <th id=\"T_f1e63_level1_col2\" class=\"col_heading level1 col2\" >R</th>\n",
       "      <th id=\"T_f1e63_level1_col3\" class=\"col_heading level1 col3\" >AUPRC</th>\n",
       "    </tr>\n",
       "  </thead>\n",
       "  <tbody>\n",
       "    <tr>\n",
       "      <th id=\"T_f1e63_level0_row0\" class=\"row_heading level0 row0\" >Sensor Range Deviation</th>\n",
       "      <td id=\"T_f1e63_row0_col0\" class=\"data row0 col0\" >0.231</td>\n",
       "      <td id=\"T_f1e63_row0_col1\" class=\"data row0 col1\" >0.131</td>\n",
       "      <td id=\"T_f1e63_row0_col2\" class=\"data row0 col2\" >0.979</td>\n",
       "      <td id=\"T_f1e63_row0_col3\" class=\"data row0 col3\" >0.556</td>\n",
       "    </tr>\n",
       "    <tr>\n",
       "      <th id=\"T_f1e63_level0_row1\" class=\"row_heading level0 row1\" >Simple L2_norm</th>\n",
       "      <td id=\"T_f1e63_row1_col0\" class=\"data row1 col0\" >0.782</td>\n",
       "      <td id=\"T_f1e63_row1_col1\" class=\"data row1 col1\" >0.985</td>\n",
       "      <td id=\"T_f1e63_row1_col2\" class=\"data row1 col2\" >0.648</td>\n",
       "      <td id=\"T_f1e63_row1_col3\" class=\"data row1 col3\" >0.715</td>\n",
       "    </tr>\n",
       "    <tr>\n",
       "      <th id=\"T_f1e63_level0_row2\" class=\"row_heading level0 row2\" >1-NN Distance</th>\n",
       "      <td id=\"T_f1e63_row2_col0\" class=\"data row2 col0\" >0.782</td>\n",
       "      <td id=\"T_f1e63_row2_col1\" class=\"data row2 col1\" >0.984</td>\n",
       "      <td id=\"T_f1e63_row2_col2\" class=\"data row2 col2\" >0.649</td>\n",
       "      <td id=\"T_f1e63_row2_col3\" class=\"data row2 col3\" >0.726</td>\n",
       "    </tr>\n",
       "    <tr>\n",
       "      <th id=\"T_f1e63_level0_row3\" class=\"row_heading level0 row3\" >PCA_Error(median-iqr norm)</th>\n",
       "      <td id=\"T_f1e63_row3_col0\" class=\"data row3 col0\" >0.794</td>\n",
       "      <td id=\"T_f1e63_row3_col1\" class=\"data row3 col1\" >0.995</td>\n",
       "      <td id=\"T_f1e63_row3_col2\" class=\"data row3 col2\" >0.660</td>\n",
       "      <td id=\"T_f1e63_row3_col3\" class=\"data row3 col3\" >0.752</td>\n",
       "    </tr>\n",
       "    <tr>\n",
       "      <th id=\"T_f1e63_level0_row4\" class=\"row_heading level0 row4\" >PCA_Error(mean-std norm)</th>\n",
       "      <td id=\"T_f1e63_row4_col0\" class=\"data row4 col0\" >0.833</td>\n",
       "      <td id=\"T_f1e63_row4_col1\" class=\"data row4 col1\" >0.964</td>\n",
       "      <td id=\"T_f1e63_row4_col2\" class=\"data row4 col2\" >0.733</td>\n",
       "      <td id=\"T_f1e63_row4_col3\" class=\"data row4 col3\" >0.732</td>\n",
       "    </tr>\n",
       "    <tr>\n",
       "      <th id=\"T_f1e63_level0_row5\" class=\"row_heading level0 row5\" >PCA_Error(no norm)</th>\n",
       "      <td id=\"T_f1e63_row5_col0\" class=\"data row5 col0\" >0.770</td>\n",
       "      <td id=\"T_f1e63_row5_col1\" class=\"data row5 col1\" >0.985</td>\n",
       "      <td id=\"T_f1e63_row5_col2\" class=\"data row5 col2\" >0.632</td>\n",
       "      <td id=\"T_f1e63_row5_col3\" class=\"data row5 col3\" >0.710</td>\n",
       "    </tr>\n",
       "  </tbody>\n",
       "</table>\n"
      ],
      "text/plain": [
       "<pandas.io.formats.style.Styler at 0x28335e97280>"
      ]
     },
     "execution_count": 8,
     "metadata": {},
     "output_type": "execute_result"
    }
   ],
   "source": [
    "df_std.style.set_precision(3).apply(highlight_max, props='color:white;background-color:darkblue', axis=0)\n"
   ]
  },
  {
   "cell_type": "code",
   "execution_count": null,
   "id": "920ea8e2-4b5d-4328-b329-9ca5a33bfb2e",
   "metadata": {},
   "outputs": [],
   "source": []
  },
  {
   "cell_type": "markdown",
   "id": "b43c461e-16ae-4b59-aa0f-84d30c15facd",
   "metadata": {},
   "source": [
    "# Evaluate All Datasets"
   ]
  },
  {
   "cell_type": "markdown",
   "id": "98b4a4ac-00fe-432c-a199-9bece91d5997",
   "metadata": {},
   "source": [
    "## Evaluate all datasets under Point-Wise metrics"
   ]
  },
  {
   "cell_type": "code",
   "execution_count": 9,
   "id": "17d7c04c-fbab-4e91-b3a6-fa425a3431e6",
   "metadata": {},
   "outputs": [
    {
     "name": "stdout",
     "output_type": "stream",
     "text": [
      "[INFO]: Evaluating 7 datasets\n",
      " Evaluation on SWAT finished\n",
      " Evaluation on WADI_127 finished\n",
      " Evaluation on WADI_112 finished\n",
      "[INFO:] SMD contains 28 data traces.\n",
      " Evaluation on SMD finished: on 28 traces,  results are averaged\n",
      "[INFO:] MSL contains 27 data traces.\n",
      " Evaluation on MSL finished: on 27 traces,  results are averaged\n",
      "[INFO:] SMAP contains 54 data traces.\n",
      " Evaluation on SMAP finished: on 54 traces,  results are averaged\n",
      "[INFO:] UCR contains 4 data traces\n",
      " Evaluation on UCR_IB finished: on 4 traces,  results are averaged\n"
     ]
    }
   ],
   "source": [
    "_, df_point_wise = evaluate_datasets(module_path,\n",
    "                      dataset_names_ordered=None,\n",
    "                      preprocessing=\"0-1\",\n",
    "                      eval_method='point_wise',\n",
    "                      pca_dim=30,\n",
    "                      show_norm_impact=False,\n",
    "                      verbose=True)"
   ]
  },
  {
   "cell_type": "code",
   "execution_count": 10,
   "id": "cde6306a-4a3a-443b-bae4-a75926049cc6",
   "metadata": {},
   "outputs": [
    {
     "data": {
      "text/html": [
       "<style type=\"text/css\">\n",
       "#T_0365f_row0_col2, #T_0365f_row0_col6, #T_0365f_row0_col14, #T_0365f_row0_col18, #T_0365f_row0_col19, #T_0365f_row0_col22, #T_0365f_row0_col23, #T_0365f_row1_col1, #T_0365f_row1_col5, #T_0365f_row1_col9, #T_0365f_row1_col17, #T_0365f_row2_col5, #T_0365f_row2_col13, #T_0365f_row2_col21, #T_0365f_row3_col0, #T_0365f_row3_col3, #T_0365f_row3_col4, #T_0365f_row3_col7, #T_0365f_row3_col8, #T_0365f_row3_col10, #T_0365f_row3_col11, #T_0365f_row3_col12, #T_0365f_row3_col15, #T_0365f_row3_col16, #T_0365f_row3_col20, #T_0365f_row3_col24, #T_0365f_row3_col25, #T_0365f_row3_col26, #T_0365f_row3_col27 {\n",
       "  color: white;\n",
       "  background-color: darkblue;\n",
       "}\n",
       "</style>\n",
       "<table id=\"T_0365f\">\n",
       "  <thead>\n",
       "    <tr>\n",
       "      <th class=\"blank level0\" >&nbsp;</th>\n",
       "      <th id=\"T_0365f_level0_col0\" class=\"col_heading level0 col0\" colspan=\"4\">SWAT</th>\n",
       "      <th id=\"T_0365f_level0_col4\" class=\"col_heading level0 col4\" colspan=\"4\">WADI_127</th>\n",
       "      <th id=\"T_0365f_level0_col8\" class=\"col_heading level0 col8\" colspan=\"4\">WADI_112</th>\n",
       "      <th id=\"T_0365f_level0_col12\" class=\"col_heading level0 col12\" colspan=\"4\">SMD</th>\n",
       "      <th id=\"T_0365f_level0_col16\" class=\"col_heading level0 col16\" colspan=\"4\">MSL</th>\n",
       "      <th id=\"T_0365f_level0_col20\" class=\"col_heading level0 col20\" colspan=\"4\">SMAP</th>\n",
       "      <th id=\"T_0365f_level0_col24\" class=\"col_heading level0 col24\" colspan=\"4\">UCR_IB</th>\n",
       "    </tr>\n",
       "    <tr>\n",
       "      <th class=\"blank level1\" >&nbsp;</th>\n",
       "      <th id=\"T_0365f_level1_col0\" class=\"col_heading level1 col0\" >F1</th>\n",
       "      <th id=\"T_0365f_level1_col1\" class=\"col_heading level1 col1\" >P</th>\n",
       "      <th id=\"T_0365f_level1_col2\" class=\"col_heading level1 col2\" >R</th>\n",
       "      <th id=\"T_0365f_level1_col3\" class=\"col_heading level1 col3\" >AUPRC</th>\n",
       "      <th id=\"T_0365f_level1_col4\" class=\"col_heading level1 col4\" >F1</th>\n",
       "      <th id=\"T_0365f_level1_col5\" class=\"col_heading level1 col5\" >P</th>\n",
       "      <th id=\"T_0365f_level1_col6\" class=\"col_heading level1 col6\" >R</th>\n",
       "      <th id=\"T_0365f_level1_col7\" class=\"col_heading level1 col7\" >AUPRC</th>\n",
       "      <th id=\"T_0365f_level1_col8\" class=\"col_heading level1 col8\" >F1</th>\n",
       "      <th id=\"T_0365f_level1_col9\" class=\"col_heading level1 col9\" >P</th>\n",
       "      <th id=\"T_0365f_level1_col10\" class=\"col_heading level1 col10\" >R</th>\n",
       "      <th id=\"T_0365f_level1_col11\" class=\"col_heading level1 col11\" >AUPRC</th>\n",
       "      <th id=\"T_0365f_level1_col12\" class=\"col_heading level1 col12\" >F1</th>\n",
       "      <th id=\"T_0365f_level1_col13\" class=\"col_heading level1 col13\" >P</th>\n",
       "      <th id=\"T_0365f_level1_col14\" class=\"col_heading level1 col14\" >R</th>\n",
       "      <th id=\"T_0365f_level1_col15\" class=\"col_heading level1 col15\" >AUPRC</th>\n",
       "      <th id=\"T_0365f_level1_col16\" class=\"col_heading level1 col16\" >F1</th>\n",
       "      <th id=\"T_0365f_level1_col17\" class=\"col_heading level1 col17\" >P</th>\n",
       "      <th id=\"T_0365f_level1_col18\" class=\"col_heading level1 col18\" >R</th>\n",
       "      <th id=\"T_0365f_level1_col19\" class=\"col_heading level1 col19\" >AUPRC</th>\n",
       "      <th id=\"T_0365f_level1_col20\" class=\"col_heading level1 col20\" >F1</th>\n",
       "      <th id=\"T_0365f_level1_col21\" class=\"col_heading level1 col21\" >P</th>\n",
       "      <th id=\"T_0365f_level1_col22\" class=\"col_heading level1 col22\" >R</th>\n",
       "      <th id=\"T_0365f_level1_col23\" class=\"col_heading level1 col23\" >AUPRC</th>\n",
       "      <th id=\"T_0365f_level1_col24\" class=\"col_heading level1 col24\" >F1</th>\n",
       "      <th id=\"T_0365f_level1_col25\" class=\"col_heading level1 col25\" >P</th>\n",
       "      <th id=\"T_0365f_level1_col26\" class=\"col_heading level1 col26\" >R</th>\n",
       "      <th id=\"T_0365f_level1_col27\" class=\"col_heading level1 col27\" >AUPRC</th>\n",
       "    </tr>\n",
       "  </thead>\n",
       "  <tbody>\n",
       "    <tr>\n",
       "      <th id=\"T_0365f_level0_row0\" class=\"row_heading level0 row0\" >Sensor Range Deviation</th>\n",
       "      <td id=\"T_0365f_row0_col0\" class=\"data row0 col0\" >0.231</td>\n",
       "      <td id=\"T_0365f_row0_col1\" class=\"data row0 col1\" >0.131</td>\n",
       "      <td id=\"T_0365f_row0_col2\" class=\"data row0 col2\" >0.979</td>\n",
       "      <td id=\"T_0365f_row0_col3\" class=\"data row0 col3\" >0.556</td>\n",
       "      <td id=\"T_0365f_row0_col4\" class=\"data row0 col4\" >0.101</td>\n",
       "      <td id=\"T_0365f_row0_col5\" class=\"data row0 col5\" >0.053</td>\n",
       "      <td id=\"T_0365f_row0_col6\" class=\"data row0 col6\" >1.000</td>\n",
       "      <td id=\"T_0365f_row0_col7\" class=\"data row0 col7\" >0.317</td>\n",
       "      <td id=\"T_0365f_row0_col8\" class=\"data row0 col8\" >0.465</td>\n",
       "      <td id=\"T_0365f_row0_col9\" class=\"data row0 col9\" >0.567</td>\n",
       "      <td id=\"T_0365f_row0_col10\" class=\"data row0 col10\" >0.394</td>\n",
       "      <td id=\"T_0365f_row0_col11\" class=\"data row0 col11\" >0.497</td>\n",
       "      <td id=\"T_0365f_row0_col12\" class=\"data row0 col12\" >0.132</td>\n",
       "      <td id=\"T_0365f_row0_col13\" class=\"data row0 col13\" >0.110</td>\n",
       "      <td id=\"T_0365f_row0_col14\" class=\"data row0 col14\" >0.682</td>\n",
       "      <td id=\"T_0365f_row0_col15\" class=\"data row0 col15\" >0.321</td>\n",
       "      <td id=\"T_0365f_row0_col16\" class=\"data row0 col16\" >0.328</td>\n",
       "      <td id=\"T_0365f_row0_col17\" class=\"data row0 col17\" >0.420</td>\n",
       "      <td id=\"T_0365f_row0_col18\" class=\"data row0 col18\" >0.736</td>\n",
       "      <td id=\"T_0365f_row0_col19\" class=\"data row0 col19\" >0.537</td>\n",
       "      <td id=\"T_0365f_row0_col20\" class=\"data row0 col20\" >0.273</td>\n",
       "      <td id=\"T_0365f_row0_col21\" class=\"data row0 col21\" >0.423</td>\n",
       "      <td id=\"T_0365f_row0_col22\" class=\"data row0 col22\" >0.750</td>\n",
       "      <td id=\"T_0365f_row0_col23\" class=\"data row0 col23\" >0.588</td>\n",
       "      <td id=\"T_0365f_row0_col24\" class=\"data row0 col24\" >0.033</td>\n",
       "      <td id=\"T_0365f_row0_col25\" class=\"data row0 col25\" >0.056</td>\n",
       "      <td id=\"T_0365f_row0_col26\" class=\"data row0 col26\" >0.764</td>\n",
       "      <td id=\"T_0365f_row0_col27\" class=\"data row0 col27\" >0.037</td>\n",
       "    </tr>\n",
       "    <tr>\n",
       "      <th id=\"T_0365f_level0_row1\" class=\"row_heading level0 row1\" >Simple L2_norm</th>\n",
       "      <td id=\"T_0365f_row1_col0\" class=\"data row1 col0\" >0.782</td>\n",
       "      <td id=\"T_0365f_row1_col1\" class=\"data row1 col1\" >0.985</td>\n",
       "      <td id=\"T_0365f_row1_col2\" class=\"data row1 col2\" >0.648</td>\n",
       "      <td id=\"T_0365f_row1_col3\" class=\"data row1 col3\" >0.715</td>\n",
       "      <td id=\"T_0365f_row1_col4\" class=\"data row1 col4\" >0.281</td>\n",
       "      <td id=\"T_0365f_row1_col5\" class=\"data row1 col5\" >1.000</td>\n",
       "      <td id=\"T_0365f_row1_col6\" class=\"data row1 col6\" >0.163</td>\n",
       "      <td id=\"T_0365f_row1_col7\" class=\"data row1 col7\" >0.210</td>\n",
       "      <td id=\"T_0365f_row1_col8\" class=\"data row1 col8\" >0.513</td>\n",
       "      <td id=\"T_0365f_row1_col9\" class=\"data row1 col9\" >0.887</td>\n",
       "      <td id=\"T_0365f_row1_col10\" class=\"data row1 col10\" >0.361</td>\n",
       "      <td id=\"T_0365f_row1_col11\" class=\"data row1 col11\" >0.474</td>\n",
       "      <td id=\"T_0365f_row1_col12\" class=\"data row1 col12\" >0.404</td>\n",
       "      <td id=\"T_0365f_row1_col13\" class=\"data row1 col13\" >0.569</td>\n",
       "      <td id=\"T_0365f_row1_col14\" class=\"data row1 col14\" >0.455</td>\n",
       "      <td id=\"T_0365f_row1_col15\" class=\"data row1 col15\" >0.343</td>\n",
       "      <td id=\"T_0365f_row1_col16\" class=\"data row1 col16\" >0.395</td>\n",
       "      <td id=\"T_0365f_row1_col17\" class=\"data row1 col17\" >0.451</td>\n",
       "      <td id=\"T_0365f_row1_col18\" class=\"data row1 col18\" >0.665</td>\n",
       "      <td id=\"T_0365f_row1_col19\" class=\"data row1 col19\" >0.305</td>\n",
       "      <td id=\"T_0365f_row1_col20\" class=\"data row1 col20\" >0.351</td>\n",
       "      <td id=\"T_0365f_row1_col21\" class=\"data row1 col21\" >0.389</td>\n",
       "      <td id=\"T_0365f_row1_col22\" class=\"data row1 col22\" >0.673</td>\n",
       "      <td id=\"T_0365f_row1_col23\" class=\"data row1 col23\" >0.253</td>\n",
       "      <td id=\"T_0365f_row1_col24\" class=\"data row1 col24\" >0.037</td>\n",
       "      <td id=\"T_0365f_row1_col25\" class=\"data row1 col25\" >0.019</td>\n",
       "      <td id=\"T_0365f_row1_col26\" class=\"data row1 col26\" >0.885</td>\n",
       "      <td id=\"T_0365f_row1_col27\" class=\"data row1 col27\" >0.014</td>\n",
       "    </tr>\n",
       "    <tr>\n",
       "      <th id=\"T_0365f_level0_row2\" class=\"row_heading level0 row2\" >1-NN Distance</th>\n",
       "      <td id=\"T_0365f_row2_col0\" class=\"data row2 col0\" >0.782</td>\n",
       "      <td id=\"T_0365f_row2_col1\" class=\"data row2 col1\" >0.984</td>\n",
       "      <td id=\"T_0365f_row2_col2\" class=\"data row2 col2\" >0.649</td>\n",
       "      <td id=\"T_0365f_row2_col3\" class=\"data row2 col3\" >0.726</td>\n",
       "      <td id=\"T_0365f_row2_col4\" class=\"data row2 col4\" >0.281</td>\n",
       "      <td id=\"T_0365f_row2_col5\" class=\"data row2 col5\" >1.000</td>\n",
       "      <td id=\"T_0365f_row2_col6\" class=\"data row2 col6\" >0.163</td>\n",
       "      <td id=\"T_0365f_row2_col7\" class=\"data row2 col7\" >0.211</td>\n",
       "      <td id=\"T_0365f_row2_col8\" class=\"data row2 col8\" >0.568</td>\n",
       "      <td id=\"T_0365f_row2_col9\" class=\"data row2 col9\" >0.779</td>\n",
       "      <td id=\"T_0365f_row2_col10\" class=\"data row2 col10\" >0.447</td>\n",
       "      <td id=\"T_0365f_row2_col11\" class=\"data row2 col11\" >0.501</td>\n",
       "      <td id=\"T_0365f_row2_col12\" class=\"data row2 col12\" >0.463</td>\n",
       "      <td id=\"T_0365f_row2_col13\" class=\"data row2 col13\" >0.626</td>\n",
       "      <td id=\"T_0365f_row2_col14\" class=\"data row2 col14\" >0.458</td>\n",
       "      <td id=\"T_0365f_row2_col15\" class=\"data row2 col15\" >0.389</td>\n",
       "      <td id=\"T_0365f_row2_col16\" class=\"data row2 col16\" >0.404</td>\n",
       "      <td id=\"T_0365f_row2_col17\" class=\"data row2 col17\" >0.449</td>\n",
       "      <td id=\"T_0365f_row2_col18\" class=\"data row2 col18\" >0.590</td>\n",
       "      <td id=\"T_0365f_row2_col19\" class=\"data row2 col19\" >0.324</td>\n",
       "      <td id=\"T_0365f_row2_col20\" class=\"data row2 col20\" >0.352</td>\n",
       "      <td id=\"T_0365f_row2_col21\" class=\"data row2 col21\" >0.459</td>\n",
       "      <td id=\"T_0365f_row2_col22\" class=\"data row2 col22\" >0.610</td>\n",
       "      <td id=\"T_0365f_row2_col23\" class=\"data row2 col23\" >0.306</td>\n",
       "      <td id=\"T_0365f_row2_col24\" class=\"data row2 col24\" >0.879</td>\n",
       "      <td id=\"T_0365f_row2_col25\" class=\"data row2 col25\" >0.824</td>\n",
       "      <td id=\"T_0365f_row2_col26\" class=\"data row2 col26\" >0.950</td>\n",
       "      <td id=\"T_0365f_row2_col27\" class=\"data row2 col27\" >0.803</td>\n",
       "    </tr>\n",
       "    <tr>\n",
       "      <th id=\"T_0365f_level0_row3\" class=\"row_heading level0 row3\" >PCA_Error</th>\n",
       "      <td id=\"T_0365f_row3_col0\" class=\"data row3 col0\" >0.833</td>\n",
       "      <td id=\"T_0365f_row3_col1\" class=\"data row3 col1\" >0.964</td>\n",
       "      <td id=\"T_0365f_row3_col2\" class=\"data row3 col2\" >0.733</td>\n",
       "      <td id=\"T_0365f_row3_col3\" class=\"data row3 col3\" >0.732</td>\n",
       "      <td id=\"T_0365f_row3_col4\" class=\"data row3 col4\" >0.501</td>\n",
       "      <td id=\"T_0365f_row3_col5\" class=\"data row3 col5\" >0.884</td>\n",
       "      <td id=\"T_0365f_row3_col6\" class=\"data row3 col6\" >0.350</td>\n",
       "      <td id=\"T_0365f_row3_col7\" class=\"data row3 col7\" >0.476</td>\n",
       "      <td id=\"T_0365f_row3_col8\" class=\"data row3 col8\" >0.655</td>\n",
       "      <td id=\"T_0365f_row3_col9\" class=\"data row3 col9\" >0.752</td>\n",
       "      <td id=\"T_0365f_row3_col10\" class=\"data row3 col10\" >0.580</td>\n",
       "      <td id=\"T_0365f_row3_col11\" class=\"data row3 col11\" >0.570</td>\n",
       "      <td id=\"T_0365f_row3_col12\" class=\"data row3 col12\" >0.572</td>\n",
       "      <td id=\"T_0365f_row3_col13\" class=\"data row3 col13\" >0.611</td>\n",
       "      <td id=\"T_0365f_row3_col14\" class=\"data row3 col14\" >0.584</td>\n",
       "      <td id=\"T_0365f_row3_col15\" class=\"data row3 col15\" >0.515</td>\n",
       "      <td id=\"T_0365f_row3_col16\" class=\"data row3 col16\" >0.446</td>\n",
       "      <td id=\"T_0365f_row3_col17\" class=\"data row3 col17\" >0.427</td>\n",
       "      <td id=\"T_0365f_row3_col18\" class=\"data row3 col18\" >0.589</td>\n",
       "      <td id=\"T_0365f_row3_col19\" class=\"data row3 col19\" >0.328</td>\n",
       "      <td id=\"T_0365f_row3_col20\" class=\"data row3 col20\" >0.387</td>\n",
       "      <td id=\"T_0365f_row3_col21\" class=\"data row3 col21\" >0.426</td>\n",
       "      <td id=\"T_0365f_row3_col22\" class=\"data row3 col22\" >0.645</td>\n",
       "      <td id=\"T_0365f_row3_col23\" class=\"data row3 col23\" >0.273</td>\n",
       "      <td id=\"T_0365f_row3_col24\" class=\"data row3 col24\" >0.928</td>\n",
       "      <td id=\"T_0365f_row3_col25\" class=\"data row3 col25\" >0.882</td>\n",
       "      <td id=\"T_0365f_row3_col26\" class=\"data row3 col26\" >1.000</td>\n",
       "      <td id=\"T_0365f_row3_col27\" class=\"data row3 col27\" >0.933</td>\n",
       "    </tr>\n",
       "  </tbody>\n",
       "</table>\n"
      ],
      "text/plain": [
       "<pandas.io.formats.style.Styler at 0x28335e940d0>"
      ]
     },
     "execution_count": 10,
     "metadata": {},
     "output_type": "execute_result"
    }
   ],
   "source": [
    "df_point_wise.style.set_precision(3).apply(highlight_max, props='color:white;background-color:darkblue', axis=0)"
   ]
  },
  {
   "cell_type": "code",
   "execution_count": 11,
   "id": "c0a811ab-5eb2-4bdd-9c97-cf9dd0a972b8",
   "metadata": {},
   "outputs": [
    {
     "data": {
      "text/html": [
       "<style type=\"text/css\">\n",
       "#T_519e2_row3_col0, #T_519e2_row3_col1, #T_519e2_row3_col2, #T_519e2_row3_col3, #T_519e2_row3_col4, #T_519e2_row3_col5, #T_519e2_row3_col6 {\n",
       "  color: white;\n",
       "  background-color: darkblue;\n",
       "}\n",
       "</style>\n",
       "<table id=\"T_519e2\">\n",
       "  <thead>\n",
       "    <tr>\n",
       "      <th class=\"blank level0\" >&nbsp;</th>\n",
       "      <th id=\"T_519e2_level0_col0\" class=\"col_heading level0 col0\" >SWAT</th>\n",
       "      <th id=\"T_519e2_level0_col1\" class=\"col_heading level0 col1\" >WADI_127</th>\n",
       "      <th id=\"T_519e2_level0_col2\" class=\"col_heading level0 col2\" >WADI_112</th>\n",
       "      <th id=\"T_519e2_level0_col3\" class=\"col_heading level0 col3\" >SMD</th>\n",
       "      <th id=\"T_519e2_level0_col4\" class=\"col_heading level0 col4\" >MSL</th>\n",
       "      <th id=\"T_519e2_level0_col5\" class=\"col_heading level0 col5\" >SMAP</th>\n",
       "      <th id=\"T_519e2_level0_col6\" class=\"col_heading level0 col6\" >UCR_IB</th>\n",
       "    </tr>\n",
       "    <tr>\n",
       "      <th class=\"blank level1\" >&nbsp;</th>\n",
       "      <th id=\"T_519e2_level1_col0\" class=\"col_heading level1 col0\" >F1</th>\n",
       "      <th id=\"T_519e2_level1_col1\" class=\"col_heading level1 col1\" >F1</th>\n",
       "      <th id=\"T_519e2_level1_col2\" class=\"col_heading level1 col2\" >F1</th>\n",
       "      <th id=\"T_519e2_level1_col3\" class=\"col_heading level1 col3\" >F1</th>\n",
       "      <th id=\"T_519e2_level1_col4\" class=\"col_heading level1 col4\" >F1</th>\n",
       "      <th id=\"T_519e2_level1_col5\" class=\"col_heading level1 col5\" >F1</th>\n",
       "      <th id=\"T_519e2_level1_col6\" class=\"col_heading level1 col6\" >F1</th>\n",
       "    </tr>\n",
       "  </thead>\n",
       "  <tbody>\n",
       "    <tr>\n",
       "      <th id=\"T_519e2_level0_row0\" class=\"row_heading level0 row0\" >Sensor Range Deviation</th>\n",
       "      <td id=\"T_519e2_row0_col0\" class=\"data row0 col0\" >0.231</td>\n",
       "      <td id=\"T_519e2_row0_col1\" class=\"data row0 col1\" >0.101</td>\n",
       "      <td id=\"T_519e2_row0_col2\" class=\"data row0 col2\" >0.465</td>\n",
       "      <td id=\"T_519e2_row0_col3\" class=\"data row0 col3\" >0.132</td>\n",
       "      <td id=\"T_519e2_row0_col4\" class=\"data row0 col4\" >0.328</td>\n",
       "      <td id=\"T_519e2_row0_col5\" class=\"data row0 col5\" >0.273</td>\n",
       "      <td id=\"T_519e2_row0_col6\" class=\"data row0 col6\" >0.033</td>\n",
       "    </tr>\n",
       "    <tr>\n",
       "      <th id=\"T_519e2_level0_row1\" class=\"row_heading level0 row1\" >Simple L2_norm</th>\n",
       "      <td id=\"T_519e2_row1_col0\" class=\"data row1 col0\" >0.782</td>\n",
       "      <td id=\"T_519e2_row1_col1\" class=\"data row1 col1\" >0.281</td>\n",
       "      <td id=\"T_519e2_row1_col2\" class=\"data row1 col2\" >0.513</td>\n",
       "      <td id=\"T_519e2_row1_col3\" class=\"data row1 col3\" >0.404</td>\n",
       "      <td id=\"T_519e2_row1_col4\" class=\"data row1 col4\" >0.395</td>\n",
       "      <td id=\"T_519e2_row1_col5\" class=\"data row1 col5\" >0.351</td>\n",
       "      <td id=\"T_519e2_row1_col6\" class=\"data row1 col6\" >0.037</td>\n",
       "    </tr>\n",
       "    <tr>\n",
       "      <th id=\"T_519e2_level0_row2\" class=\"row_heading level0 row2\" >1-NN Distance</th>\n",
       "      <td id=\"T_519e2_row2_col0\" class=\"data row2 col0\" >0.782</td>\n",
       "      <td id=\"T_519e2_row2_col1\" class=\"data row2 col1\" >0.281</td>\n",
       "      <td id=\"T_519e2_row2_col2\" class=\"data row2 col2\" >0.568</td>\n",
       "      <td id=\"T_519e2_row2_col3\" class=\"data row2 col3\" >0.463</td>\n",
       "      <td id=\"T_519e2_row2_col4\" class=\"data row2 col4\" >0.404</td>\n",
       "      <td id=\"T_519e2_row2_col5\" class=\"data row2 col5\" >0.352</td>\n",
       "      <td id=\"T_519e2_row2_col6\" class=\"data row2 col6\" >0.879</td>\n",
       "    </tr>\n",
       "    <tr>\n",
       "      <th id=\"T_519e2_level0_row3\" class=\"row_heading level0 row3\" >PCA_Error</th>\n",
       "      <td id=\"T_519e2_row3_col0\" class=\"data row3 col0\" >0.833</td>\n",
       "      <td id=\"T_519e2_row3_col1\" class=\"data row3 col1\" >0.501</td>\n",
       "      <td id=\"T_519e2_row3_col2\" class=\"data row3 col2\" >0.655</td>\n",
       "      <td id=\"T_519e2_row3_col3\" class=\"data row3 col3\" >0.572</td>\n",
       "      <td id=\"T_519e2_row3_col4\" class=\"data row3 col4\" >0.446</td>\n",
       "      <td id=\"T_519e2_row3_col5\" class=\"data row3 col5\" >0.387</td>\n",
       "      <td id=\"T_519e2_row3_col6\" class=\"data row3 col6\" >0.928</td>\n",
       "    </tr>\n",
       "  </tbody>\n",
       "</table>\n"
      ],
      "text/plain": [
       "<pandas.io.formats.style.Styler at 0x28335e95f00>"
      ]
     },
     "execution_count": 11,
     "metadata": {},
     "output_type": "execute_result"
    }
   ],
   "source": [
    "df_point_wise.drop(['P', 'R','AUPRC'], axis=1, level=1).style.set_precision(3).apply(highlight_max, props='color:white;background-color:darkblue', axis=0)"
   ]
  },
  {
   "cell_type": "markdown",
   "id": "8a181029-3091-48b9-9381-e807136432fd",
   "metadata": {},
   "source": [
    "## Evaluate all datasets under Range-Wise metrics"
   ]
  },
  {
   "cell_type": "code",
   "execution_count": 12,
   "id": "7987c9c8-9a02-4e81-8649-fa53dd1f582e",
   "metadata": {},
   "outputs": [
    {
     "name": "stdout",
     "output_type": "stream",
     "text": [
      "[INFO]: Evaluating 7 datasets\n",
      " Evaluation on SWAT finished\n",
      " Evaluation on WADI_127 finished\n",
      " Evaluation on WADI_112 finished\n",
      "[INFO:] SMD contains 28 data traces.\n"
     ]
    },
    {
     "ename": "KeyboardInterrupt",
     "evalue": "",
     "output_type": "error",
     "traceback": [
      "\u001b[1;31m---------------------------------------------------------------------------\u001b[0m",
      "\u001b[1;31mKeyboardInterrupt\u001b[0m                         Traceback (most recent call last)",
      "Cell \u001b[1;32mIn[12], line 1\u001b[0m\n\u001b[1;32m----> 1\u001b[0m _, df_range_wise \u001b[38;5;241m=\u001b[39m \u001b[43mevaluate_datasets\u001b[49m\u001b[43m(\u001b[49m\u001b[43mmodule_path\u001b[49m\u001b[43m,\u001b[49m\n\u001b[0;32m      2\u001b[0m \u001b[43m                      \u001b[49m\u001b[43mdataset_names_ordered\u001b[49m\u001b[38;5;241;43m=\u001b[39;49m\u001b[38;5;28;43;01mNone\u001b[39;49;00m\u001b[43m,\u001b[49m\n\u001b[0;32m      3\u001b[0m \u001b[43m                      \u001b[49m\u001b[43mpreprocessing\u001b[49m\u001b[38;5;241;43m=\u001b[39;49m\u001b[38;5;124;43m\"\u001b[39;49m\u001b[38;5;124;43m0-1\u001b[39;49m\u001b[38;5;124;43m\"\u001b[39;49m\u001b[43m,\u001b[49m\n\u001b[0;32m      4\u001b[0m \u001b[43m                      \u001b[49m\u001b[43meval_method\u001b[49m\u001b[38;5;241;43m=\u001b[39;49m\u001b[38;5;124;43m'\u001b[39;49m\u001b[38;5;124;43mrange_wise\u001b[39;49m\u001b[38;5;124;43m'\u001b[39;49m\u001b[43m,\u001b[49m\n\u001b[0;32m      5\u001b[0m \u001b[43m                      \u001b[49m\u001b[43mpca_dim\u001b[49m\u001b[38;5;241;43m=\u001b[39;49m\u001b[38;5;241;43m30\u001b[39;49m\u001b[43m,\u001b[49m\n\u001b[0;32m      6\u001b[0m \u001b[43m                      \u001b[49m\u001b[43mshow_norm_impact\u001b[49m\u001b[38;5;241;43m=\u001b[39;49m\u001b[38;5;28;43;01mFalse\u001b[39;49;00m\u001b[43m,\u001b[49m\n\u001b[0;32m      7\u001b[0m \u001b[43m                      \u001b[49m\u001b[43mverbose\u001b[49m\u001b[38;5;241;43m=\u001b[39;49m\u001b[38;5;28;43;01mTrue\u001b[39;49;00m\u001b[43m)\u001b[49m\n",
      "File \u001b[1;32mC:\\meiyche_github\\QuoVadisTAD\\src\\eval_simple_baselines.py:192\u001b[0m, in \u001b[0;36mevaluate_datasets\u001b[1;34m(root_path, preprocessing, eval_method, distance, pca_dim, show_norm_impact, dataset_names_ordered, verbose)\u001b[0m\n\u001b[0;32m    189\u001b[0m train, test, labels \u001b[38;5;241m=\u001b[39m datasets[dataset_name](root_path)\n\u001b[0;32m    191\u001b[0m dataset_name \u001b[38;5;241m=\u001b[39m dataset_name\u001b[38;5;241m.\u001b[39mupper()    \n\u001b[1;32m--> 192\u001b[0m result, df \u001b[38;5;241m=\u001b[39m \u001b[43mrun_baselines\u001b[49m\u001b[43m(\u001b[49m\u001b[43m[\u001b[49m\u001b[43mtrain\u001b[49m\u001b[43m,\u001b[49m\u001b[43m \u001b[49m\u001b[43mtest\u001b[49m\u001b[43m,\u001b[49m\u001b[43m \u001b[49m\u001b[43mlabels\u001b[49m\u001b[43m]\u001b[49m\u001b[43m,\u001b[49m\n\u001b[0;32m    193\u001b[0m \u001b[43m                            \u001b[49m\u001b[43mpreprocessing\u001b[49m\u001b[38;5;241;43m=\u001b[39;49m\u001b[43mpreprocessing\u001b[49m\u001b[43m,\u001b[49m\n\u001b[0;32m    194\u001b[0m \u001b[43m                            \u001b[49m\u001b[43meval_method\u001b[49m\u001b[38;5;241;43m=\u001b[39;49m\u001b[43meval_method\u001b[49m\u001b[43m,\u001b[49m\n\u001b[0;32m    195\u001b[0m \u001b[43m                            \u001b[49m\u001b[43mdistance\u001b[49m\u001b[38;5;241;43m=\u001b[39;49m\u001b[43mdistance\u001b[49m\u001b[43m,\u001b[49m\n\u001b[0;32m    196\u001b[0m \u001b[43m                            \u001b[49m\u001b[43mpca_dim\u001b[49m\u001b[38;5;241;43m=\u001b[39;49m\u001b[43mpca_dim\u001b[49m\u001b[43m,\u001b[49m\n\u001b[0;32m    197\u001b[0m \u001b[43m                            \u001b[49m\u001b[43mshow_norm_impact\u001b[49m\u001b[38;5;241;43m=\u001b[39;49m\u001b[43mshow_norm_impact\u001b[49m\n\u001b[0;32m    198\u001b[0m \u001b[43m                            \u001b[49m\u001b[43m)\u001b[49m\n\u001b[0;32m    200\u001b[0m multi_col \u001b[38;5;241m=\u001b[39m [(dataset_name, col) \u001b[38;5;28;01mfor\u001b[39;00m col \u001b[38;5;129;01min\u001b[39;00m df\u001b[38;5;241m.\u001b[39mcolumns]\n\u001b[0;32m    201\u001b[0m df\u001b[38;5;241m.\u001b[39mcolumns \u001b[38;5;241m=\u001b[39m pd\u001b[38;5;241m.\u001b[39mMultiIndex\u001b[38;5;241m.\u001b[39mfrom_tuples(multi_col)\n",
      "File \u001b[1;32mC:\\meiyche_github\\QuoVadisTAD\\src\\eval_simple_baselines.py:55\u001b[0m, in \u001b[0;36mrun_baselines\u001b[1;34m(data, preprocessing, eval_method, distance, pca_dim, show_norm_impact)\u001b[0m\n\u001b[0;32m     52\u001b[0m     tr \u001b[38;5;241m=\u001b[39m concatenate_windows_feat(tr, window_size\u001b[38;5;241m=\u001b[39m\u001b[38;5;241m5\u001b[39m)\n\u001b[0;32m     53\u001b[0m     te \u001b[38;5;241m=\u001b[39m concatenate_windows_feat(te, window_size\u001b[38;5;241m=\u001b[39m\u001b[38;5;241m5\u001b[39m)             \n\u001b[1;32m---> 55\u001b[0m res_i, df_i \u001b[38;5;241m=\u001b[39m \u001b[43mevaluate_baselines\u001b[49m\u001b[43m(\u001b[49m\u001b[43mtr\u001b[49m\u001b[43m,\u001b[49m\u001b[43m \u001b[49m\u001b[43mte\u001b[49m\u001b[43m,\u001b[49m\u001b[43m \u001b[49m\u001b[43mlabels\u001b[49m\u001b[43m[\u001b[49m\u001b[43mi\u001b[49m\u001b[43m]\u001b[49m\u001b[43m,\u001b[49m\n\u001b[0;32m     56\u001b[0m \u001b[43m                                 \u001b[49m\u001b[43meval_method\u001b[49m\u001b[38;5;241;43m=\u001b[39;49m\u001b[43meval_method\u001b[49m\u001b[43m,\u001b[49m\n\u001b[0;32m     57\u001b[0m \u001b[43m                                 \u001b[49m\u001b[43mpca_dim\u001b[49m\u001b[38;5;241;43m=\u001b[39;49m\u001b[43mpca_dim\u001b[49m\u001b[43m,\u001b[49m\n\u001b[0;32m     58\u001b[0m \u001b[43m                                 \u001b[49m\u001b[43mshow_norm_impact\u001b[49m\u001b[38;5;241;43m=\u001b[39;49m\u001b[43mshow_norm_impact\u001b[49m\u001b[43m,\u001b[49m\n\u001b[0;32m     59\u001b[0m \u001b[43m                                 \u001b[49m\u001b[43mdistance\u001b[49m\u001b[38;5;241;43m=\u001b[39;49m\u001b[43mdistance\u001b[49m\u001b[43m)\u001b[49m\n\u001b[0;32m     61\u001b[0m res\u001b[38;5;241m.\u001b[39mappend(res_i)\n\u001b[0;32m     62\u001b[0m df\u001b[38;5;241m.\u001b[39mappend(df_i)\n",
      "File \u001b[1;32mC:\\meiyche_github\\QuoVadisTAD\\src\\eval_simple_baselines.py:113\u001b[0m, in \u001b[0;36mevaluate_baselines\u001b[1;34m(train_array, test_array, labels, eval_method, distance, pca_dim, show_norm_impact, verbose)\u001b[0m\n\u001b[0;32m    111\u001b[0m \u001b[38;5;66;03m# Baseline-3: 1-NN distance - closest distance to train timestamp\u001b[39;00m\n\u001b[0;32m    112\u001b[0m scores \u001b[38;5;241m=\u001b[39m metrics\u001b[38;5;241m.\u001b[39mpairwise\u001b[38;5;241m.\u001b[39mpairwise_distances(test_array, train_array, metric\u001b[38;5;241m=\u001b[39mdistance)\n\u001b[1;32m--> 113\u001b[0m results_3, df_3 \u001b[38;5;241m=\u001b[39m \u001b[43mevaluate_ts\u001b[49m\u001b[43m(\u001b[49m\u001b[43mscores\u001b[49m\u001b[38;5;241;43m.\u001b[39;49m\u001b[43mmin\u001b[49m\u001b[43m(\u001b[49m\u001b[38;5;241;43m1\u001b[39;49m\u001b[43m)\u001b[49m\u001b[43m,\u001b[49m\u001b[43m \u001b[49m\u001b[43mtest_labels\u001b[49m\u001b[43m,\u001b[49m\u001b[43m \u001b[49m\u001b[43meval_method\u001b[49m\u001b[38;5;241;43m=\u001b[39;49m\u001b[43meval_method\u001b[49m\u001b[43m,\u001b[49m\u001b[43m \u001b[49m\u001b[43mverbose\u001b[49m\u001b[38;5;241;43m=\u001b[39;49m\u001b[43mverbose\u001b[49m\u001b[43m)\u001b[49m\n\u001b[0;32m    115\u001b[0m \u001b[38;5;66;03m# Baseline 3_3: distance to train mean (fast and often very good as well)\u001b[39;00m\n\u001b[0;32m    116\u001b[0m \u001b[38;5;66;03m#scores = metrics.pairwise.pairwise_distances(test_array, train_array.mean(0)[None, :], metric=distance)                                             \u001b[39;00m\n\u001b[0;32m    117\u001b[0m \u001b[38;5;66;03m#results_2, df_2 = evaluate_ts(scores, test_labels, eval_method=eval_method, verbose=verbose)\u001b[39;00m\n\u001b[0;32m    118\u001b[0m \n\u001b[0;32m    119\u001b[0m \n\u001b[0;32m    120\u001b[0m \u001b[38;5;66;03m# Baseline-4: PCA-Error\u001b[39;00m\n\u001b[0;32m    121\u001b[0m pca \u001b[38;5;241m=\u001b[39m PCA(n_components\u001b[38;5;241m=\u001b[39mpca_dim, svd_solver\u001b[38;5;241m=\u001b[39m\u001b[38;5;124m'\u001b[39m\u001b[38;5;124mfull\u001b[39m\u001b[38;5;124m'\u001b[39m)\n",
      "File \u001b[1;32mC:\\meiyche_github\\QuoVadisTAD\\src\\evaluation_scripts\\evaluate_ts.py:20\u001b[0m, in \u001b[0;36mevaluate_ts\u001b[1;34m(scores, targets, eval_method, verbose)\u001b[0m\n\u001b[0;32m     17\u001b[0m         \u001b[38;5;28mprint\u001b[39m(df\u001b[38;5;241m.\u001b[39mto_string(index\u001b[38;5;241m=\u001b[39m\u001b[38;5;28;01mFalse\u001b[39;00m)) \n\u001b[0;32m     19\u001b[0m \u001b[38;5;28;01melse\u001b[39;00m:\n\u001b[1;32m---> 20\u001b[0m    results, df \u001b[38;5;241m=\u001b[39m \u001b[43mget_ts_eval\u001b[49m\u001b[43m(\u001b[49m\u001b[43mscores\u001b[49m\u001b[43m,\u001b[49m\u001b[43m \u001b[49m\u001b[43mtargets\u001b[49m\u001b[43m,\u001b[49m\u001b[43m \u001b[49m\u001b[43meval_method\u001b[49m\u001b[38;5;241;43m=\u001b[39;49m\u001b[43meval_method\u001b[49m\u001b[43m,\u001b[49m\u001b[43m \u001b[49m\u001b[43mverbose\u001b[49m\u001b[38;5;241;43m=\u001b[39;49m\u001b[43mverbose\u001b[49m\u001b[43m)\u001b[49m \n\u001b[0;32m     23\u001b[0m \u001b[38;5;28;01mreturn\u001b[39;00m results, df\n",
      "File \u001b[1;32mC:\\meiyche_github\\QuoVadisTAD\\src\\evaluation_scripts\\evaluate_ts.py:36\u001b[0m, in \u001b[0;36mget_ts_eval\u001b[1;34m(scores, targets, eval_method, verbose)\u001b[0m\n\u001b[0;32m     33\u001b[0m     results \u001b[38;5;241m=\u001b[39m ts_evalator\u001b[38;5;241m.\u001b[39mbest_f1_score(targets, scores)\n\u001b[0;32m     34\u001b[0m \u001b[38;5;28;01melif\u001b[39;00m eval_method \u001b[38;5;241m==\u001b[39m \u001b[38;5;124m'\u001b[39m\u001b[38;5;124mrange_wise\u001b[39m\u001b[38;5;124m'\u001b[39m:\n\u001b[0;32m     35\u001b[0m     \u001b[38;5;66;03m# recall-consistant [wagner et al. 2023]\u001b[39;00m\n\u001b[1;32m---> 36\u001b[0m     results \u001b[38;5;241m=\u001b[39m \u001b[43mts_evalator\u001b[49m\u001b[38;5;241;43m.\u001b[39;49m\u001b[43mbest_ts_f1_score\u001b[49m\u001b[43m(\u001b[49m\u001b[43mtargets\u001b[49m\u001b[43m,\u001b[49m\u001b[43m \u001b[49m\u001b[43mscores\u001b[49m\u001b[43m)\u001b[49m\n\u001b[0;32m     37\u001b[0m \u001b[38;5;28;01melse\u001b[39;00m:        \n\u001b[0;32m     38\u001b[0m     \u001b[38;5;28;01mraise\u001b[39;00m \u001b[38;5;167;01mValueError\u001b[39;00m(\u001b[38;5;124m'\u001b[39m\u001b[38;5;124mEvaluation method not implemented.\u001b[39m\u001b[38;5;124m'\u001b[39m)\n",
      "File \u001b[1;32mC:\\meiyche_github\\QuoVadisTAD\\src\\evaluation_scripts\\ts_evaluator.py:672\u001b[0m, in \u001b[0;36mEvaluator.best_ts_f1_score\u001b[1;34m(self, labels, scores)\u001b[0m\n\u001b[0;32m    655\u001b[0m \u001b[38;5;28;01mdef\u001b[39;00m \u001b[38;5;21mbest_ts_f1_score\u001b[39m(\u001b[38;5;28mself\u001b[39m, labels: torch\u001b[38;5;241m.\u001b[39mTensor, scores: torch\u001b[38;5;241m.\u001b[39mTensor) \u001b[38;5;241m-\u001b[39m\u001b[38;5;241m>\u001b[39m Tuple[\u001b[38;5;28mfloat\u001b[39m, Dict[\u001b[38;5;28mstr\u001b[39m, Any]]:\n\u001b[0;32m    656\u001b[0m \u001b[38;5;250m    \u001b[39m\u001b[38;5;124mr\u001b[39m\u001b[38;5;124;03m\"\"\"\u001b[39;00m\n\u001b[0;32m    657\u001b[0m \u001b[38;5;124;03m    Compute the :math:`F_{1}` score using precision and recall for time series [Tatbul2018]_.\u001b[39;00m\n\u001b[0;32m    658\u001b[0m \n\u001b[1;32m   (...)\u001b[0m\n\u001b[0;32m    670\u001b[0m \u001b[38;5;124;03m        precision that produced the maximal score.\u001b[39;00m\n\u001b[0;32m    671\u001b[0m \u001b[38;5;124;03m    \"\"\"\u001b[39;00m\n\u001b[1;32m--> 672\u001b[0m     \u001b[38;5;28;01mreturn\u001b[39;00m \u001b[38;5;28;43mself\u001b[39;49m\u001b[38;5;241;43m.\u001b[39;49m\u001b[43mbest_ts_fbeta_score\u001b[49m\u001b[43m(\u001b[49m\u001b[43mlabels\u001b[49m\u001b[43m,\u001b[49m\u001b[43m \u001b[49m\u001b[43mscores\u001b[49m\u001b[43m,\u001b[49m\u001b[43m \u001b[49m\u001b[38;5;241;43m1\u001b[39;49m\u001b[43m)\u001b[49m\n",
      "File \u001b[1;32mC:\\meiyche_github\\QuoVadisTAD\\src\\evaluation_scripts\\ts_evaluator.py:627\u001b[0m, in \u001b[0;36mEvaluator.best_ts_fbeta_score\u001b[1;34m(self, labels, scores, beta)\u001b[0m\n\u001b[0;32m    607\u001b[0m \u001b[38;5;28;01mdef\u001b[39;00m \u001b[38;5;21mbest_ts_fbeta_score\u001b[39m(\u001b[38;5;28mself\u001b[39m, labels: torch\u001b[38;5;241m.\u001b[39mTensor, scores: torch\u001b[38;5;241m.\u001b[39mTensor, beta: \u001b[38;5;28mfloat\u001b[39m) \u001b[38;5;241m-\u001b[39m\u001b[38;5;241m>\u001b[39m Tuple[\u001b[38;5;28mfloat\u001b[39m, Dict[\u001b[38;5;28mstr\u001b[39m, Any]]:\n\u001b[0;32m    608\u001b[0m \u001b[38;5;250m    \u001b[39m\u001b[38;5;124mr\u001b[39m\u001b[38;5;124;03m\"\"\"\u001b[39;00m\n\u001b[0;32m    609\u001b[0m \u001b[38;5;124;03m    Compute the :math:`F_{\\beta}` score using precision and recall for time series [Tatbul2018]_.\u001b[39;00m\n\u001b[0;32m    610\u001b[0m \n\u001b[1;32m   (...)\u001b[0m\n\u001b[0;32m    625\u001b[0m \u001b[38;5;124;03m        precision that produced the maximal score.\u001b[39;00m\n\u001b[0;32m    626\u001b[0m \u001b[38;5;124;03m    \"\"\"\u001b[39;00m\n\u001b[1;32m--> 627\u001b[0m     \u001b[38;5;28;01mreturn\u001b[39;00m \u001b[38;5;28;43mself\u001b[39;49m\u001b[38;5;241;43m.\u001b[39;49m\u001b[43m__best_ts_fbeta_score\u001b[49m\u001b[43m(\u001b[49m\u001b[43mlabels\u001b[49m\u001b[43m,\u001b[49m\u001b[43m \u001b[49m\u001b[43mscores\u001b[49m\u001b[43m,\u001b[49m\u001b[43m \u001b[49m\u001b[43mbeta\u001b[49m\u001b[43m,\u001b[49m\u001b[43m \u001b[49m\u001b[43mrecall_cardinality_fn\u001b[49m\u001b[38;5;241;43m=\u001b[39;49m\u001b[43mimproved_cardinality_fn\u001b[49m\u001b[43m,\u001b[49m\n\u001b[0;32m    628\u001b[0m \u001b[43m                                    \u001b[49m\u001b[43mweighted_precision\u001b[49m\u001b[38;5;241;43m=\u001b[39;49m\u001b[38;5;28;43;01mTrue\u001b[39;49;00m\u001b[43m)\u001b[49m\n",
      "File \u001b[1;32mC:\\meiyche_github\\QuoVadisTAD\\src\\evaluation_scripts\\ts_evaluator.py:576\u001b[0m, in \u001b[0;36mEvaluator.__best_ts_fbeta_score\u001b[1;34m(self, labels, scores, beta, recall_cardinality_fn, weighted_precision)\u001b[0m\n\u001b[0;32m    574\u001b[0m \u001b[38;5;28;01mfor\u001b[39;00m i, t \u001b[38;5;129;01min\u001b[39;00m \u001b[38;5;28menumerate\u001b[39m(thresholds):\n\u001b[0;32m    575\u001b[0m     torch\u001b[38;5;241m.\u001b[39mgreater(scores, t, out\u001b[38;5;241m=\u001b[39mpredictions)\n\u001b[1;32m--> 576\u001b[0m     prec, rec \u001b[38;5;241m=\u001b[39m \u001b[43mts_precision_and_recall\u001b[49m\u001b[43m(\u001b[49m\u001b[43mlabels\u001b[49m\u001b[43m,\u001b[49m\u001b[43m \u001b[49m\u001b[43mpredictions\u001b[49m\u001b[43m,\u001b[49m\u001b[43m \u001b[49m\u001b[43malpha\u001b[49m\u001b[38;5;241;43m=\u001b[39;49m\u001b[38;5;241;43m0\u001b[39;49m\u001b[43m,\u001b[49m\n\u001b[0;32m    577\u001b[0m \u001b[43m                                        \u001b[49m\u001b[43mrecall_cardinality_fn\u001b[49m\u001b[38;5;241;43m=\u001b[39;49m\u001b[43mrecall_cardinality_fn\u001b[49m\u001b[43m,\u001b[49m\n\u001b[0;32m    578\u001b[0m \u001b[43m                                        \u001b[49m\u001b[43manomaly_ranges\u001b[49m\u001b[38;5;241;43m=\u001b[39;49m\u001b[43mlabel_ranges\u001b[49m\u001b[43m,\u001b[49m\n\u001b[0;32m    579\u001b[0m \u001b[43m                                        \u001b[49m\u001b[43mweighted_precision\u001b[49m\u001b[38;5;241;43m=\u001b[39;49m\u001b[43mweighted_precision\u001b[49m\u001b[43m)\u001b[49m\n\u001b[0;32m    581\u001b[0m     \u001b[38;5;66;03m# We need to handle the case where precision and recall are both 0. This can either happen for an\u001b[39;00m\n\u001b[0;32m    582\u001b[0m     \u001b[38;5;66;03m# extremely bad classifier or if all predictions are 0\u001b[39;00m\n\u001b[0;32m    583\u001b[0m     \u001b[38;5;28;01mif\u001b[39;00m prec \u001b[38;5;241m==\u001b[39m rec \u001b[38;5;241m==\u001b[39m \u001b[38;5;241m0\u001b[39m:\n\u001b[0;32m    584\u001b[0m         \u001b[38;5;66;03m# We simply set rec = 1 to avoid dividing by zero. The F-score will still be 0\u001b[39;00m\n",
      "File \u001b[1;32mC:\\meiyche_github\\QuoVadisTAD\\src\\evaluation_scripts\\ts_evaluator.py:311\u001b[0m, in \u001b[0;36mts_precision_and_recall\u001b[1;34m(anomalies, predictions, alpha, recall_bias_fn, recall_cardinality_fn, precision_bias_fn, precision_cardinality_fn, anomaly_ranges, prediction_ranges, weighted_precision)\u001b[0m\n\u001b[0;32m    308\u001b[0m \u001b[38;5;28;01mif\u001b[39;00m prediction_ranges \u001b[38;5;129;01mis\u001b[39;00m \u001b[38;5;28;01mNone\u001b[39;00m:\n\u001b[0;32m    309\u001b[0m     prediction_ranges \u001b[38;5;241m=\u001b[39m compute_window_indices(predictions)\n\u001b[1;32m--> 311\u001b[0m recall \u001b[38;5;241m=\u001b[39m \u001b[43m_compute_overlap\u001b[49m\u001b[43m(\u001b[49m\u001b[43mpredictions\u001b[49m\u001b[43m,\u001b[49m\u001b[43m \u001b[49m\u001b[43mprediction_ranges\u001b[49m\u001b[43m,\u001b[49m\u001b[43m \u001b[49m\u001b[43manomaly_ranges\u001b[49m\u001b[43m,\u001b[49m\u001b[43m \u001b[49m\u001b[43malpha\u001b[49m\u001b[43m,\u001b[49m\u001b[43m \u001b[49m\u001b[43mrecall_bias_fn\u001b[49m\u001b[43m,\u001b[49m\n\u001b[0;32m    312\u001b[0m \u001b[43m                          \u001b[49m\u001b[43mrecall_cardinality_fn\u001b[49m\u001b[43m)\u001b[49m\n\u001b[0;32m    313\u001b[0m precision \u001b[38;5;241m=\u001b[39m _compute_overlap(anomalies, anomaly_ranges, prediction_ranges, \u001b[38;5;241m0\u001b[39m, precision_bias_fn,\n\u001b[0;32m    314\u001b[0m                              precision_cardinality_fn, use_window_weight\u001b[38;5;241m=\u001b[39mweighted_precision)\n\u001b[0;32m    316\u001b[0m \u001b[38;5;28;01mreturn\u001b[39;00m precision, recall\n",
      "File \u001b[1;32mC:\\meiyche_github\\QuoVadisTAD\\src\\evaluation_scripts\\ts_evaluator.py:241\u001b[0m, in \u001b[0;36m_compute_overlap\u001b[1;34m(preds, pred_indices, gt_indices, alpha, bias_fn, cardinality_fn, use_window_weight)\u001b[0m\n\u001b[0;32m    238\u001b[0m prediction_inside_ground_truth \u001b[38;5;241m=\u001b[39m preds[gt_start:gt_end]\n\u001b[0;32m    239\u001b[0m \u001b[38;5;66;03m# We calculate omega directly in the bias function, because this can greatly improve running time\u001b[39;00m\n\u001b[0;32m    240\u001b[0m \u001b[38;5;66;03m# for the constant bias, for example.\u001b[39;00m\n\u001b[1;32m--> 241\u001b[0m omega \u001b[38;5;241m=\u001b[39m \u001b[43mbias_fn\u001b[49m\u001b[43m(\u001b[49m\u001b[43mprediction_inside_ground_truth\u001b[49m\u001b[43m)\u001b[49m\n\u001b[0;32m    243\u001b[0m \u001b[38;5;66;03m# Either weight evenly across all windows or based on window length\u001b[39;00m\n\u001b[0;32m    244\u001b[0m weight \u001b[38;5;241m=\u001b[39m window_length \u001b[38;5;28;01mif\u001b[39;00m use_window_weight \u001b[38;5;28;01melse\u001b[39;00m \u001b[38;5;241m1\u001b[39m\n",
      "File \u001b[1;32mC:\\meiyche_github\\QuoVadisTAD\\src\\evaluation_scripts\\ts_evaluator.py:54\u001b[0m, in \u001b[0;36mconstant_bias_fn\u001b[1;34m(inputs)\u001b[0m\n\u001b[0;32m     36\u001b[0m \u001b[38;5;28;01mdef\u001b[39;00m \u001b[38;5;21mconstant_bias_fn\u001b[39m(inputs: torch\u001b[38;5;241m.\u001b[39mTensor) \u001b[38;5;241m-\u001b[39m\u001b[38;5;241m>\u001b[39m \u001b[38;5;28mfloat\u001b[39m:\n\u001b[0;32m     37\u001b[0m \u001b[38;5;250m    \u001b[39m\u001b[38;5;124mr\u001b[39m\u001b[38;5;124;03m\"\"\"\u001b[39;00m\n\u001b[0;32m     38\u001b[0m \u001b[38;5;124;03m    Compute the overlap size for a constant bias function that assigns the same weight to all positions.\u001b[39;00m\n\u001b[0;32m     39\u001b[0m \n\u001b[1;32m   (...)\u001b[0m\n\u001b[0;32m     52\u001b[0m \u001b[38;5;124;03m    :return: The overlap :math:`\\omega`.\u001b[39;00m\n\u001b[0;32m     53\u001b[0m \u001b[38;5;124;03m    \"\"\"\u001b[39;00m\n\u001b[1;32m---> 54\u001b[0m     \u001b[38;5;28;01mreturn\u001b[39;00m \u001b[43mtorch\u001b[49m\u001b[38;5;241;43m.\u001b[39;49m\u001b[43msum\u001b[49m\u001b[43m(\u001b[49m\u001b[43minputs\u001b[49m\u001b[43m)\u001b[49m\u001b[38;5;241m.\u001b[39mitem() \u001b[38;5;241m/\u001b[39m inputs\u001b[38;5;241m.\u001b[39mshape[\u001b[38;5;241m0\u001b[39m]\n",
      "\u001b[1;31mKeyboardInterrupt\u001b[0m: "
     ]
    }
   ],
   "source": [
    "_, df_range_wise = evaluate_datasets(module_path,\n",
    "                      dataset_names_ordered=None,\n",
    "                      preprocessing=\"0-1\",\n",
    "                      eval_method='range_wise',\n",
    "                      pca_dim=30,\n",
    "                      show_norm_impact=False,\n",
    "                      verbose=True)"
   ]
  },
  {
   "cell_type": "code",
   "execution_count": null,
   "id": "46274baf-e77d-4982-bfb3-62b0f6b5a733",
   "metadata": {},
   "outputs": [],
   "source": [
    "df_range_wise.style.set_precision(3).apply(highlight_max, props='color:white;background-color:darkblue', axis=0)"
   ]
  },
  {
   "cell_type": "code",
   "execution_count": null,
   "id": "40ca7aab-ca83-40c6-ad64-8195daf7b8be",
   "metadata": {},
   "outputs": [],
   "source": [
    "df_range_wise.drop(['P', 'R','AUPRC'], axis=1, level=1).style.set_precision(3).apply(highlight_max, props='color:white;background-color:darkblue', axis=0)"
   ]
  },
  {
   "cell_type": "code",
   "execution_count": null,
   "id": "97b329ca-7446-4403-9033-55c1f4e550b5",
   "metadata": {},
   "outputs": [],
   "source": []
  },
  {
   "cell_type": "code",
   "execution_count": null,
   "id": "8462c9c7-4f48-4436-a7fb-c558254be7e3",
   "metadata": {},
   "outputs": [],
   "source": []
  }
 ],
 "metadata": {
  "kernelspec": {
   "display_name": "Python 3 (ipykernel)",
   "language": "python",
   "name": "python3"
  },
  "language_info": {
   "codemirror_mode": {
    "name": "ipython",
    "version": 3
   },
   "file_extension": ".py",
   "mimetype": "text/x-python",
   "name": "python",
   "nbconvert_exporter": "python",
   "pygments_lexer": "ipython3",
   "version": "3.10.0"
  }
 },
 "nbformat": 4,
 "nbformat_minor": 5
}
