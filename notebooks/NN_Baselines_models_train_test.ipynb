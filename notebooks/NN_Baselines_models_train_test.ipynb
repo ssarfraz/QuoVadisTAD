{
 "cells": [
  {
   "cell_type": "code",
   "execution_count": 1,
   "id": "25f7c865-f756-48b9-a9c0-96d9afb4b5fa",
   "metadata": {},
   "outputs": [],
   "source": [
    "%load_ext autoreload\n",
    "%autoreload 2"
   ]
  },
  {
   "cell_type": "code",
   "execution_count": 2,
   "id": "4630dab9-74a7-427f-8a40-7a134d26f3a6",
   "metadata": {},
   "outputs": [],
   "source": [
    "import sys\n",
    "from pathlib import Path\n",
    "module_path = str(Path.cwd().parents[0])\n",
    "if module_path not in sys.path:\n",
    "    sys.path.append(module_path)"
   ]
  },
  {
   "cell_type": "code",
   "execution_count": 3,
   "id": "3dcc0bd8-f739-4180-9383-76dba48d3cb4",
   "metadata": {},
   "outputs": [
    {
     "name": "stdout",
     "output_type": "stream",
     "text": [
      "WARNING:tensorflow:From C:\\Users\\MEIYCHE\\AppData\\Local\\pypoetry\\Cache\\virtualenvs\\tad-cslQHbbE-py3.10\\lib\\site-packages\\keras\\src\\losses.py:2976: The name tf.losses.sparse_softmax_cross_entropy is deprecated. Please use tf.compat.v1.losses.sparse_softmax_cross_entropy instead.\n",
      "\n"
     ]
    }
   ],
   "source": [
    "import pandas as pd\n",
    "from src.dataset_utils.dataset_reader import datasets\n",
    "from src.dataset_utils.data_utils import preprocess_data, normalise_scores\n",
    "from src.evaluation_scripts.evaluate_ts import evaluate_ts\n",
    "from src.model_utils.model_def import test_embedder\n",
    "pd.set_option('display.precision', 3)"
   ]
  },
  {
   "cell_type": "code",
   "execution_count": 4,
   "id": "09af8976-f858-4273-86db-487d42ccb4e9",
   "metadata": {},
   "outputs": [],
   "source": [
    "import tensorflow as tf\n",
    "gpus = tf.config.list_physical_devices('GPU')\n",
    "if len(gpus) > 0: \n",
    "   tf.config.experimental.set_visible_devices(gpus[0], 'GPU')"
   ]
  },
  {
   "cell_type": "markdown",
   "id": "d15d8f1d-d0ff-4863-9cdc-e14bf99b95c2",
   "metadata": {},
   "source": [
    "# Train NN-Baselines Models"
   ]
  },
  {
   "cell_type": "markdown",
   "id": "ab4039be-50eb-4205-a42f-edcff3a152dd",
   "metadata": {
    "tags": []
   },
   "source": [
    "#### We provide four model configurations to train corresponding to the introduced four NN-Baselines. See the \"src/model_configs\" folder. To train these on a dataset, go to project root and run from the console the following command by providing the dataset name. This will train all model configs on the dataset. "
   ]
  },
  {
   "cell_type": "markdown",
   "id": "7e848523-47c8-45d2-bf91-a72551aad6b9",
   "metadata": {},
   "source": [
    "`CUDA_VISIBLE_DEVICES=0 python ./src/run_all_configs.py wadi_112`\n"
   ]
  },
  {
   "cell_type": "markdown",
   "id": "398b9123-4971-4d3b-bf08-3817022b6566",
   "metadata": {},
   "source": [
    "#### or pass a specific config name to train with --config-to-run argument as below"
   ]
  },
  {
   "cell_type": "markdown",
   "id": "7617011e-a280-462b-a85a-4a1ff0713c84",
   "metadata": {},
   "source": [
    "`CUDA_VISIBLE_DEVICES=0 python ./src/run_all_configs.py wadi_112 --config-to-run gcn_lstm_model_seq_5.yaml`\n",
    "\n"
   ]
  },
  {
   "cell_type": "markdown",
   "id": "465c6f4e-f9eb-493c-bdcd-8f87e6fa577d",
   "metadata": {},
   "source": [
    "#### See the file run_all_configs for the input arguments options. The trained model checkpoints will be saved by default to model_configs folder."
   ]
  },
  {
   "cell_type": "markdown",
   "id": "0147c9a3-5d72-4f60-a845-03c4a48c9935",
   "metadata": {},
   "source": [
    "# Trained Model Inference & Evaluation"
   ]
  },
  {
   "cell_type": "markdown",
   "id": "1c7a7514-d7aa-48cd-91fa-f2a5025f764e",
   "metadata": {},
   "source": [
    "### We include our trained model checkpoints for SWAT and WADI datasets in the model_checkpoints folder. These or the ones you train can be tested as below."
   ]
  },
  {
   "cell_type": "markdown",
   "id": "a329436e-c9ea-4f74-af64-2f73dc0454ab",
   "metadata": {},
   "source": [
    "## Model Inference"
   ]
  },
  {
   "cell_type": "code",
   "execution_count": 5,
   "id": "89cde3d3-1ee0-43c6-b8a9-619f1ebd17f4",
   "metadata": {},
   "outputs": [
    {
     "name": "stdout",
     "output_type": "stream",
     "text": [
      "NN-Baseline: 1_Layer_GCN_LSTM\n",
      "number of nodes: 51, number of edges: 310\n",
      "number of nodes: 5, number of edges: 20\n",
      "WARNING:tensorflow:From C:\\Users\\MEIYCHE\\AppData\\Local\\pypoetry\\Cache\\virtualenvs\\tad-cslQHbbE-py3.10\\lib\\site-packages\\keras\\src\\backend.py:873: The name tf.get_default_graph is deprecated. Please use tf.compat.v1.get_default_graph instead.\n",
      "\n",
      "WARNING:tensorflow:From C:\\Users\\MEIYCHE\\AppData\\Local\\pypoetry\\Cache\\virtualenvs\\tad-cslQHbbE-py3.10\\lib\\site-packages\\keras\\src\\saving\\legacy\\save.py:538: The name tf.train.NewCheckpointReader is deprecated. Please use tf.compat.v1.train.NewCheckpointReader instead.\n",
      "\n",
      "Loaded pretrained_checkpoint\n"
     ]
    }
   ],
   "source": [
    "pred, gt = test_embedder(module_path,\n",
    "                                 'swat',                           # Dataset name one of e.g 'swat', 'wadi_127', 'wadi_112', 'smd', see dataset_reader enum\n",
    "                                 dataset_trace=None,\n",
    "                                 model_name='1_Layer_GCN_LSTM',    # one of the NN-Baselines '1_Layer_MLP', 'Single_block_MLPMixer', 'Single_Transformer_block', '1_Layer_GCN_LSTM'\n",
    "                                 load_weights=True,\n",
    "                                 training=False,\n",
    "                                 subset='test'\n",
    "                                )"
   ]
  },
  {
   "cell_type": "markdown",
   "id": "4bce23e2-9d88-4146-82ca-3773361d9085",
   "metadata": {},
   "source": [
    "## Evaluate the model prediction"
   ]
  },
  {
   "cell_type": "markdown",
   "id": "b18680d6-9418-4abd-8c7c-d464096476cc",
   "metadata": {},
   "source": [
    "### Evaluate the prediction under Point-Wise metrics"
   ]
  },
  {
   "cell_type": "code",
   "execution_count": 6,
   "id": "c5f053e2-18a3-4359-8044-80f0b9c708fd",
   "metadata": {},
   "outputs": [
    {
     "name": "stdout",
     "output_type": "stream",
     "text": [
      "           point_wise\n",
      "       F1       0.829\n",
      "Precision       0.982\n",
      "   Recall       0.718\n",
      "    AUPRC       0.793\n",
      "    AUROC       0.875\n"
     ]
    }
   ],
   "source": [
    "res, df = evaluate_ts(normalise_scores(pred).max(1),\n",
    "                   gt,\n",
    "                   eval_method='point_wise',\n",
    "                   verbose=True)"
   ]
  },
  {
   "cell_type": "code",
   "execution_count": null,
   "id": "0445f630-98e0-4e95-8c64-c7a39559f4c3",
   "metadata": {},
   "outputs": [],
   "source": []
  },
  {
   "cell_type": "markdown",
   "id": "4d40b9c2-1db8-4201-a39c-cc2c2cc39864",
   "metadata": {},
   "source": [
    "### Evaluate the prediction under Range-Wise metrics"
   ]
  },
  {
   "cell_type": "code",
   "execution_count": 7,
   "id": "46501f71-585a-4a1e-80ae-634c1c76eb10",
   "metadata": {},
   "outputs": [
    {
     "name": "stdout",
     "output_type": "stream",
     "text": [
      "           range_wise\n",
      "       F1       0.532\n",
      "Precision       0.914\n",
      "   Recall       0.375\n",
      "    AUPRC       0.532\n",
      "    AUROC       0.875\n"
     ]
    }
   ],
   "source": [
    "res, df = evaluate_ts(normalise_scores(pred).max(1),\n",
    "                   gt,\n",
    "                   eval_method='range_wise',\n",
    "                   verbose=True)"
   ]
  },
  {
   "cell_type": "code",
   "execution_count": null,
   "id": "66e2a63c-b2f1-4901-b920-b7855199185a",
   "metadata": {},
   "outputs": [],
   "source": []
  }
 ],
 "metadata": {
  "kernelspec": {
   "display_name": "Python 3 (ipykernel)",
   "language": "python",
   "name": "python3"
  },
  "language_info": {
   "codemirror_mode": {
    "name": "ipython",
    "version": 3
   },
   "file_extension": ".py",
   "mimetype": "text/x-python",
   "name": "python",
   "nbconvert_exporter": "python",
   "pygments_lexer": "ipython3",
   "version": "3.10.0"
  }
 },
 "nbformat": 4,
 "nbformat_minor": 5
}
