{
 "cells": [
  {
   "cell_type": "code",
   "execution_count": 1,
   "id": "a47a61cf-2b8f-44d8-9143-a81be51dfb97",
   "metadata": {},
   "outputs": [],
   "source": [
    "%load_ext autoreload\n",
    "%autoreload 2"
   ]
  },
  {
   "cell_type": "code",
   "execution_count": 8,
   "id": "76c0c288-57e5-40b8-a86b-25b4d41b55ed",
   "metadata": {
    "tags": []
   },
   "outputs": [],
   "source": [
    "import sys\n",
    "from pathlib import Path\n",
    "module_path = str(Path.cwd().parents[0])\n",
    "if module_path not in sys.path:\n",
    "    sys.path.append(module_path)\n",
    "\n",
    "import numpy as np\n",
    "\n",
    "from src.eval_simple_baselines import evaluate_simple_baselines_on_all_paper_datasets"
   ]
  },
  {
   "cell_type": "markdown",
   "id": "cea08463-b13f-4bde-ab14-77c1eda29f4e",
   "metadata": {},
   "source": [
    "# Evaluate the simple baselines\n",
    "In this notebook we run all our simple baselines on the datasets appearing in the paper. The main purpose of the notebook is reproducibility. If you want to use your own datasets, own methods and even combine them with ours, please look in the `simple_baselines_example_usage.ipynb` notebook for inspiration. "
   ]
  },
  {
   "cell_type": "code",
   "execution_count": 4,
   "id": "15efe816-31ee-45a0-98c7-238c84edc41c",
   "metadata": {},
   "outputs": [],
   "source": [
    "def highlight_max(s, props=''):\n",
    "    return np.where(s == np.nanmax(s.values), props, '')"
   ]
  },
  {
   "cell_type": "markdown",
   "id": "9d2a5ba9-7d63-43a3-96e1-d8a0b21778e3",
   "metadata": {},
   "source": [
    "## Evaluate on a single dataset\n",
    "Full evaluation on all datasets can take some time. One can first try running on a single dataset of interest to get some fast results. Below we have an example of evaluating the methods only on SWAT. On the first part, we apply it using the optimal score normalization and on the second part we return all such scores to check the impact of different normalization options."
   ]
  },
  {
   "cell_type": "markdown",
   "id": "01f9c559-fb31-4a52-a517-7ddd85986f1c",
   "metadata": {},
   "source": [
    "#### Optimal normalization"
   ]
  },
  {
   "cell_type": "code",
   "execution_count": 5,
   "id": "83248628-ed35-4f83-b70c-554e5fbb2d33",
   "metadata": {},
   "outputs": [
    {
     "name": "stdout",
     "output_type": "stream",
     "text": [
      "[INFO]: Evaluating 1 datasets\n",
      "Evaluating on SWAT.\n",
      "Evaluation on SWAT finished\n"
     ]
    }
   ],
   "source": [
    "df_std = evaluate_simple_baselines_on_all_paper_datasets(\n",
    "    root_path=module_path,\n",
    "    dataset_names=['swat'],  # provide one or more dataset names e.g ['swat', 'wadi_127', 'wadi_112', 'smd', 'ucr_IB'], see dataset_reader enum.\n",
    "    data_normalization=\"0-1\",              \n",
    "    eval_method='point_wise',\n",
    "    score_normalization='optimal',  # Will only return the scores for the optimal score normalization method.\n",
    "    verbose=True\n",
    ")"
   ]
  },
  {
   "cell_type": "code",
   "execution_count": 6,
   "id": "9af57b5b-fb7a-40df-ba05-25cb8d8bab8a",
   "metadata": {},
   "outputs": [
    {
     "data": {
      "text/html": [
       "<style type=\"text/css\">\n",
       "#T_de171_row0_col2, #T_de171_row1_col1, #T_de171_row3_col0, #T_de171_row3_col3 {\n",
       "  color: white;\n",
       "  background-color: darkblue;\n",
       "}\n",
       "</style>\n",
       "<table id=\"T_de171\">\n",
       "  <thead>\n",
       "    <tr>\n",
       "      <th class=\"blank level0\" >&nbsp;</th>\n",
       "      <th id=\"T_de171_level0_col0\" class=\"col_heading level0 col0\" colspan=\"4\">SWAT</th>\n",
       "    </tr>\n",
       "    <tr>\n",
       "      <th class=\"blank level1\" >&nbsp;</th>\n",
       "      <th id=\"T_de171_level1_col0\" class=\"col_heading level1 col0\" >F1</th>\n",
       "      <th id=\"T_de171_level1_col1\" class=\"col_heading level1 col1\" >P</th>\n",
       "      <th id=\"T_de171_level1_col2\" class=\"col_heading level1 col2\" >R</th>\n",
       "      <th id=\"T_de171_level1_col3\" class=\"col_heading level1 col3\" >AUPRC</th>\n",
       "    </tr>\n",
       "  </thead>\n",
       "  <tbody>\n",
       "    <tr>\n",
       "      <th id=\"T_de171_level0_row0\" class=\"row_heading level0 row0\" >Sensor Range Deviation</th>\n",
       "      <td id=\"T_de171_row0_col0\" class=\"data row0 col0\" >0.231</td>\n",
       "      <td id=\"T_de171_row0_col1\" class=\"data row0 col1\" >0.131</td>\n",
       "      <td id=\"T_de171_row0_col2\" class=\"data row0 col2\" >0.979</td>\n",
       "      <td id=\"T_de171_row0_col3\" class=\"data row0 col3\" >0.556</td>\n",
       "    </tr>\n",
       "    <tr>\n",
       "      <th id=\"T_de171_level0_row1\" class=\"row_heading level0 row1\" >Simple L2_norm</th>\n",
       "      <td id=\"T_de171_row1_col0\" class=\"data row1 col0\" >0.782</td>\n",
       "      <td id=\"T_de171_row1_col1\" class=\"data row1 col1\" >0.985</td>\n",
       "      <td id=\"T_de171_row1_col2\" class=\"data row1 col2\" >0.648</td>\n",
       "      <td id=\"T_de171_row1_col3\" class=\"data row1 col3\" >0.715</td>\n",
       "    </tr>\n",
       "    <tr>\n",
       "      <th id=\"T_de171_level0_row2\" class=\"row_heading level0 row2\" >1-NN Distance</th>\n",
       "      <td id=\"T_de171_row2_col0\" class=\"data row2 col0\" >0.782</td>\n",
       "      <td id=\"T_de171_row2_col1\" class=\"data row2 col1\" >0.984</td>\n",
       "      <td id=\"T_de171_row2_col2\" class=\"data row2 col2\" >0.649</td>\n",
       "      <td id=\"T_de171_row2_col3\" class=\"data row2 col3\" >0.726</td>\n",
       "    </tr>\n",
       "    <tr>\n",
       "      <th id=\"T_de171_level0_row3\" class=\"row_heading level0 row3\" >PCA_Error</th>\n",
       "      <td id=\"T_de171_row3_col0\" class=\"data row3 col0\" >0.833</td>\n",
       "      <td id=\"T_de171_row3_col1\" class=\"data row3 col1\" >0.965</td>\n",
       "      <td id=\"T_de171_row3_col2\" class=\"data row3 col2\" >0.733</td>\n",
       "      <td id=\"T_de171_row3_col3\" class=\"data row3 col3\" >0.744</td>\n",
       "    </tr>\n",
       "  </tbody>\n",
       "</table>\n"
      ],
      "text/plain": [
       "<pandas.io.formats.style.Styler at 0x7f64466670a0>"
      ]
     },
     "execution_count": 6,
     "metadata": {},
     "output_type": "execute_result"
    }
   ],
   "source": [
    "(\n",
    "    df_std\n",
    "    .style\n",
    "    .format(precision=3)\n",
    "    .apply(highlight_max, props='color:white;background-color:darkblue', axis=0)\n",
    ")"
   ]
  },
  {
   "cell_type": "markdown",
   "id": "cdadb11d-9bc6-44e8-8ab3-db2f6555c068",
   "metadata": {},
   "source": [
    "#### See the impact of different score normalisations"
   ]
  },
  {
   "cell_type": "code",
   "execution_count": 10,
   "id": "de2db466-c93a-495d-a3f7-6a55accf01dc",
   "metadata": {},
   "outputs": [
    {
     "name": "stdout",
     "output_type": "stream",
     "text": [
      "[INFO]: Evaluating 1 datasets\n",
      "Evaluating on SWAT.\n",
      "Evaluation on SWAT finished\n"
     ]
    }
   ],
   "source": [
    "df_std = evaluate_simple_baselines_on_all_paper_datasets(\n",
    "    root_path=module_path,\n",
    "    dataset_names=['swat'],\n",
    "    data_normalization=\"0-1\",              \n",
    "    eval_method='point_wise',\n",
    "    score_normalization='all',  # Will return scores for all score normalization methods for baselines which return multiple outputs. In this case only PCA_Error.\n",
    "    verbose=True\n",
    ")"
   ]
  },
  {
   "cell_type": "code",
   "execution_count": 11,
   "id": "7bf6abf9-9de4-4422-a505-7de47a54d794",
   "metadata": {
    "scrolled": true
   },
   "outputs": [
    {
     "data": {
      "text/html": [
       "<style type=\"text/css\">\n",
       "#T_f7a37_row0_col2, #T_f7a37_row3_col1, #T_f7a37_row4_col0, #T_f7a37_row4_col3 {\n",
       "  color: white;\n",
       "  background-color: darkblue;\n",
       "}\n",
       "</style>\n",
       "<table id=\"T_f7a37\">\n",
       "  <thead>\n",
       "    <tr>\n",
       "      <th class=\"blank level0\" >&nbsp;</th>\n",
       "      <th id=\"T_f7a37_level0_col0\" class=\"col_heading level0 col0\" colspan=\"4\">SWAT</th>\n",
       "    </tr>\n",
       "    <tr>\n",
       "      <th class=\"blank level1\" >&nbsp;</th>\n",
       "      <th id=\"T_f7a37_level1_col0\" class=\"col_heading level1 col0\" >F1</th>\n",
       "      <th id=\"T_f7a37_level1_col1\" class=\"col_heading level1 col1\" >P</th>\n",
       "      <th id=\"T_f7a37_level1_col2\" class=\"col_heading level1 col2\" >R</th>\n",
       "      <th id=\"T_f7a37_level1_col3\" class=\"col_heading level1 col3\" >AUPRC</th>\n",
       "    </tr>\n",
       "  </thead>\n",
       "  <tbody>\n",
       "    <tr>\n",
       "      <th id=\"T_f7a37_level0_row0\" class=\"row_heading level0 row0\" >Sensor Range Deviation</th>\n",
       "      <td id=\"T_f7a37_row0_col0\" class=\"data row0 col0\" >0.231</td>\n",
       "      <td id=\"T_f7a37_row0_col1\" class=\"data row0 col1\" >0.131</td>\n",
       "      <td id=\"T_f7a37_row0_col2\" class=\"data row0 col2\" >0.979</td>\n",
       "      <td id=\"T_f7a37_row0_col3\" class=\"data row0 col3\" >0.556</td>\n",
       "    </tr>\n",
       "    <tr>\n",
       "      <th id=\"T_f7a37_level0_row1\" class=\"row_heading level0 row1\" >Simple L2_norm</th>\n",
       "      <td id=\"T_f7a37_row1_col0\" class=\"data row1 col0\" >0.782</td>\n",
       "      <td id=\"T_f7a37_row1_col1\" class=\"data row1 col1\" >0.985</td>\n",
       "      <td id=\"T_f7a37_row1_col2\" class=\"data row1 col2\" >0.648</td>\n",
       "      <td id=\"T_f7a37_row1_col3\" class=\"data row1 col3\" >0.715</td>\n",
       "    </tr>\n",
       "    <tr>\n",
       "      <th id=\"T_f7a37_level0_row2\" class=\"row_heading level0 row2\" >1-NN Distance</th>\n",
       "      <td id=\"T_f7a37_row2_col0\" class=\"data row2 col0\" >0.782</td>\n",
       "      <td id=\"T_f7a37_row2_col1\" class=\"data row2 col1\" >0.984</td>\n",
       "      <td id=\"T_f7a37_row2_col2\" class=\"data row2 col2\" >0.649</td>\n",
       "      <td id=\"T_f7a37_row2_col3\" class=\"data row2 col3\" >0.726</td>\n",
       "    </tr>\n",
       "    <tr>\n",
       "      <th id=\"T_f7a37_level0_row3\" class=\"row_heading level0 row3\" >PCA_Error (median-iqr norm)</th>\n",
       "      <td id=\"T_f7a37_row3_col0\" class=\"data row3 col0\" >0.756</td>\n",
       "      <td id=\"T_f7a37_row3_col1\" class=\"data row3 col1\" >0.998</td>\n",
       "      <td id=\"T_f7a37_row3_col2\" class=\"data row3 col2\" >0.608</td>\n",
       "      <td id=\"T_f7a37_row3_col3\" class=\"data row3 col3\" >0.723</td>\n",
       "    </tr>\n",
       "    <tr>\n",
       "      <th id=\"T_f7a37_level0_row4\" class=\"row_heading level0 row4\" >PCA_Error (mean-std norm)</th>\n",
       "      <td id=\"T_f7a37_row4_col0\" class=\"data row4 col0\" >0.833</td>\n",
       "      <td id=\"T_f7a37_row4_col1\" class=\"data row4 col1\" >0.965</td>\n",
       "      <td id=\"T_f7a37_row4_col2\" class=\"data row4 col2\" >0.733</td>\n",
       "      <td id=\"T_f7a37_row4_col3\" class=\"data row4 col3\" >0.744</td>\n",
       "    </tr>\n",
       "    <tr>\n",
       "      <th id=\"T_f7a37_level0_row5\" class=\"row_heading level0 row5\" >PCA_Error (no norm)</th>\n",
       "      <td id=\"T_f7a37_row5_col0\" class=\"data row5 col0\" >0.802</td>\n",
       "      <td id=\"T_f7a37_row5_col1\" class=\"data row5 col1\" >0.986</td>\n",
       "      <td id=\"T_f7a37_row5_col2\" class=\"data row5 col2\" >0.676</td>\n",
       "      <td id=\"T_f7a37_row5_col3\" class=\"data row5 col3\" >0.725</td>\n",
       "    </tr>\n",
       "  </tbody>\n",
       "</table>\n"
      ],
      "text/plain": [
       "<pandas.io.formats.style.Styler at 0x7f6530342e20>"
      ]
     },
     "execution_count": 11,
     "metadata": {},
     "output_type": "execute_result"
    }
   ],
   "source": [
    "(\n",
    "    df_std\n",
    "    .style\n",
    "    .format(precision=3)\n",
    "    .apply(highlight_max, props='color:white;background-color:darkblue', axis=0)\n",
    ")"
   ]
  },
  {
   "cell_type": "markdown",
   "id": "98b4a4ac-00fe-432c-a199-9bece91d5997",
   "metadata": {},
   "source": [
    "## Evaluate on all datasets - Point-Wise metrics\n",
    "Here we reproduce the point-wise F1 score of all simple baselines on all datasets."
   ]
  },
  {
   "cell_type": "code",
   "execution_count": 15,
   "id": "17d7c04c-fbab-4e91-b3a6-fa425a3431e6",
   "metadata": {},
   "outputs": [
    {
     "name": "stdout",
     "output_type": "stream",
     "text": [
      "[INFO]: Evaluating 7 datasets\n",
      "[INFO:] SMD contains 28 data traces.\n",
      "[INFO:] MSL contains 27 data traces.\n",
      "[INFO:] SMAP contains 54 data traces.\n",
      "[INFO:] UCR contains 4 data traces\n",
      "Evaluating on SWAT.\n",
      "Evaluation on SWAT finished\n",
      "Evaluating on WADI_127.\n",
      "Evaluation on WADI_127 finished\n",
      "Evaluating on WADI_112.\n",
      "Evaluation on WADI_112 finished\n",
      "Evaluating on SMD.\n"
     ]
    },
    {
     "name": "stderr",
     "output_type": "stream",
     "text": [
      "100%|█████████████████████████████████████████████████████████████████| 28/28 [05:37<00:00, 12.05s/it]\n"
     ]
    },
    {
     "name": "stdout",
     "output_type": "stream",
     "text": [
      "Evaluation on SMD finished: on 28 traces,  results are averaged\n",
      "Evaluating on MSL.\n"
     ]
    },
    {
     "name": "stderr",
     "output_type": "stream",
     "text": [
      "100%|█████████████████████████████████████████████████████████████████| 27/27 [00:06<00:00,  4.01it/s]\n"
     ]
    },
    {
     "name": "stdout",
     "output_type": "stream",
     "text": [
      "Evaluation on MSL finished: on 27 traces,  results are averaged\n",
      "Evaluating on SMAP.\n"
     ]
    },
    {
     "name": "stderr",
     "output_type": "stream",
     "text": [
      " 30%|███████████████████▎                                             | 16/54 [00:09<00:23,  1.65it/s]/home/ssarfraz/miniconda3/envs/tf2_gpu/lib/python3.9/site-packages/sklearn/decomposition/_pca.py:501: RuntimeWarning: invalid value encountered in divide\n",
      "  explained_variance_ratio_ = explained_variance_ / total_var\n",
      " 70%|█████████████████████████████████████████████▋                   | 38/54 [00:22<00:09,  1.61it/s]/home/ssarfraz/miniconda3/envs/tf2_gpu/lib/python3.9/site-packages/sklearn/decomposition/_pca.py:501: RuntimeWarning: invalid value encountered in divide\n",
      "  explained_variance_ratio_ = explained_variance_ / total_var\n",
      "100%|█████████████████████████████████████████████████████████████████| 54/54 [00:31<00:00,  1.73it/s]\n"
     ]
    },
    {
     "name": "stdout",
     "output_type": "stream",
     "text": [
      "Evaluation on SMAP finished: on 54 traces,  results are averaged\n",
      "Evaluating on UCR_IB.\n"
     ]
    },
    {
     "name": "stderr",
     "output_type": "stream",
     "text": [
      "100%|███████████████████████████████████████████████████████████████████| 4/4 [00:01<00:00,  2.88it/s]"
     ]
    },
    {
     "name": "stdout",
     "output_type": "stream",
     "text": [
      "Evaluation on UCR_IB finished: on 4 traces,  results are averaged\n"
     ]
    },
    {
     "name": "stderr",
     "output_type": "stream",
     "text": [
      "\n"
     ]
    }
   ],
   "source": [
    "df_point_wise = evaluate_simple_baselines_on_all_paper_datasets(\n",
    "    root_path=module_path,\n",
    "    dataset_names=None,\n",
    "    data_normalization=\"0-1\",              \n",
    "    eval_method='point_wise',  # \n",
    "    score_normalization='optimal',\n",
    "    verbose=True\n",
    ")"
   ]
  },
  {
   "cell_type": "code",
   "execution_count": 16,
   "id": "86c4e3d7-fc86-4385-960c-e74dd449ce7f",
   "metadata": {},
   "outputs": [
    {
     "data": {
      "text/html": [
       "<style type=\"text/css\">\n",
       "#T_d195c_row0_col2, #T_d195c_row0_col6, #T_d195c_row0_col14, #T_d195c_row0_col18, #T_d195c_row0_col19, #T_d195c_row0_col22, #T_d195c_row0_col23, #T_d195c_row1_col1, #T_d195c_row1_col5, #T_d195c_row1_col9, #T_d195c_row1_col17, #T_d195c_row2_col5, #T_d195c_row2_col13, #T_d195c_row2_col21, #T_d195c_row3_col0, #T_d195c_row3_col3, #T_d195c_row3_col4, #T_d195c_row3_col7, #T_d195c_row3_col8, #T_d195c_row3_col10, #T_d195c_row3_col11, #T_d195c_row3_col12, #T_d195c_row3_col15, #T_d195c_row3_col16, #T_d195c_row3_col20, #T_d195c_row3_col24, #T_d195c_row3_col25, #T_d195c_row3_col26, #T_d195c_row3_col27 {\n",
       "  color: white;\n",
       "  background-color: darkblue;\n",
       "}\n",
       "</style>\n",
       "<table id=\"T_d195c\">\n",
       "  <thead>\n",
       "    <tr>\n",
       "      <th class=\"blank level0\" >&nbsp;</th>\n",
       "      <th id=\"T_d195c_level0_col0\" class=\"col_heading level0 col0\" colspan=\"4\">SWAT</th>\n",
       "      <th id=\"T_d195c_level0_col4\" class=\"col_heading level0 col4\" colspan=\"4\">WADI_127</th>\n",
       "      <th id=\"T_d195c_level0_col8\" class=\"col_heading level0 col8\" colspan=\"4\">WADI_112</th>\n",
       "      <th id=\"T_d195c_level0_col12\" class=\"col_heading level0 col12\" colspan=\"4\">SMD</th>\n",
       "      <th id=\"T_d195c_level0_col16\" class=\"col_heading level0 col16\" colspan=\"4\">MSL</th>\n",
       "      <th id=\"T_d195c_level0_col20\" class=\"col_heading level0 col20\" colspan=\"4\">SMAP</th>\n",
       "      <th id=\"T_d195c_level0_col24\" class=\"col_heading level0 col24\" colspan=\"4\">UCR_IB</th>\n",
       "    </tr>\n",
       "    <tr>\n",
       "      <th class=\"blank level1\" >&nbsp;</th>\n",
       "      <th id=\"T_d195c_level1_col0\" class=\"col_heading level1 col0\" >F1</th>\n",
       "      <th id=\"T_d195c_level1_col1\" class=\"col_heading level1 col1\" >P</th>\n",
       "      <th id=\"T_d195c_level1_col2\" class=\"col_heading level1 col2\" >R</th>\n",
       "      <th id=\"T_d195c_level1_col3\" class=\"col_heading level1 col3\" >AUPRC</th>\n",
       "      <th id=\"T_d195c_level1_col4\" class=\"col_heading level1 col4\" >F1</th>\n",
       "      <th id=\"T_d195c_level1_col5\" class=\"col_heading level1 col5\" >P</th>\n",
       "      <th id=\"T_d195c_level1_col6\" class=\"col_heading level1 col6\" >R</th>\n",
       "      <th id=\"T_d195c_level1_col7\" class=\"col_heading level1 col7\" >AUPRC</th>\n",
       "      <th id=\"T_d195c_level1_col8\" class=\"col_heading level1 col8\" >F1</th>\n",
       "      <th id=\"T_d195c_level1_col9\" class=\"col_heading level1 col9\" >P</th>\n",
       "      <th id=\"T_d195c_level1_col10\" class=\"col_heading level1 col10\" >R</th>\n",
       "      <th id=\"T_d195c_level1_col11\" class=\"col_heading level1 col11\" >AUPRC</th>\n",
       "      <th id=\"T_d195c_level1_col12\" class=\"col_heading level1 col12\" >F1</th>\n",
       "      <th id=\"T_d195c_level1_col13\" class=\"col_heading level1 col13\" >P</th>\n",
       "      <th id=\"T_d195c_level1_col14\" class=\"col_heading level1 col14\" >R</th>\n",
       "      <th id=\"T_d195c_level1_col15\" class=\"col_heading level1 col15\" >AUPRC</th>\n",
       "      <th id=\"T_d195c_level1_col16\" class=\"col_heading level1 col16\" >F1</th>\n",
       "      <th id=\"T_d195c_level1_col17\" class=\"col_heading level1 col17\" >P</th>\n",
       "      <th id=\"T_d195c_level1_col18\" class=\"col_heading level1 col18\" >R</th>\n",
       "      <th id=\"T_d195c_level1_col19\" class=\"col_heading level1 col19\" >AUPRC</th>\n",
       "      <th id=\"T_d195c_level1_col20\" class=\"col_heading level1 col20\" >F1</th>\n",
       "      <th id=\"T_d195c_level1_col21\" class=\"col_heading level1 col21\" >P</th>\n",
       "      <th id=\"T_d195c_level1_col22\" class=\"col_heading level1 col22\" >R</th>\n",
       "      <th id=\"T_d195c_level1_col23\" class=\"col_heading level1 col23\" >AUPRC</th>\n",
       "      <th id=\"T_d195c_level1_col24\" class=\"col_heading level1 col24\" >F1</th>\n",
       "      <th id=\"T_d195c_level1_col25\" class=\"col_heading level1 col25\" >P</th>\n",
       "      <th id=\"T_d195c_level1_col26\" class=\"col_heading level1 col26\" >R</th>\n",
       "      <th id=\"T_d195c_level1_col27\" class=\"col_heading level1 col27\" >AUPRC</th>\n",
       "    </tr>\n",
       "  </thead>\n",
       "  <tbody>\n",
       "    <tr>\n",
       "      <th id=\"T_d195c_level0_row0\" class=\"row_heading level0 row0\" >Sensor Range Deviation</th>\n",
       "      <td id=\"T_d195c_row0_col0\" class=\"data row0 col0\" >0.231</td>\n",
       "      <td id=\"T_d195c_row0_col1\" class=\"data row0 col1\" >0.131</td>\n",
       "      <td id=\"T_d195c_row0_col2\" class=\"data row0 col2\" >0.979</td>\n",
       "      <td id=\"T_d195c_row0_col3\" class=\"data row0 col3\" >0.556</td>\n",
       "      <td id=\"T_d195c_row0_col4\" class=\"data row0 col4\" >0.101</td>\n",
       "      <td id=\"T_d195c_row0_col5\" class=\"data row0 col5\" >0.053</td>\n",
       "      <td id=\"T_d195c_row0_col6\" class=\"data row0 col6\" >1.000</td>\n",
       "      <td id=\"T_d195c_row0_col7\" class=\"data row0 col7\" >0.317</td>\n",
       "      <td id=\"T_d195c_row0_col8\" class=\"data row0 col8\" >0.465</td>\n",
       "      <td id=\"T_d195c_row0_col9\" class=\"data row0 col9\" >0.567</td>\n",
       "      <td id=\"T_d195c_row0_col10\" class=\"data row0 col10\" >0.394</td>\n",
       "      <td id=\"T_d195c_row0_col11\" class=\"data row0 col11\" >0.497</td>\n",
       "      <td id=\"T_d195c_row0_col12\" class=\"data row0 col12\" >0.132</td>\n",
       "      <td id=\"T_d195c_row0_col13\" class=\"data row0 col13\" >0.110</td>\n",
       "      <td id=\"T_d195c_row0_col14\" class=\"data row0 col14\" >0.682</td>\n",
       "      <td id=\"T_d195c_row0_col15\" class=\"data row0 col15\" >0.321</td>\n",
       "      <td id=\"T_d195c_row0_col16\" class=\"data row0 col16\" >0.328</td>\n",
       "      <td id=\"T_d195c_row0_col17\" class=\"data row0 col17\" >0.420</td>\n",
       "      <td id=\"T_d195c_row0_col18\" class=\"data row0 col18\" >0.736</td>\n",
       "      <td id=\"T_d195c_row0_col19\" class=\"data row0 col19\" >0.537</td>\n",
       "      <td id=\"T_d195c_row0_col20\" class=\"data row0 col20\" >0.273</td>\n",
       "      <td id=\"T_d195c_row0_col21\" class=\"data row0 col21\" >0.423</td>\n",
       "      <td id=\"T_d195c_row0_col22\" class=\"data row0 col22\" >0.750</td>\n",
       "      <td id=\"T_d195c_row0_col23\" class=\"data row0 col23\" >0.588</td>\n",
       "      <td id=\"T_d195c_row0_col24\" class=\"data row0 col24\" >0.033</td>\n",
       "      <td id=\"T_d195c_row0_col25\" class=\"data row0 col25\" >0.056</td>\n",
       "      <td id=\"T_d195c_row0_col26\" class=\"data row0 col26\" >0.764</td>\n",
       "      <td id=\"T_d195c_row0_col27\" class=\"data row0 col27\" >0.037</td>\n",
       "    </tr>\n",
       "    <tr>\n",
       "      <th id=\"T_d195c_level0_row1\" class=\"row_heading level0 row1\" >Simple L2_norm</th>\n",
       "      <td id=\"T_d195c_row1_col0\" class=\"data row1 col0\" >0.782</td>\n",
       "      <td id=\"T_d195c_row1_col1\" class=\"data row1 col1\" >0.985</td>\n",
       "      <td id=\"T_d195c_row1_col2\" class=\"data row1 col2\" >0.648</td>\n",
       "      <td id=\"T_d195c_row1_col3\" class=\"data row1 col3\" >0.715</td>\n",
       "      <td id=\"T_d195c_row1_col4\" class=\"data row1 col4\" >0.281</td>\n",
       "      <td id=\"T_d195c_row1_col5\" class=\"data row1 col5\" >1.000</td>\n",
       "      <td id=\"T_d195c_row1_col6\" class=\"data row1 col6\" >0.163</td>\n",
       "      <td id=\"T_d195c_row1_col7\" class=\"data row1 col7\" >0.210</td>\n",
       "      <td id=\"T_d195c_row1_col8\" class=\"data row1 col8\" >0.513</td>\n",
       "      <td id=\"T_d195c_row1_col9\" class=\"data row1 col9\" >0.887</td>\n",
       "      <td id=\"T_d195c_row1_col10\" class=\"data row1 col10\" >0.361</td>\n",
       "      <td id=\"T_d195c_row1_col11\" class=\"data row1 col11\" >0.474</td>\n",
       "      <td id=\"T_d195c_row1_col12\" class=\"data row1 col12\" >0.404</td>\n",
       "      <td id=\"T_d195c_row1_col13\" class=\"data row1 col13\" >0.569</td>\n",
       "      <td id=\"T_d195c_row1_col14\" class=\"data row1 col14\" >0.455</td>\n",
       "      <td id=\"T_d195c_row1_col15\" class=\"data row1 col15\" >0.343</td>\n",
       "      <td id=\"T_d195c_row1_col16\" class=\"data row1 col16\" >0.395</td>\n",
       "      <td id=\"T_d195c_row1_col17\" class=\"data row1 col17\" >0.451</td>\n",
       "      <td id=\"T_d195c_row1_col18\" class=\"data row1 col18\" >0.665</td>\n",
       "      <td id=\"T_d195c_row1_col19\" class=\"data row1 col19\" >0.305</td>\n",
       "      <td id=\"T_d195c_row1_col20\" class=\"data row1 col20\" >0.351</td>\n",
       "      <td id=\"T_d195c_row1_col21\" class=\"data row1 col21\" >0.389</td>\n",
       "      <td id=\"T_d195c_row1_col22\" class=\"data row1 col22\" >0.673</td>\n",
       "      <td id=\"T_d195c_row1_col23\" class=\"data row1 col23\" >0.253</td>\n",
       "      <td id=\"T_d195c_row1_col24\" class=\"data row1 col24\" >0.037</td>\n",
       "      <td id=\"T_d195c_row1_col25\" class=\"data row1 col25\" >0.019</td>\n",
       "      <td id=\"T_d195c_row1_col26\" class=\"data row1 col26\" >0.885</td>\n",
       "      <td id=\"T_d195c_row1_col27\" class=\"data row1 col27\" >0.014</td>\n",
       "    </tr>\n",
       "    <tr>\n",
       "      <th id=\"T_d195c_level0_row2\" class=\"row_heading level0 row2\" >1-NN Distance</th>\n",
       "      <td id=\"T_d195c_row2_col0\" class=\"data row2 col0\" >0.782</td>\n",
       "      <td id=\"T_d195c_row2_col1\" class=\"data row2 col1\" >0.984</td>\n",
       "      <td id=\"T_d195c_row2_col2\" class=\"data row2 col2\" >0.649</td>\n",
       "      <td id=\"T_d195c_row2_col3\" class=\"data row2 col3\" >0.726</td>\n",
       "      <td id=\"T_d195c_row2_col4\" class=\"data row2 col4\" >0.281</td>\n",
       "      <td id=\"T_d195c_row2_col5\" class=\"data row2 col5\" >1.000</td>\n",
       "      <td id=\"T_d195c_row2_col6\" class=\"data row2 col6\" >0.163</td>\n",
       "      <td id=\"T_d195c_row2_col7\" class=\"data row2 col7\" >0.211</td>\n",
       "      <td id=\"T_d195c_row2_col8\" class=\"data row2 col8\" >0.568</td>\n",
       "      <td id=\"T_d195c_row2_col9\" class=\"data row2 col9\" >0.779</td>\n",
       "      <td id=\"T_d195c_row2_col10\" class=\"data row2 col10\" >0.447</td>\n",
       "      <td id=\"T_d195c_row2_col11\" class=\"data row2 col11\" >0.501</td>\n",
       "      <td id=\"T_d195c_row2_col12\" class=\"data row2 col12\" >0.463</td>\n",
       "      <td id=\"T_d195c_row2_col13\" class=\"data row2 col13\" >0.626</td>\n",
       "      <td id=\"T_d195c_row2_col14\" class=\"data row2 col14\" >0.458</td>\n",
       "      <td id=\"T_d195c_row2_col15\" class=\"data row2 col15\" >0.389</td>\n",
       "      <td id=\"T_d195c_row2_col16\" class=\"data row2 col16\" >0.404</td>\n",
       "      <td id=\"T_d195c_row2_col17\" class=\"data row2 col17\" >0.449</td>\n",
       "      <td id=\"T_d195c_row2_col18\" class=\"data row2 col18\" >0.590</td>\n",
       "      <td id=\"T_d195c_row2_col19\" class=\"data row2 col19\" >0.324</td>\n",
       "      <td id=\"T_d195c_row2_col20\" class=\"data row2 col20\" >0.352</td>\n",
       "      <td id=\"T_d195c_row2_col21\" class=\"data row2 col21\" >0.459</td>\n",
       "      <td id=\"T_d195c_row2_col22\" class=\"data row2 col22\" >0.610</td>\n",
       "      <td id=\"T_d195c_row2_col23\" class=\"data row2 col23\" >0.306</td>\n",
       "      <td id=\"T_d195c_row2_col24\" class=\"data row2 col24\" >0.879</td>\n",
       "      <td id=\"T_d195c_row2_col25\" class=\"data row2 col25\" >0.824</td>\n",
       "      <td id=\"T_d195c_row2_col26\" class=\"data row2 col26\" >0.950</td>\n",
       "      <td id=\"T_d195c_row2_col27\" class=\"data row2 col27\" >0.803</td>\n",
       "    </tr>\n",
       "    <tr>\n",
       "      <th id=\"T_d195c_level0_row3\" class=\"row_heading level0 row3\" >PCA_Error</th>\n",
       "      <td id=\"T_d195c_row3_col0\" class=\"data row3 col0\" >0.833</td>\n",
       "      <td id=\"T_d195c_row3_col1\" class=\"data row3 col1\" >0.965</td>\n",
       "      <td id=\"T_d195c_row3_col2\" class=\"data row3 col2\" >0.733</td>\n",
       "      <td id=\"T_d195c_row3_col3\" class=\"data row3 col3\" >0.744</td>\n",
       "      <td id=\"T_d195c_row3_col4\" class=\"data row3 col4\" >0.501</td>\n",
       "      <td id=\"T_d195c_row3_col5\" class=\"data row3 col5\" >0.884</td>\n",
       "      <td id=\"T_d195c_row3_col6\" class=\"data row3 col6\" >0.350</td>\n",
       "      <td id=\"T_d195c_row3_col7\" class=\"data row3 col7\" >0.476</td>\n",
       "      <td id=\"T_d195c_row3_col8\" class=\"data row3 col8\" >0.655</td>\n",
       "      <td id=\"T_d195c_row3_col9\" class=\"data row3 col9\" >0.752</td>\n",
       "      <td id=\"T_d195c_row3_col10\" class=\"data row3 col10\" >0.580</td>\n",
       "      <td id=\"T_d195c_row3_col11\" class=\"data row3 col11\" >0.570</td>\n",
       "      <td id=\"T_d195c_row3_col12\" class=\"data row3 col12\" >0.572</td>\n",
       "      <td id=\"T_d195c_row3_col13\" class=\"data row3 col13\" >0.611</td>\n",
       "      <td id=\"T_d195c_row3_col14\" class=\"data row3 col14\" >0.584</td>\n",
       "      <td id=\"T_d195c_row3_col15\" class=\"data row3 col15\" >0.515</td>\n",
       "      <td id=\"T_d195c_row3_col16\" class=\"data row3 col16\" >0.426</td>\n",
       "      <td id=\"T_d195c_row3_col17\" class=\"data row3 col17\" >0.425</td>\n",
       "      <td id=\"T_d195c_row3_col18\" class=\"data row3 col18\" >0.560</td>\n",
       "      <td id=\"T_d195c_row3_col19\" class=\"data row3 col19\" >0.319</td>\n",
       "      <td id=\"T_d195c_row3_col20\" class=\"data row3 col20\" >0.387</td>\n",
       "      <td id=\"T_d195c_row3_col21\" class=\"data row3 col21\" >0.426</td>\n",
       "      <td id=\"T_d195c_row3_col22\" class=\"data row3 col22\" >0.645</td>\n",
       "      <td id=\"T_d195c_row3_col23\" class=\"data row3 col23\" >0.273</td>\n",
       "      <td id=\"T_d195c_row3_col24\" class=\"data row3 col24\" >0.928</td>\n",
       "      <td id=\"T_d195c_row3_col25\" class=\"data row3 col25\" >0.882</td>\n",
       "      <td id=\"T_d195c_row3_col26\" class=\"data row3 col26\" >1.000</td>\n",
       "      <td id=\"T_d195c_row3_col27\" class=\"data row3 col27\" >0.933</td>\n",
       "    </tr>\n",
       "  </tbody>\n",
       "</table>\n"
      ],
      "text/plain": [
       "<pandas.io.formats.style.Styler at 0x7f6446667520>"
      ]
     },
     "execution_count": 16,
     "metadata": {},
     "output_type": "execute_result"
    }
   ],
   "source": [
    "(\n",
    "    df_point_wise\n",
    "    .style\n",
    "    .format(precision=3)\n",
    "    .apply(highlight_max, props='color:white;background-color:darkblue', axis=0)\n",
    ")"
   ]
  },
  {
   "cell_type": "code",
   "execution_count": 20,
   "id": "4fe0c1ed-8ee5-4159-b963-13e0c7e4edc4",
   "metadata": {},
   "outputs": [
    {
     "data": {
      "text/html": [
       "<style type=\"text/css\">\n",
       "#T_4bf98_row3_col0, #T_4bf98_row3_col1, #T_4bf98_row3_col2, #T_4bf98_row3_col3, #T_4bf98_row3_col4, #T_4bf98_row3_col5, #T_4bf98_row3_col6 {\n",
       "  color: white;\n",
       "  background-color: darkblue;\n",
       "}\n",
       "</style>\n",
       "<table id=\"T_4bf98\">\n",
       "  <thead>\n",
       "    <tr>\n",
       "      <th class=\"blank level0\" >&nbsp;</th>\n",
       "      <th id=\"T_4bf98_level0_col0\" class=\"col_heading level0 col0\" >SWAT</th>\n",
       "      <th id=\"T_4bf98_level0_col1\" class=\"col_heading level0 col1\" >WADI_127</th>\n",
       "      <th id=\"T_4bf98_level0_col2\" class=\"col_heading level0 col2\" >WADI_112</th>\n",
       "      <th id=\"T_4bf98_level0_col3\" class=\"col_heading level0 col3\" >SMD</th>\n",
       "      <th id=\"T_4bf98_level0_col4\" class=\"col_heading level0 col4\" >MSL</th>\n",
       "      <th id=\"T_4bf98_level0_col5\" class=\"col_heading level0 col5\" >SMAP</th>\n",
       "      <th id=\"T_4bf98_level0_col6\" class=\"col_heading level0 col6\" >UCR_IB</th>\n",
       "    </tr>\n",
       "    <tr>\n",
       "      <th class=\"blank level1\" >&nbsp;</th>\n",
       "      <th id=\"T_4bf98_level1_col0\" class=\"col_heading level1 col0\" >F1</th>\n",
       "      <th id=\"T_4bf98_level1_col1\" class=\"col_heading level1 col1\" >F1</th>\n",
       "      <th id=\"T_4bf98_level1_col2\" class=\"col_heading level1 col2\" >F1</th>\n",
       "      <th id=\"T_4bf98_level1_col3\" class=\"col_heading level1 col3\" >F1</th>\n",
       "      <th id=\"T_4bf98_level1_col4\" class=\"col_heading level1 col4\" >F1</th>\n",
       "      <th id=\"T_4bf98_level1_col5\" class=\"col_heading level1 col5\" >F1</th>\n",
       "      <th id=\"T_4bf98_level1_col6\" class=\"col_heading level1 col6\" >F1</th>\n",
       "    </tr>\n",
       "  </thead>\n",
       "  <tbody>\n",
       "    <tr>\n",
       "      <th id=\"T_4bf98_level0_row0\" class=\"row_heading level0 row0\" >Sensor Range Deviation</th>\n",
       "      <td id=\"T_4bf98_row0_col0\" class=\"data row0 col0\" >0.231</td>\n",
       "      <td id=\"T_4bf98_row0_col1\" class=\"data row0 col1\" >0.101</td>\n",
       "      <td id=\"T_4bf98_row0_col2\" class=\"data row0 col2\" >0.465</td>\n",
       "      <td id=\"T_4bf98_row0_col3\" class=\"data row0 col3\" >0.132</td>\n",
       "      <td id=\"T_4bf98_row0_col4\" class=\"data row0 col4\" >0.328</td>\n",
       "      <td id=\"T_4bf98_row0_col5\" class=\"data row0 col5\" >0.273</td>\n",
       "      <td id=\"T_4bf98_row0_col6\" class=\"data row0 col6\" >0.033</td>\n",
       "    </tr>\n",
       "    <tr>\n",
       "      <th id=\"T_4bf98_level0_row1\" class=\"row_heading level0 row1\" >Simple L2_norm</th>\n",
       "      <td id=\"T_4bf98_row1_col0\" class=\"data row1 col0\" >0.782</td>\n",
       "      <td id=\"T_4bf98_row1_col1\" class=\"data row1 col1\" >0.281</td>\n",
       "      <td id=\"T_4bf98_row1_col2\" class=\"data row1 col2\" >0.513</td>\n",
       "      <td id=\"T_4bf98_row1_col3\" class=\"data row1 col3\" >0.404</td>\n",
       "      <td id=\"T_4bf98_row1_col4\" class=\"data row1 col4\" >0.395</td>\n",
       "      <td id=\"T_4bf98_row1_col5\" class=\"data row1 col5\" >0.351</td>\n",
       "      <td id=\"T_4bf98_row1_col6\" class=\"data row1 col6\" >0.037</td>\n",
       "    </tr>\n",
       "    <tr>\n",
       "      <th id=\"T_4bf98_level0_row2\" class=\"row_heading level0 row2\" >1-NN Distance</th>\n",
       "      <td id=\"T_4bf98_row2_col0\" class=\"data row2 col0\" >0.782</td>\n",
       "      <td id=\"T_4bf98_row2_col1\" class=\"data row2 col1\" >0.281</td>\n",
       "      <td id=\"T_4bf98_row2_col2\" class=\"data row2 col2\" >0.568</td>\n",
       "      <td id=\"T_4bf98_row2_col3\" class=\"data row2 col3\" >0.463</td>\n",
       "      <td id=\"T_4bf98_row2_col4\" class=\"data row2 col4\" >0.404</td>\n",
       "      <td id=\"T_4bf98_row2_col5\" class=\"data row2 col5\" >0.352</td>\n",
       "      <td id=\"T_4bf98_row2_col6\" class=\"data row2 col6\" >0.879</td>\n",
       "    </tr>\n",
       "    <tr>\n",
       "      <th id=\"T_4bf98_level0_row3\" class=\"row_heading level0 row3\" >PCA_Error</th>\n",
       "      <td id=\"T_4bf98_row3_col0\" class=\"data row3 col0\" >0.833</td>\n",
       "      <td id=\"T_4bf98_row3_col1\" class=\"data row3 col1\" >0.501</td>\n",
       "      <td id=\"T_4bf98_row3_col2\" class=\"data row3 col2\" >0.655</td>\n",
       "      <td id=\"T_4bf98_row3_col3\" class=\"data row3 col3\" >0.572</td>\n",
       "      <td id=\"T_4bf98_row3_col4\" class=\"data row3 col4\" >0.426</td>\n",
       "      <td id=\"T_4bf98_row3_col5\" class=\"data row3 col5\" >0.387</td>\n",
       "      <td id=\"T_4bf98_row3_col6\" class=\"data row3 col6\" >0.928</td>\n",
       "    </tr>\n",
       "  </tbody>\n",
       "</table>\n"
      ],
      "text/plain": [
       "<pandas.io.formats.style.Styler at 0x7f644438a550>"
      ]
     },
     "execution_count": 20,
     "metadata": {},
     "output_type": "execute_result"
    }
   ],
   "source": [
    "(\n",
    "    df_point_wise\n",
    "    .drop(['P', 'R','AUPRC'], axis=1, level=1)\n",
    "    .style\n",
    "    .format(precision=3)\n",
    "    .apply(highlight_max, props='color:white;background-color:darkblue', axis=0)\n",
    ")"
   ]
  },
  {
   "cell_type": "markdown",
   "id": "8a181029-3091-48b9-9381-e807136432fd",
   "metadata": {},
   "source": [
    "## Evaluate all datasets - Range-Wise metrics\n",
    "Here we reproduce the range-wise scores of all simple baselines on all datasets."
   ]
  },
  {
   "cell_type": "code",
   "execution_count": 19,
   "id": "7987c9c8-9a02-4e81-8649-fa53dd1f582e",
   "metadata": {},
   "outputs": [
    {
     "name": "stdout",
     "output_type": "stream",
     "text": [
      "[INFO]: Evaluating 7 datasets\n",
      "[INFO:] SMD contains 28 data traces.\n",
      "[INFO:] MSL contains 27 data traces.\n",
      "[INFO:] SMAP contains 54 data traces.\n",
      "[INFO:] UCR contains 4 data traces\n",
      "Evaluating on SWAT.\n",
      "Evaluation on SWAT finished\n",
      "Evaluating on WADI_127.\n",
      "Evaluation on WADI_127 finished\n",
      "Evaluating on WADI_112.\n",
      "Evaluation on WADI_112 finished\n",
      "Evaluating on SMD.\n"
     ]
    },
    {
     "name": "stderr",
     "output_type": "stream",
     "text": [
      "100%|██████████████████████████████████████████████████████████████| 28/28 [1:41:45<00:00, 218.07s/it]\n"
     ]
    },
    {
     "name": "stdout",
     "output_type": "stream",
     "text": [
      "Evaluation on SMD finished: on 28 traces,  results are averaged\n",
      "Evaluating on MSL.\n"
     ]
    },
    {
     "name": "stderr",
     "output_type": "stream",
     "text": [
      "100%|█████████████████████████████████████████████████████████████████| 27/27 [00:56<00:00,  2.08s/it]\n"
     ]
    },
    {
     "name": "stdout",
     "output_type": "stream",
     "text": [
      "Evaluation on MSL finished: on 27 traces,  results are averaged\n",
      "Evaluating on SMAP.\n"
     ]
    },
    {
     "name": "stderr",
     "output_type": "stream",
     "text": [
      " 30%|███████████████████▎                                             | 16/54 [01:18<02:24,  3.81s/it]/home/ssarfraz/miniconda3/envs/tf2_gpu/lib/python3.9/site-packages/sklearn/decomposition/_pca.py:501: RuntimeWarning: invalid value encountered in divide\n",
      "  explained_variance_ratio_ = explained_variance_ / total_var\n",
      " 70%|█████████████████████████████████████████████▋                   | 38/54 [04:38<02:31,  9.46s/it]/home/ssarfraz/miniconda3/envs/tf2_gpu/lib/python3.9/site-packages/sklearn/decomposition/_pca.py:501: RuntimeWarning: invalid value encountered in divide\n",
      "  explained_variance_ratio_ = explained_variance_ / total_var\n",
      "100%|█████████████████████████████████████████████████████████████████| 54/54 [06:34<00:00,  7.31s/it]\n"
     ]
    },
    {
     "name": "stdout",
     "output_type": "stream",
     "text": [
      "Evaluation on SMAP finished: on 54 traces,  results are averaged\n",
      "Evaluating on UCR_IB.\n"
     ]
    },
    {
     "name": "stderr",
     "output_type": "stream",
     "text": [
      "100%|███████████████████████████████████████████████████████████████████| 4/4 [00:42<00:00, 10.68s/it]"
     ]
    },
    {
     "name": "stdout",
     "output_type": "stream",
     "text": [
      "Evaluation on UCR_IB finished: on 4 traces,  results are averaged\n"
     ]
    },
    {
     "name": "stderr",
     "output_type": "stream",
     "text": [
      "\n"
     ]
    }
   ],
   "source": [
    "df_range_wise = evaluate_simple_baselines_on_all_paper_datasets(\n",
    "    root_path=module_path,\n",
    "    dataset_names=None,\n",
    "    data_normalization=\"0-1\",\n",
    "    eval_method='range_wise',\n",
    "    score_normalization='optimal',\n",
    "    verbose=True\n",
    ")"
   ]
  },
  {
   "cell_type": "code",
   "execution_count": 22,
   "id": "46274baf-e77d-4982-bfb3-62b0f6b5a733",
   "metadata": {},
   "outputs": [
    {
     "data": {
      "text/html": [
       "<style type=\"text/css\">\n",
       "#T_0cce6_row0_col2, #T_0cce6_row0_col3, #T_0cce6_row0_col6, #T_0cce6_row0_col18, #T_0cce6_row0_col19, #T_0cce6_row0_col22, #T_0cce6_row0_col23, #T_0cce6_row1_col5, #T_0cce6_row2_col1, #T_0cce6_row2_col5, #T_0cce6_row2_col9, #T_0cce6_row2_col17, #T_0cce6_row2_col21, #T_0cce6_row3_col0, #T_0cce6_row3_col4, #T_0cce6_row3_col7, #T_0cce6_row3_col8, #T_0cce6_row3_col10, #T_0cce6_row3_col11, #T_0cce6_row3_col12, #T_0cce6_row3_col13, #T_0cce6_row3_col14, #T_0cce6_row3_col15, #T_0cce6_row3_col16, #T_0cce6_row3_col20, #T_0cce6_row3_col24, #T_0cce6_row3_col25, #T_0cce6_row3_col26, #T_0cce6_row3_col27 {\n",
       "  color: white;\n",
       "  background-color: darkblue;\n",
       "}\n",
       "</style>\n",
       "<table id=\"T_0cce6\">\n",
       "  <thead>\n",
       "    <tr>\n",
       "      <th class=\"blank level0\" >&nbsp;</th>\n",
       "      <th id=\"T_0cce6_level0_col0\" class=\"col_heading level0 col0\" colspan=\"4\">SWAT</th>\n",
       "      <th id=\"T_0cce6_level0_col4\" class=\"col_heading level0 col4\" colspan=\"4\">WADI_127</th>\n",
       "      <th id=\"T_0cce6_level0_col8\" class=\"col_heading level0 col8\" colspan=\"4\">WADI_112</th>\n",
       "      <th id=\"T_0cce6_level0_col12\" class=\"col_heading level0 col12\" colspan=\"4\">SMD</th>\n",
       "      <th id=\"T_0cce6_level0_col16\" class=\"col_heading level0 col16\" colspan=\"4\">MSL</th>\n",
       "      <th id=\"T_0cce6_level0_col20\" class=\"col_heading level0 col20\" colspan=\"4\">SMAP</th>\n",
       "      <th id=\"T_0cce6_level0_col24\" class=\"col_heading level0 col24\" colspan=\"4\">UCR_IB</th>\n",
       "    </tr>\n",
       "    <tr>\n",
       "      <th class=\"blank level1\" >&nbsp;</th>\n",
       "      <th id=\"T_0cce6_level1_col0\" class=\"col_heading level1 col0\" >F1</th>\n",
       "      <th id=\"T_0cce6_level1_col1\" class=\"col_heading level1 col1\" >P</th>\n",
       "      <th id=\"T_0cce6_level1_col2\" class=\"col_heading level1 col2\" >R</th>\n",
       "      <th id=\"T_0cce6_level1_col3\" class=\"col_heading level1 col3\" >AUPRC</th>\n",
       "      <th id=\"T_0cce6_level1_col4\" class=\"col_heading level1 col4\" >F1</th>\n",
       "      <th id=\"T_0cce6_level1_col5\" class=\"col_heading level1 col5\" >P</th>\n",
       "      <th id=\"T_0cce6_level1_col6\" class=\"col_heading level1 col6\" >R</th>\n",
       "      <th id=\"T_0cce6_level1_col7\" class=\"col_heading level1 col7\" >AUPRC</th>\n",
       "      <th id=\"T_0cce6_level1_col8\" class=\"col_heading level1 col8\" >F1</th>\n",
       "      <th id=\"T_0cce6_level1_col9\" class=\"col_heading level1 col9\" >P</th>\n",
       "      <th id=\"T_0cce6_level1_col10\" class=\"col_heading level1 col10\" >R</th>\n",
       "      <th id=\"T_0cce6_level1_col11\" class=\"col_heading level1 col11\" >AUPRC</th>\n",
       "      <th id=\"T_0cce6_level1_col12\" class=\"col_heading level1 col12\" >F1</th>\n",
       "      <th id=\"T_0cce6_level1_col13\" class=\"col_heading level1 col13\" >P</th>\n",
       "      <th id=\"T_0cce6_level1_col14\" class=\"col_heading level1 col14\" >R</th>\n",
       "      <th id=\"T_0cce6_level1_col15\" class=\"col_heading level1 col15\" >AUPRC</th>\n",
       "      <th id=\"T_0cce6_level1_col16\" class=\"col_heading level1 col16\" >F1</th>\n",
       "      <th id=\"T_0cce6_level1_col17\" class=\"col_heading level1 col17\" >P</th>\n",
       "      <th id=\"T_0cce6_level1_col18\" class=\"col_heading level1 col18\" >R</th>\n",
       "      <th id=\"T_0cce6_level1_col19\" class=\"col_heading level1 col19\" >AUPRC</th>\n",
       "      <th id=\"T_0cce6_level1_col20\" class=\"col_heading level1 col20\" >F1</th>\n",
       "      <th id=\"T_0cce6_level1_col21\" class=\"col_heading level1 col21\" >P</th>\n",
       "      <th id=\"T_0cce6_level1_col22\" class=\"col_heading level1 col22\" >R</th>\n",
       "      <th id=\"T_0cce6_level1_col23\" class=\"col_heading level1 col23\" >AUPRC</th>\n",
       "      <th id=\"T_0cce6_level1_col24\" class=\"col_heading level1 col24\" >F1</th>\n",
       "      <th id=\"T_0cce6_level1_col25\" class=\"col_heading level1 col25\" >P</th>\n",
       "      <th id=\"T_0cce6_level1_col26\" class=\"col_heading level1 col26\" >R</th>\n",
       "      <th id=\"T_0cce6_level1_col27\" class=\"col_heading level1 col27\" >AUPRC</th>\n",
       "    </tr>\n",
       "  </thead>\n",
       "  <tbody>\n",
       "    <tr>\n",
       "      <th id=\"T_0cce6_level0_row0\" class=\"row_heading level0 row0\" >Sensor Range Deviation</th>\n",
       "      <td id=\"T_0cce6_row0_col0\" class=\"data row0 col0\" >0.230</td>\n",
       "      <td id=\"T_0cce6_row0_col1\" class=\"data row0 col1\" >0.131</td>\n",
       "      <td id=\"T_0cce6_row0_col2\" class=\"data row0 col2\" >0.928</td>\n",
       "      <td id=\"T_0cce6_row0_col3\" class=\"data row0 col3\" >0.534</td>\n",
       "      <td id=\"T_0cce6_row0_col4\" class=\"data row0 col4\" >0.098</td>\n",
       "      <td id=\"T_0cce6_row0_col5\" class=\"data row0 col5\" >0.053</td>\n",
       "      <td id=\"T_0cce6_row0_col6\" class=\"data row0 col6\" >0.678</td>\n",
       "      <td id=\"T_0cce6_row0_col7\" class=\"data row0 col7\" >0.374</td>\n",
       "      <td id=\"T_0cce6_row0_col8\" class=\"data row0 col8\" >0.526</td>\n",
       "      <td id=\"T_0cce6_row0_col9\" class=\"data row0 col9\" >0.569</td>\n",
       "      <td id=\"T_0cce6_row0_col10\" class=\"data row0 col10\" >0.489</td>\n",
       "      <td id=\"T_0cce6_row0_col11\" class=\"data row0 col11\" >0.543</td>\n",
       "      <td id=\"T_0cce6_row0_col12\" class=\"data row0 col12\" >0.116</td>\n",
       "      <td id=\"T_0cce6_row0_col13\" class=\"data row0 col13\" >0.121</td>\n",
       "      <td id=\"T_0cce6_row0_col14\" class=\"data row0 col14\" >0.508</td>\n",
       "      <td id=\"T_0cce6_row0_col15\" class=\"data row0 col15\" >0.325</td>\n",
       "      <td id=\"T_0cce6_row0_col16\" class=\"data row0 col16\" >0.217</td>\n",
       "      <td id=\"T_0cce6_row0_col17\" class=\"data row0 col17\" >0.391</td>\n",
       "      <td id=\"T_0cce6_row0_col18\" class=\"data row0 col18\" >0.656</td>\n",
       "      <td id=\"T_0cce6_row0_col19\" class=\"data row0 col19\" >0.533</td>\n",
       "      <td id=\"T_0cce6_row0_col20\" class=\"data row0 col20\" >0.173</td>\n",
       "      <td id=\"T_0cce6_row0_col21\" class=\"data row0 col21\" >0.416</td>\n",
       "      <td id=\"T_0cce6_row0_col22\" class=\"data row0 col22\" >0.680</td>\n",
       "      <td id=\"T_0cce6_row0_col23\" class=\"data row0 col23\" >0.588</td>\n",
       "      <td id=\"T_0cce6_row0_col24\" class=\"data row0 col24\" >0.023</td>\n",
       "      <td id=\"T_0cce6_row0_col25\" class=\"data row0 col25\" >0.088</td>\n",
       "      <td id=\"T_0cce6_row0_col26\" class=\"data row0 col26\" >0.764</td>\n",
       "      <td id=\"T_0cce6_row0_col27\" class=\"data row0 col27\" >0.056</td>\n",
       "    </tr>\n",
       "    <tr>\n",
       "      <th id=\"T_0cce6_level0_row1\" class=\"row_heading level0 row1\" >Simple L2_norm</th>\n",
       "      <td id=\"T_0cce6_row1_col0\" class=\"data row1 col0\" >0.366</td>\n",
       "      <td id=\"T_0cce6_row1_col1\" class=\"data row1 col1\" >0.898</td>\n",
       "      <td id=\"T_0cce6_row1_col2\" class=\"data row1 col2\" >0.230</td>\n",
       "      <td id=\"T_0cce6_row1_col3\" class=\"data row1 col3\" >0.367</td>\n",
       "      <td id=\"T_0cce6_row1_col4\" class=\"data row1 col4\" >0.410</td>\n",
       "      <td id=\"T_0cce6_row1_col5\" class=\"data row1 col5\" >1.000</td>\n",
       "      <td id=\"T_0cce6_row1_col6\" class=\"data row1 col6\" >0.258</td>\n",
       "      <td id=\"T_0cce6_row1_col7\" class=\"data row1 col7\" >0.300</td>\n",
       "      <td id=\"T_0cce6_row1_col8\" class=\"data row1 col8\" >0.607</td>\n",
       "      <td id=\"T_0cce6_row1_col9\" class=\"data row1 col9\" >0.908</td>\n",
       "      <td id=\"T_0cce6_row1_col10\" class=\"data row1 col10\" >0.456</td>\n",
       "      <td id=\"T_0cce6_row1_col11\" class=\"data row1 col11\" >0.582</td>\n",
       "      <td id=\"T_0cce6_row1_col12\" class=\"data row1 col12\" >0.338</td>\n",
       "      <td id=\"T_0cce6_row1_col13\" class=\"data row1 col13\" >0.461</td>\n",
       "      <td id=\"T_0cce6_row1_col14\" class=\"data row1 col14\" >0.411</td>\n",
       "      <td id=\"T_0cce6_row1_col15\" class=\"data row1 col15\" >0.281</td>\n",
       "      <td id=\"T_0cce6_row1_col16\" class=\"data row1 col16\" >0.419</td>\n",
       "      <td id=\"T_0cce6_row1_col17\" class=\"data row1 col17\" >0.493</td>\n",
       "      <td id=\"T_0cce6_row1_col18\" class=\"data row1 col18\" >0.610</td>\n",
       "      <td id=\"T_0cce6_row1_col19\" class=\"data row1 col19\" >0.331</td>\n",
       "      <td id=\"T_0cce6_row1_col20\" class=\"data row1 col20\" >0.361</td>\n",
       "      <td id=\"T_0cce6_row1_col21\" class=\"data row1 col21\" >0.385</td>\n",
       "      <td id=\"T_0cce6_row1_col22\" class=\"data row1 col22\" >0.629</td>\n",
       "      <td id=\"T_0cce6_row1_col23\" class=\"data row1 col23\" >0.259</td>\n",
       "      <td id=\"T_0cce6_row1_col24\" class=\"data row1 col24\" >0.090</td>\n",
       "      <td id=\"T_0cce6_row1_col25\" class=\"data row1 col25\" >0.049</td>\n",
       "      <td id=\"T_0cce6_row1_col26\" class=\"data row1 col26\" >0.882</td>\n",
       "      <td id=\"T_0cce6_row1_col27\" class=\"data row1 col27\" >0.038</td>\n",
       "    </tr>\n",
       "    <tr>\n",
       "      <th id=\"T_0cce6_level0_row2\" class=\"row_heading level0 row2\" >1-NN Distance</th>\n",
       "      <td id=\"T_0cce6_row2_col0\" class=\"data row2 col0\" >0.372</td>\n",
       "      <td id=\"T_0cce6_row2_col1\" class=\"data row2 col1\" >0.937</td>\n",
       "      <td id=\"T_0cce6_row2_col2\" class=\"data row2 col2\" >0.232</td>\n",
       "      <td id=\"T_0cce6_row2_col3\" class=\"data row2 col3\" >0.391</td>\n",
       "      <td id=\"T_0cce6_row2_col4\" class=\"data row2 col4\" >0.410</td>\n",
       "      <td id=\"T_0cce6_row2_col5\" class=\"data row2 col5\" >1.000</td>\n",
       "      <td id=\"T_0cce6_row2_col6\" class=\"data row2 col6\" >0.258</td>\n",
       "      <td id=\"T_0cce6_row2_col7\" class=\"data row2 col7\" >0.301</td>\n",
       "      <td id=\"T_0cce6_row2_col8\" class=\"data row2 col8\" >0.618</td>\n",
       "      <td id=\"T_0cce6_row2_col9\" class=\"data row2 col9\" >0.915</td>\n",
       "      <td id=\"T_0cce6_row2_col10\" class=\"data row2 col10\" >0.467</td>\n",
       "      <td id=\"T_0cce6_row2_col11\" class=\"data row2 col11\" >0.564</td>\n",
       "      <td id=\"T_0cce6_row2_col12\" class=\"data row2 col12\" >0.384</td>\n",
       "      <td id=\"T_0cce6_row2_col13\" class=\"data row2 col13\" >0.517</td>\n",
       "      <td id=\"T_0cce6_row2_col14\" class=\"data row2 col14\" >0.389</td>\n",
       "      <td id=\"T_0cce6_row2_col15\" class=\"data row2 col15\" >0.327</td>\n",
       "      <td id=\"T_0cce6_row2_col16\" class=\"data row2 col16\" >0.414</td>\n",
       "      <td id=\"T_0cce6_row2_col17\" class=\"data row2 col17\" >0.524</td>\n",
       "      <td id=\"T_0cce6_row2_col18\" class=\"data row2 col18\" >0.425</td>\n",
       "      <td id=\"T_0cce6_row2_col19\" class=\"data row2 col19\" >0.372</td>\n",
       "      <td id=\"T_0cce6_row2_col20\" class=\"data row2 col20\" >0.362</td>\n",
       "      <td id=\"T_0cce6_row2_col21\" class=\"data row2 col21\" >0.496</td>\n",
       "      <td id=\"T_0cce6_row2_col22\" class=\"data row2 col22\" >0.552</td>\n",
       "      <td id=\"T_0cce6_row2_col23\" class=\"data row2 col23\" >0.316</td>\n",
       "      <td id=\"T_0cce6_row2_col24\" class=\"data row2 col24\" >0.882</td>\n",
       "      <td id=\"T_0cce6_row2_col25\" class=\"data row2 col25\" >0.806</td>\n",
       "      <td id=\"T_0cce6_row2_col26\" class=\"data row2 col26\" >0.977</td>\n",
       "      <td id=\"T_0cce6_row2_col27\" class=\"data row2 col27\" >0.806</td>\n",
       "    </tr>\n",
       "    <tr>\n",
       "      <th id=\"T_0cce6_level0_row3\" class=\"row_heading level0 row3\" >PCA_Error</th>\n",
       "      <td id=\"T_0cce6_row3_col0\" class=\"data row3 col0\" >0.574</td>\n",
       "      <td id=\"T_0cce6_row3_col1\" class=\"data row3 col1\" >0.918</td>\n",
       "      <td id=\"T_0cce6_row3_col2\" class=\"data row3 col2\" >0.417</td>\n",
       "      <td id=\"T_0cce6_row3_col3\" class=\"data row3 col3\" >0.504</td>\n",
       "      <td id=\"T_0cce6_row3_col4\" class=\"data row3 col4\" >0.557</td>\n",
       "      <td id=\"T_0cce6_row3_col5\" class=\"data row3 col5\" >0.884</td>\n",
       "      <td id=\"T_0cce6_row3_col6\" class=\"data row3 col6\" >0.406</td>\n",
       "      <td id=\"T_0cce6_row3_col7\" class=\"data row3 col7\" >0.543</td>\n",
       "      <td id=\"T_0cce6_row3_col8\" class=\"data row3 col8\" >0.699</td>\n",
       "      <td id=\"T_0cce6_row3_col9\" class=\"data row3 col9\" >0.752</td>\n",
       "      <td id=\"T_0cce6_row3_col10\" class=\"data row3 col10\" >0.652</td>\n",
       "      <td id=\"T_0cce6_row3_col11\" class=\"data row3 col11\" >0.640</td>\n",
       "      <td id=\"T_0cce6_row3_col12\" class=\"data row3 col12\" >0.580</td>\n",
       "      <td id=\"T_0cce6_row3_col13\" class=\"data row3 col13\" >0.641</td>\n",
       "      <td id=\"T_0cce6_row3_col14\" class=\"data row3 col14\" >0.597</td>\n",
       "      <td id=\"T_0cce6_row3_col15\" class=\"data row3 col15\" >0.516</td>\n",
       "      <td id=\"T_0cce6_row3_col16\" class=\"data row3 col16\" >0.490</td>\n",
       "      <td id=\"T_0cce6_row3_col17\" class=\"data row3 col17\" >0.476</td>\n",
       "      <td id=\"T_0cce6_row3_col18\" class=\"data row3 col18\" >0.623</td>\n",
       "      <td id=\"T_0cce6_row3_col19\" class=\"data row3 col19\" >0.358</td>\n",
       "      <td id=\"T_0cce6_row3_col20\" class=\"data row3 col20\" >0.393</td>\n",
       "      <td id=\"T_0cce6_row3_col21\" class=\"data row3 col21\" >0.429</td>\n",
       "      <td id=\"T_0cce6_row3_col22\" class=\"data row3 col22\" >0.649</td>\n",
       "      <td id=\"T_0cce6_row3_col23\" class=\"data row3 col23\" >0.284</td>\n",
       "      <td id=\"T_0cce6_row3_col24\" class=\"data row3 col24\" >0.928</td>\n",
       "      <td id=\"T_0cce6_row3_col25\" class=\"data row3 col25\" >0.882</td>\n",
       "      <td id=\"T_0cce6_row3_col26\" class=\"data row3 col26\" >1.000</td>\n",
       "      <td id=\"T_0cce6_row3_col27\" class=\"data row3 col27\" >0.933</td>\n",
       "    </tr>\n",
       "  </tbody>\n",
       "</table>\n"
      ],
      "text/plain": [
       "<pandas.io.formats.style.Styler at 0x7f644438a790>"
      ]
     },
     "execution_count": 22,
     "metadata": {},
     "output_type": "execute_result"
    }
   ],
   "source": [
    "(\n",
    "    df_range_wise\n",
    "    .style\n",
    "    .format(precision=3)\n",
    "    .apply(highlight_max, props='color:white;background-color:darkblue', axis=0)\n",
    ")"
   ]
  },
  {
   "cell_type": "code",
   "execution_count": 23,
   "id": "40ca7aab-ca83-40c6-ad64-8195daf7b8be",
   "metadata": {},
   "outputs": [
    {
     "data": {
      "text/html": [
       "<style type=\"text/css\">\n",
       "#T_b2181_row3_col0, #T_b2181_row3_col1, #T_b2181_row3_col2, #T_b2181_row3_col3, #T_b2181_row3_col4, #T_b2181_row3_col5, #T_b2181_row3_col6 {\n",
       "  color: white;\n",
       "  background-color: darkblue;\n",
       "}\n",
       "</style>\n",
       "<table id=\"T_b2181\">\n",
       "  <thead>\n",
       "    <tr>\n",
       "      <th class=\"blank level0\" >&nbsp;</th>\n",
       "      <th id=\"T_b2181_level0_col0\" class=\"col_heading level0 col0\" >SWAT</th>\n",
       "      <th id=\"T_b2181_level0_col1\" class=\"col_heading level0 col1\" >WADI_127</th>\n",
       "      <th id=\"T_b2181_level0_col2\" class=\"col_heading level0 col2\" >WADI_112</th>\n",
       "      <th id=\"T_b2181_level0_col3\" class=\"col_heading level0 col3\" >SMD</th>\n",
       "      <th id=\"T_b2181_level0_col4\" class=\"col_heading level0 col4\" >MSL</th>\n",
       "      <th id=\"T_b2181_level0_col5\" class=\"col_heading level0 col5\" >SMAP</th>\n",
       "      <th id=\"T_b2181_level0_col6\" class=\"col_heading level0 col6\" >UCR_IB</th>\n",
       "    </tr>\n",
       "    <tr>\n",
       "      <th class=\"blank level1\" >&nbsp;</th>\n",
       "      <th id=\"T_b2181_level1_col0\" class=\"col_heading level1 col0\" >F1</th>\n",
       "      <th id=\"T_b2181_level1_col1\" class=\"col_heading level1 col1\" >F1</th>\n",
       "      <th id=\"T_b2181_level1_col2\" class=\"col_heading level1 col2\" >F1</th>\n",
       "      <th id=\"T_b2181_level1_col3\" class=\"col_heading level1 col3\" >F1</th>\n",
       "      <th id=\"T_b2181_level1_col4\" class=\"col_heading level1 col4\" >F1</th>\n",
       "      <th id=\"T_b2181_level1_col5\" class=\"col_heading level1 col5\" >F1</th>\n",
       "      <th id=\"T_b2181_level1_col6\" class=\"col_heading level1 col6\" >F1</th>\n",
       "    </tr>\n",
       "  </thead>\n",
       "  <tbody>\n",
       "    <tr>\n",
       "      <th id=\"T_b2181_level0_row0\" class=\"row_heading level0 row0\" >Sensor Range Deviation</th>\n",
       "      <td id=\"T_b2181_row0_col0\" class=\"data row0 col0\" >0.230</td>\n",
       "      <td id=\"T_b2181_row0_col1\" class=\"data row0 col1\" >0.098</td>\n",
       "      <td id=\"T_b2181_row0_col2\" class=\"data row0 col2\" >0.526</td>\n",
       "      <td id=\"T_b2181_row0_col3\" class=\"data row0 col3\" >0.116</td>\n",
       "      <td id=\"T_b2181_row0_col4\" class=\"data row0 col4\" >0.217</td>\n",
       "      <td id=\"T_b2181_row0_col5\" class=\"data row0 col5\" >0.173</td>\n",
       "      <td id=\"T_b2181_row0_col6\" class=\"data row0 col6\" >0.023</td>\n",
       "    </tr>\n",
       "    <tr>\n",
       "      <th id=\"T_b2181_level0_row1\" class=\"row_heading level0 row1\" >Simple L2_norm</th>\n",
       "      <td id=\"T_b2181_row1_col0\" class=\"data row1 col0\" >0.366</td>\n",
       "      <td id=\"T_b2181_row1_col1\" class=\"data row1 col1\" >0.410</td>\n",
       "      <td id=\"T_b2181_row1_col2\" class=\"data row1 col2\" >0.607</td>\n",
       "      <td id=\"T_b2181_row1_col3\" class=\"data row1 col3\" >0.338</td>\n",
       "      <td id=\"T_b2181_row1_col4\" class=\"data row1 col4\" >0.419</td>\n",
       "      <td id=\"T_b2181_row1_col5\" class=\"data row1 col5\" >0.361</td>\n",
       "      <td id=\"T_b2181_row1_col6\" class=\"data row1 col6\" >0.090</td>\n",
       "    </tr>\n",
       "    <tr>\n",
       "      <th id=\"T_b2181_level0_row2\" class=\"row_heading level0 row2\" >1-NN Distance</th>\n",
       "      <td id=\"T_b2181_row2_col0\" class=\"data row2 col0\" >0.372</td>\n",
       "      <td id=\"T_b2181_row2_col1\" class=\"data row2 col1\" >0.410</td>\n",
       "      <td id=\"T_b2181_row2_col2\" class=\"data row2 col2\" >0.618</td>\n",
       "      <td id=\"T_b2181_row2_col3\" class=\"data row2 col3\" >0.384</td>\n",
       "      <td id=\"T_b2181_row2_col4\" class=\"data row2 col4\" >0.414</td>\n",
       "      <td id=\"T_b2181_row2_col5\" class=\"data row2 col5\" >0.362</td>\n",
       "      <td id=\"T_b2181_row2_col6\" class=\"data row2 col6\" >0.882</td>\n",
       "    </tr>\n",
       "    <tr>\n",
       "      <th id=\"T_b2181_level0_row3\" class=\"row_heading level0 row3\" >PCA_Error</th>\n",
       "      <td id=\"T_b2181_row3_col0\" class=\"data row3 col0\" >0.574</td>\n",
       "      <td id=\"T_b2181_row3_col1\" class=\"data row3 col1\" >0.557</td>\n",
       "      <td id=\"T_b2181_row3_col2\" class=\"data row3 col2\" >0.699</td>\n",
       "      <td id=\"T_b2181_row3_col3\" class=\"data row3 col3\" >0.580</td>\n",
       "      <td id=\"T_b2181_row3_col4\" class=\"data row3 col4\" >0.490</td>\n",
       "      <td id=\"T_b2181_row3_col5\" class=\"data row3 col5\" >0.393</td>\n",
       "      <td id=\"T_b2181_row3_col6\" class=\"data row3 col6\" >0.928</td>\n",
       "    </tr>\n",
       "  </tbody>\n",
       "</table>\n"
      ],
      "text/plain": [
       "<pandas.io.formats.style.Styler at 0x7f644438b490>"
      ]
     },
     "execution_count": 23,
     "metadata": {},
     "output_type": "execute_result"
    }
   ],
   "source": [
    "(\n",
    "    df_range_wise\n",
    "    .drop(['P', 'R','AUPRC'], axis=1, level=1)\n",
    "    .style\n",
    "    .format(precision=3)\n",
    "    .apply(highlight_max, props='color:white;background-color:darkblue', axis=0)\n",
    ")"
   ]
  }
 ],
 "metadata": {
  "kernelspec": {
   "display_name": "Python 3 (ipykernel)",
   "language": "python",
   "name": "python3"
  },
  "language_info": {
   "codemirror_mode": {
    "name": "ipython",
    "version": 3
   },
   "file_extension": ".py",
   "mimetype": "text/x-python",
   "name": "python",
   "nbconvert_exporter": "python",
   "pygments_lexer": "ipython3",
   "version": "3.9.0"
  }
 },
 "nbformat": 4,
 "nbformat_minor": 5
}
